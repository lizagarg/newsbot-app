{
 "cells": [
  {
   "cell_type": "code",
   "execution_count": 1,
   "id": "d02e69ff-25e0-495e-a07b-6ce1fe26167e",
   "metadata": {},
   "outputs": [
    {
     "name": "stdout",
     "output_type": "stream",
     "text": [
      "Requirement already satisfied: langchain in c:\\users\\hp\\appdata\\local\\programs\\python\\python312\\lib\\site-packages (0.3.26)\n",
      "Requirement already satisfied: langchain-community in c:\\users\\hp\\appdata\\local\\programs\\python\\python312\\lib\\site-packages (0.3.27)\n",
      "Requirement already satisfied: langchain-core<1.0.0,>=0.3.66 in c:\\users\\hp\\appdata\\local\\programs\\python\\python312\\lib\\site-packages (from langchain) (0.3.67)\n",
      "Requirement already satisfied: langchain-text-splitters<1.0.0,>=0.3.8 in c:\\users\\hp\\appdata\\local\\programs\\python\\python312\\lib\\site-packages (from langchain) (0.3.8)\n",
      "Requirement already satisfied: langsmith>=0.1.17 in c:\\users\\hp\\appdata\\local\\programs\\python\\python312\\lib\\site-packages (from langchain) (0.4.4)\n",
      "Requirement already satisfied: pydantic<3.0.0,>=2.7.4 in c:\\users\\hp\\appdata\\local\\programs\\python\\python312\\lib\\site-packages (from langchain) (2.11.7)\n",
      "Requirement already satisfied: SQLAlchemy<3,>=1.4 in c:\\users\\hp\\appdata\\local\\programs\\python\\python312\\lib\\site-packages (from langchain) (2.0.41)\n",
      "Requirement already satisfied: requests<3,>=2 in c:\\users\\hp\\appdata\\local\\programs\\python\\python312\\lib\\site-packages (from langchain) (2.31.0)\n",
      "Requirement already satisfied: PyYAML>=5.3 in c:\\users\\hp\\appdata\\local\\programs\\python\\python312\\lib\\site-packages (from langchain) (6.0.1)\n",
      "Requirement already satisfied: tenacity!=8.4.0,<10.0.0,>=8.1.0 in c:\\users\\hp\\appdata\\local\\programs\\python\\python312\\lib\\site-packages (from langchain-core<1.0.0,>=0.3.66->langchain) (9.1.2)\n",
      "Requirement already satisfied: jsonpatch<2.0,>=1.33 in c:\\users\\hp\\appdata\\local\\programs\\python\\python312\\lib\\site-packages (from langchain-core<1.0.0,>=0.3.66->langchain) (1.33)\n",
      "Requirement already satisfied: packaging<25,>=23.2 in c:\\users\\hp\\appdata\\local\\programs\\python\\python312\\lib\\site-packages (from langchain-core<1.0.0,>=0.3.66->langchain) (24.0)\n",
      "Requirement already satisfied: typing-extensions>=4.7 in c:\\users\\hp\\appdata\\local\\programs\\python\\python312\\lib\\site-packages (from langchain-core<1.0.0,>=0.3.66->langchain) (4.12.2)\n",
      "Requirement already satisfied: jsonpointer>=1.9 in c:\\users\\hp\\appdata\\local\\programs\\python\\python312\\lib\\site-packages (from jsonpatch<2.0,>=1.33->langchain-core<1.0.0,>=0.3.66->langchain) (2.4)\n",
      "Requirement already satisfied: annotated-types>=0.6.0 in c:\\users\\hp\\appdata\\local\\programs\\python\\python312\\lib\\site-packages (from pydantic<3.0.0,>=2.7.4->langchain) (0.7.0)\n",
      "Requirement already satisfied: pydantic-core==2.33.2 in c:\\users\\hp\\appdata\\local\\programs\\python\\python312\\lib\\site-packages (from pydantic<3.0.0,>=2.7.4->langchain) (2.33.2)\n",
      "Requirement already satisfied: typing-inspection>=0.4.0 in c:\\users\\hp\\appdata\\local\\programs\\python\\python312\\lib\\site-packages (from pydantic<3.0.0,>=2.7.4->langchain) (0.4.1)\n",
      "Requirement already satisfied: charset-normalizer<4,>=2 in c:\\users\\hp\\appdata\\local\\programs\\python\\python312\\lib\\site-packages (from requests<3,>=2->langchain) (3.3.2)\n",
      "Requirement already satisfied: idna<4,>=2.5 in c:\\users\\hp\\appdata\\local\\programs\\python\\python312\\lib\\site-packages (from requests<3,>=2->langchain) (3.6)\n",
      "Requirement already satisfied: urllib3<3,>=1.21.1 in c:\\users\\hp\\appdata\\local\\programs\\python\\python312\\lib\\site-packages (from requests<3,>=2->langchain) (2.2.1)\n",
      "Requirement already satisfied: certifi>=2017.4.17 in c:\\users\\hp\\appdata\\local\\programs\\python\\python312\\lib\\site-packages (from requests<3,>=2->langchain) (2024.2.2)\n",
      "Requirement already satisfied: greenlet>=1 in c:\\users\\hp\\appdata\\local\\programs\\python\\python312\\lib\\site-packages (from SQLAlchemy<3,>=1.4->langchain) (3.2.3)\n",
      "Requirement already satisfied: aiohttp<4.0.0,>=3.8.3 in c:\\users\\hp\\appdata\\local\\programs\\python\\python312\\lib\\site-packages (from langchain-community) (3.12.13)\n",
      "Requirement already satisfied: dataclasses-json<0.7,>=0.5.7 in c:\\users\\hp\\appdata\\local\\programs\\python\\python312\\lib\\site-packages (from langchain-community) (0.6.7)\n",
      "Requirement already satisfied: pydantic-settings<3.0.0,>=2.4.0 in c:\\users\\hp\\appdata\\local\\programs\\python\\python312\\lib\\site-packages (from langchain-community) (2.10.1)\n",
      "Requirement already satisfied: httpx-sse<1.0.0,>=0.4.0 in c:\\users\\hp\\appdata\\local\\programs\\python\\python312\\lib\\site-packages (from langchain-community) (0.4.1)\n",
      "Requirement already satisfied: numpy>=1.26.2 in c:\\users\\hp\\appdata\\local\\programs\\python\\python312\\lib\\site-packages (from langchain-community) (1.26.4)\n",
      "Requirement already satisfied: aiohappyeyeballs>=2.5.0 in c:\\users\\hp\\appdata\\local\\programs\\python\\python312\\lib\\site-packages (from aiohttp<4.0.0,>=3.8.3->langchain-community) (2.6.1)\n",
      "Requirement already satisfied: aiosignal>=1.1.2 in c:\\users\\hp\\appdata\\local\\programs\\python\\python312\\lib\\site-packages (from aiohttp<4.0.0,>=3.8.3->langchain-community) (1.3.2)\n",
      "Requirement already satisfied: attrs>=17.3.0 in c:\\users\\hp\\appdata\\local\\programs\\python\\python312\\lib\\site-packages (from aiohttp<4.0.0,>=3.8.3->langchain-community) (23.2.0)\n",
      "Requirement already satisfied: frozenlist>=1.1.1 in c:\\users\\hp\\appdata\\local\\programs\\python\\python312\\lib\\site-packages (from aiohttp<4.0.0,>=3.8.3->langchain-community) (1.7.0)\n",
      "Requirement already satisfied: multidict<7.0,>=4.5 in c:\\users\\hp\\appdata\\local\\programs\\python\\python312\\lib\\site-packages (from aiohttp<4.0.0,>=3.8.3->langchain-community) (6.6.3)\n",
      "Requirement already satisfied: propcache>=0.2.0 in c:\\users\\hp\\appdata\\local\\programs\\python\\python312\\lib\\site-packages (from aiohttp<4.0.0,>=3.8.3->langchain-community) (0.3.2)\n",
      "Requirement already satisfied: yarl<2.0,>=1.17.0 in c:\\users\\hp\\appdata\\local\\programs\\python\\python312\\lib\\site-packages (from aiohttp<4.0.0,>=3.8.3->langchain-community) (1.20.1)\n",
      "Requirement already satisfied: marshmallow<4.0.0,>=3.18.0 in c:\\users\\hp\\appdata\\local\\programs\\python\\python312\\lib\\site-packages (from dataclasses-json<0.7,>=0.5.7->langchain-community) (3.26.1)\n",
      "Requirement already satisfied: typing-inspect<1,>=0.4.0 in c:\\users\\hp\\appdata\\local\\programs\\python\\python312\\lib\\site-packages (from dataclasses-json<0.7,>=0.5.7->langchain-community) (0.9.0)\n",
      "Requirement already satisfied: python-dotenv>=0.21.0 in c:\\users\\hp\\appdata\\local\\programs\\python\\python312\\lib\\site-packages (from pydantic-settings<3.0.0,>=2.4.0->langchain-community) (1.1.1)\n",
      "Requirement already satisfied: mypy-extensions>=0.3.0 in c:\\users\\hp\\appdata\\local\\programs\\python\\python312\\lib\\site-packages (from typing-inspect<1,>=0.4.0->dataclasses-json<0.7,>=0.5.7->langchain-community) (1.1.0)\n",
      "Requirement already satisfied: httpx<1,>=0.23.0 in c:\\users\\hp\\appdata\\local\\programs\\python\\python312\\lib\\site-packages (from langsmith>=0.1.17->langchain) (0.27.0)\n",
      "Requirement already satisfied: orjson<4.0.0,>=3.9.14 in c:\\users\\hp\\appdata\\local\\programs\\python\\python312\\lib\\site-packages (from langsmith>=0.1.17->langchain) (3.10.18)\n",
      "Requirement already satisfied: requests-toolbelt<2.0.0,>=1.0.0 in c:\\users\\hp\\appdata\\local\\programs\\python\\python312\\lib\\site-packages (from langsmith>=0.1.17->langchain) (1.0.0)\n",
      "Requirement already satisfied: zstandard<0.24.0,>=0.23.0 in c:\\users\\hp\\appdata\\local\\programs\\python\\python312\\lib\\site-packages (from langsmith>=0.1.17->langchain) (0.23.0)\n",
      "Requirement already satisfied: anyio in c:\\users\\hp\\appdata\\local\\programs\\python\\python312\\lib\\site-packages (from httpx<1,>=0.23.0->langsmith>=0.1.17->langchain) (4.3.0)\n",
      "Requirement already satisfied: httpcore==1.* in c:\\users\\hp\\appdata\\local\\programs\\python\\python312\\lib\\site-packages (from httpx<1,>=0.23.0->langsmith>=0.1.17->langchain) (1.0.5)\n",
      "Requirement already satisfied: sniffio in c:\\users\\hp\\appdata\\local\\programs\\python\\python312\\lib\\site-packages (from httpx<1,>=0.23.0->langsmith>=0.1.17->langchain) (1.3.1)\n",
      "Requirement already satisfied: h11<0.15,>=0.13 in c:\\users\\hp\\appdata\\local\\programs\\python\\python312\\lib\\site-packages (from httpcore==1.*->httpx<1,>=0.23.0->langsmith>=0.1.17->langchain) (0.14.0)\n"
     ]
    }
   ],
   "source": [
    "!pip install --upgrade langchain langchain-community"
   ]
  },
  {
   "cell_type": "code",
   "execution_count": 2,
   "id": "0052a9df-86dd-4537-b39e-df0211944708",
   "metadata": {},
   "outputs": [],
   "source": [
    "from langchain_community.document_loaders import TextLoader"
   ]
  },
  {
   "cell_type": "code",
   "execution_count": 4,
   "id": "fd5e1173-a3fb-46be-b6f2-c5a1f76f264a",
   "metadata": {},
   "outputs": [
    {
     "data": {
      "text/plain": [
       "\"The stock of NVIDIA Corp (NASDAQ:NVDA) experienced a daily loss of -3.56% and a 3-month gain of 32.35%. With an Earnings Per Share (EPS) (EPS) of $1.92, the question arises: is the stock significantly overvalued? This article aims to provide a detailed valuation analysis of NVIDIA, offering insights into its financial strength, profitability, growth, and more. We invite you to delve into this comprehensive analysis.\\n\\nCompany Overview\\nWarning! GuruFocus has detected 10 Warning Signs with NVDA. Click here to check it out.\\n\\nNVDA 30-Year Financial Data\\n\\nThe intrinsic value of NVDA\\n\\n\\nNVIDIA Corp (NASDAQ:NVDA) is a leading designer of discrete graphics processing units that enhance the experience on computing platforms. The firm's chips are widely used in various end markets, including PC gaming and data centers. In recent years, NVIDIA has broadened its focus from traditional PC graphics applications such as gaming to more complex and favorable opportunities, including artificial intelligence and autonomous driving, leveraging the high-performance capabilities of its products.\\n\\nCurrently, NVIDIA's stock price stands at $418.01, significantly higher than the GF Value of $310.28, indicating the stock might be overvalued. With a market cap of $1 trillion, the valuation seems steep. The following analysis aims to delve deeper into the company's value.\\n\\nIs NVIDIA's Stock Significantly Overvalued? A Comprehensive Valuation Analysis\\nIs NVIDIA's Stock Significantly Overvalued? A Comprehensive Valuation Analysis\\nUnderstanding the GF Value\\nThe GF Value is a unique measure of the intrinsic value of a stock, calculated based on historical trading multiples, a GuruFocus adjustment factor, and future business performance estimates. If the stock price is significantly above the GF Value Line, it is overvalued, and its future return is likely to be poor. Conversely, if it is significantly below the GF Value Line, its future return will likely be higher.\\n\\nAccording to GuruFocus Value calculation, NVIDIA (NASDAQ:NVDA) appears to be significantly overvalued. The stock's current price of $418.01 per share and the market cap of $1 trillion further strengthen this assumption.\\n\\nGiven that NVIDIA is significantly overvalued, the long-term return of its stock is likely to be much lower than its future business growth.\\n\\nIs NVIDIA's Stock Significantly Overvalued? A Comprehensive Valuation Analysis\\nIs NVIDIA's Stock Significantly Overvalued? A Comprehensive Valuation Analysis\\nLink: These companies may deliver higher future returns at reduced risk.\\n\\nFinancial Strength of NVIDIA\\nExamining the financial strength of a company is crucial before investing in its stock. Companies with poor financial strength pose a higher risk of permanent loss. NVIDIA's cash-to-debt ratio of 1.27 is worse than 58.04% of companies in the Semiconductors industry. However, NVIDIA's overall financial strength is 8 out of 10, indicating a strong financial position.\\n\\nIs NVIDIA's Stock Significantly Overvalued? A Comprehensive Valuation Analysis\\nIs NVIDIA's Stock Significantly Overvalued? A Comprehensive Valuation Analysis\\nProfitability and Growth\\nConsistent profitability over the long term reduces the risk for investors. NVIDIA, with its profitability ranking of 10 out of 10, has been profitable for the past 10 years. The company's operating margin of 17.37% ranks better than 76.5% of companies in the Semiconductors industry.\\n\\nHowever, growth is a crucial factor in a company's valuation. NVIDIA's growth ranks worse than 52.99% of companies in the Semiconductors industry, with its 3-year average revenue growth rate better than 87.88% of companies in the industry.\\n\\nROIC vs WACC\\nComparing a company's return on invested capital (ROIC) to its weighted average cost of capital (WACC) is an effective way to evaluate its profitability. Over the past 12 months, NVIDIA's ROIC was 20.32 while its WACC was 16.74, suggesting that the company is creating value for its shareholders.\\n\\nIs NVIDIA's Stock Significantly Overvalued? A Comprehensive Valuation Analysis\\nIs NVIDIA's Stock Significantly Overvalued? A Comprehensive Valuation Analysis\\nConclusion\\nIn conclusion, NVIDIA (NASDAQ:NVDA) appears to be significantly overvalued. Despite its strong financial condition and profitability, its growth ranks lower than 52.99% of companies in the Semiconductors industry. To learn more about NVIDIA stock, you can check out its 30-Year Financials here.\\n\\nTo find out the high quality companies that may deliver above-average returns, please check out GuruFocus High Quality Low Capex Screener.\\n\\nThis article first appeared on GuruFocus.\""
      ]
     },
     "execution_count": 4,
     "metadata": {},
     "output_type": "execute_result"
    }
   ],
   "source": [
    "loader= TextLoader(\"nvda_news_1.txt\")\n",
    "data=loader.load()\n",
    "data[0].page_content"
   ]
  },
  {
   "cell_type": "code",
   "execution_count": 5,
   "id": "9e2efc66-1344-446d-a954-7e1e7106375f",
   "metadata": {},
   "outputs": [
    {
     "name": "stdout",
     "output_type": "stream",
     "text": [
      "Collecting unstructured\n",
      "  Downloading unstructured-0.18.2-py3-none-any.whl.metadata (24 kB)\n",
      "Collecting libmagic\n",
      "  Downloading libmagic-1.0.tar.gz (3.7 kB)\n",
      "  Installing build dependencies: started\n",
      "  Installing build dependencies: finished with status 'done'\n",
      "  Getting requirements to build wheel: started\n",
      "  Getting requirements to build wheel: finished with status 'done'\n",
      "  Preparing metadata (pyproject.toml): started\n",
      "  Preparing metadata (pyproject.toml): finished with status 'done'\n",
      "Collecting python-magic\n",
      "  Downloading python_magic-0.4.27-py2.py3-none-any.whl.metadata (5.8 kB)\n",
      "Collecting python-magic-bin\n",
      "  Downloading python_magic_bin-0.4.14-py2.py3-none-win_amd64.whl.metadata (710 bytes)\n",
      "Collecting chardet (from unstructured)\n",
      "  Downloading chardet-5.2.0-py3-none-any.whl.metadata (3.4 kB)\n",
      "Requirement already satisfied: filetype in c:\\users\\hp\\appdata\\local\\programs\\python\\python312\\lib\\site-packages (from unstructured) (1.2.0)\n",
      "Requirement already satisfied: lxml in c:\\users\\hp\\appdata\\local\\programs\\python\\python312\\lib\\site-packages (from unstructured) (5.3.0)\n",
      "Collecting nltk (from unstructured)\n",
      "  Downloading nltk-3.9.1-py3-none-any.whl.metadata (2.9 kB)\n",
      "Requirement already satisfied: requests in c:\\users\\hp\\appdata\\local\\programs\\python\\python312\\lib\\site-packages (from unstructured) (2.31.0)\n",
      "Requirement already satisfied: beautifulsoup4 in c:\\users\\hp\\appdata\\local\\programs\\python\\python312\\lib\\site-packages (from unstructured) (4.12.3)\n",
      "Collecting emoji (from unstructured)\n",
      "  Downloading emoji-2.14.1-py3-none-any.whl.metadata (5.7 kB)\n",
      "Requirement already satisfied: dataclasses-json in c:\\users\\hp\\appdata\\local\\programs\\python\\python312\\lib\\site-packages (from unstructured) (0.6.7)\n",
      "Collecting python-iso639 (from unstructured)\n",
      "  Downloading python_iso639-2025.2.18-py3-none-any.whl.metadata (14 kB)\n",
      "Collecting langdetect (from unstructured)\n",
      "  Downloading langdetect-1.0.9.tar.gz (981 kB)\n",
      "     ---------------------------------------- 0.0/981.5 kB ? eta -:--:--\n",
      "     -------------------------------------- 981.5/981.5 kB 5.8 MB/s eta 0:00:00\n",
      "  Installing build dependencies: started\n",
      "  Installing build dependencies: finished with status 'done'\n",
      "  Getting requirements to build wheel: started\n",
      "  Getting requirements to build wheel: finished with status 'done'\n",
      "  Preparing metadata (pyproject.toml): started\n",
      "  Preparing metadata (pyproject.toml): finished with status 'done'\n",
      "Requirement already satisfied: numpy in c:\\users\\hp\\appdata\\local\\programs\\python\\python312\\lib\\site-packages (from unstructured) (1.26.4)\n",
      "Collecting rapidfuzz (from unstructured)\n",
      "  Using cached rapidfuzz-3.13.0-cp312-cp312-win_amd64.whl.metadata (12 kB)\n",
      "Collecting backoff (from unstructured)\n",
      "  Downloading backoff-2.2.1-py3-none-any.whl.metadata (14 kB)\n",
      "Requirement already satisfied: typing-extensions in c:\\users\\hp\\appdata\\local\\programs\\python\\python312\\lib\\site-packages (from unstructured) (4.12.2)\n",
      "Collecting unstructured-client (from unstructured)\n",
      "  Downloading unstructured_client-0.38.1-py3-none-any.whl.metadata (21 kB)\n",
      "Collecting wrapt (from unstructured)\n",
      "  Downloading wrapt-1.17.2-cp312-cp312-win_amd64.whl.metadata (6.5 kB)\n",
      "Requirement already satisfied: tqdm in c:\\users\\hp\\appdata\\local\\programs\\python\\python312\\lib\\site-packages (from unstructured) (4.67.1)\n",
      "Requirement already satisfied: psutil in c:\\users\\hp\\appdata\\local\\programs\\python\\python312\\lib\\site-packages (from unstructured) (5.9.8)\n",
      "Collecting python-oxmsg (from unstructured)\n",
      "  Downloading python_oxmsg-0.0.2-py3-none-any.whl.metadata (5.0 kB)\n",
      "Collecting html5lib (from unstructured)\n",
      "  Downloading html5lib-1.1-py2.py3-none-any.whl.metadata (16 kB)\n",
      "Requirement already satisfied: soupsieve>1.2 in c:\\users\\hp\\appdata\\local\\programs\\python\\python312\\lib\\site-packages (from beautifulsoup4->unstructured) (2.5)\n",
      "Requirement already satisfied: marshmallow<4.0.0,>=3.18.0 in c:\\users\\hp\\appdata\\local\\programs\\python\\python312\\lib\\site-packages (from dataclasses-json->unstructured) (3.26.1)\n",
      "Requirement already satisfied: typing-inspect<1,>=0.4.0 in c:\\users\\hp\\appdata\\local\\programs\\python\\python312\\lib\\site-packages (from dataclasses-json->unstructured) (0.9.0)\n",
      "Requirement already satisfied: packaging>=17.0 in c:\\users\\hp\\appdata\\local\\programs\\python\\python312\\lib\\site-packages (from marshmallow<4.0.0,>=3.18.0->dataclasses-json->unstructured) (24.0)\n",
      "Requirement already satisfied: mypy-extensions>=0.3.0 in c:\\users\\hp\\appdata\\local\\programs\\python\\python312\\lib\\site-packages (from typing-inspect<1,>=0.4.0->dataclasses-json->unstructured) (1.1.0)\n",
      "Requirement already satisfied: six>=1.9 in c:\\users\\hp\\appdata\\local\\programs\\python\\python312\\lib\\site-packages (from html5lib->unstructured) (1.16.0)\n",
      "Requirement already satisfied: webencodings in c:\\users\\hp\\appdata\\local\\programs\\python\\python312\\lib\\site-packages (from html5lib->unstructured) (0.5.1)\n",
      "Collecting click (from nltk->unstructured)\n",
      "  Downloading click-8.2.1-py3-none-any.whl.metadata (2.5 kB)\n",
      "Collecting joblib (from nltk->unstructured)\n",
      "  Downloading joblib-1.5.1-py3-none-any.whl.metadata (5.6 kB)\n",
      "Requirement already satisfied: regex>=2021.8.3 in c:\\users\\hp\\appdata\\local\\programs\\python\\python312\\lib\\site-packages (from nltk->unstructured) (2024.11.6)\n",
      "Requirement already satisfied: colorama in c:\\users\\hp\\appdata\\local\\programs\\python\\python312\\lib\\site-packages (from click->nltk->unstructured) (0.4.6)\n",
      "Collecting olefile (from python-oxmsg->unstructured)\n",
      "  Downloading olefile-0.47-py2.py3-none-any.whl.metadata (9.7 kB)\n",
      "Requirement already satisfied: charset-normalizer<4,>=2 in c:\\users\\hp\\appdata\\local\\programs\\python\\python312\\lib\\site-packages (from requests->unstructured) (3.3.2)\n",
      "Requirement already satisfied: idna<4,>=2.5 in c:\\users\\hp\\appdata\\local\\programs\\python\\python312\\lib\\site-packages (from requests->unstructured) (3.6)\n",
      "Requirement already satisfied: urllib3<3,>=1.21.1 in c:\\users\\hp\\appdata\\local\\programs\\python\\python312\\lib\\site-packages (from requests->unstructured) (2.2.1)\n",
      "Requirement already satisfied: certifi>=2017.4.17 in c:\\users\\hp\\appdata\\local\\programs\\python\\python312\\lib\\site-packages (from requests->unstructured) (2024.2.2)\n",
      "Collecting aiofiles>=24.1.0 (from unstructured-client->unstructured)\n",
      "  Downloading aiofiles-24.1.0-py3-none-any.whl.metadata (10 kB)\n",
      "Collecting cryptography>=3.1 (from unstructured-client->unstructured)\n",
      "  Downloading cryptography-45.0.5-cp311-abi3-win_amd64.whl.metadata (5.7 kB)\n",
      "Requirement already satisfied: httpx>=0.27.0 in c:\\users\\hp\\appdata\\local\\programs\\python\\python312\\lib\\site-packages (from unstructured-client->unstructured) (0.27.0)\n",
      "Requirement already satisfied: nest-asyncio>=1.6.0 in c:\\users\\hp\\appdata\\local\\programs\\python\\python312\\lib\\site-packages (from unstructured-client->unstructured) (1.6.0)\n",
      "Requirement already satisfied: pydantic>=2.11.2 in c:\\users\\hp\\appdata\\local\\programs\\python\\python312\\lib\\site-packages (from unstructured-client->unstructured) (2.11.7)\n",
      "Collecting pypdf>=4.0 (from unstructured-client->unstructured)\n",
      "  Downloading pypdf-5.7.0-py3-none-any.whl.metadata (7.2 kB)\n",
      "Requirement already satisfied: requests-toolbelt>=1.0.0 in c:\\users\\hp\\appdata\\local\\programs\\python\\python312\\lib\\site-packages (from unstructured-client->unstructured) (1.0.0)\n",
      "Requirement already satisfied: cffi>=1.14 in c:\\users\\hp\\appdata\\local\\programs\\python\\python312\\lib\\site-packages (from cryptography>=3.1->unstructured-client->unstructured) (1.16.0)\n",
      "Requirement already satisfied: pycparser in c:\\users\\hp\\appdata\\local\\programs\\python\\python312\\lib\\site-packages (from cffi>=1.14->cryptography>=3.1->unstructured-client->unstructured) (2.22)\n",
      "Requirement already satisfied: anyio in c:\\users\\hp\\appdata\\local\\programs\\python\\python312\\lib\\site-packages (from httpx>=0.27.0->unstructured-client->unstructured) (4.3.0)\n",
      "Requirement already satisfied: httpcore==1.* in c:\\users\\hp\\appdata\\local\\programs\\python\\python312\\lib\\site-packages (from httpx>=0.27.0->unstructured-client->unstructured) (1.0.5)\n",
      "Requirement already satisfied: sniffio in c:\\users\\hp\\appdata\\local\\programs\\python\\python312\\lib\\site-packages (from httpx>=0.27.0->unstructured-client->unstructured) (1.3.1)\n",
      "Requirement already satisfied: h11<0.15,>=0.13 in c:\\users\\hp\\appdata\\local\\programs\\python\\python312\\lib\\site-packages (from httpcore==1.*->httpx>=0.27.0->unstructured-client->unstructured) (0.14.0)\n",
      "Requirement already satisfied: annotated-types>=0.6.0 in c:\\users\\hp\\appdata\\local\\programs\\python\\python312\\lib\\site-packages (from pydantic>=2.11.2->unstructured-client->unstructured) (0.7.0)\n",
      "Requirement already satisfied: pydantic-core==2.33.2 in c:\\users\\hp\\appdata\\local\\programs\\python\\python312\\lib\\site-packages (from pydantic>=2.11.2->unstructured-client->unstructured) (2.33.2)\n",
      "Requirement already satisfied: typing-inspection>=0.4.0 in c:\\users\\hp\\appdata\\local\\programs\\python\\python312\\lib\\site-packages (from pydantic>=2.11.2->unstructured-client->unstructured) (0.4.1)\n",
      "Downloading unstructured-0.18.2-py3-none-any.whl (1.8 MB)\n",
      "   ---------------------------------------- 0.0/1.8 MB ? eta -:--:--\n",
      "   ----------------- ---------------------- 0.8/1.8 MB 6.6 MB/s eta 0:00:01\n",
      "   ---------------------------------------- 1.8/1.8 MB 4.4 MB/s eta 0:00:00\n",
      "Downloading python_magic-0.4.27-py2.py3-none-any.whl (13 kB)\n",
      "Downloading python_magic_bin-0.4.14-py2.py3-none-win_amd64.whl (409 kB)\n",
      "Downloading backoff-2.2.1-py3-none-any.whl (15 kB)\n",
      "Downloading chardet-5.2.0-py3-none-any.whl (199 kB)\n",
      "Downloading emoji-2.14.1-py3-none-any.whl (590 kB)\n",
      "   ---------------------------------------- 0.0/590.6 kB ? eta -:--:--\n",
      "   ---------------------------------------- 590.6/590.6 kB 3.5 MB/s eta 0:00:00\n",
      "Downloading html5lib-1.1-py2.py3-none-any.whl (112 kB)\n",
      "Downloading nltk-3.9.1-py3-none-any.whl (1.5 MB)\n",
      "   ---------------------------------------- 0.0/1.5 MB ? eta -:--:--\n",
      "   -------------------- ------------------- 0.8/1.5 MB 3.7 MB/s eta 0:00:01\n",
      "   ---------------------------------------- 1.5/1.5 MB 3.8 MB/s eta 0:00:00\n",
      "Downloading click-8.2.1-py3-none-any.whl (102 kB)\n",
      "Downloading joblib-1.5.1-py3-none-any.whl (307 kB)\n",
      "Downloading python_iso639-2025.2.18-py3-none-any.whl (167 kB)\n",
      "Downloading python_oxmsg-0.0.2-py3-none-any.whl (31 kB)\n",
      "Downloading olefile-0.47-py2.py3-none-any.whl (114 kB)\n",
      "Using cached rapidfuzz-3.13.0-cp312-cp312-win_amd64.whl (1.6 MB)\n",
      "Downloading unstructured_client-0.38.1-py3-none-any.whl (212 kB)\n",
      "Downloading aiofiles-24.1.0-py3-none-any.whl (15 kB)\n",
      "Downloading cryptography-45.0.5-cp311-abi3-win_amd64.whl (3.4 MB)\n",
      "   ---------------------------------------- 0.0/3.4 MB ? eta -:--:--\n",
      "   ------------ --------------------------- 1.0/3.4 MB 5.0 MB/s eta 0:00:01\n",
      "   --------------------- ------------------ 1.8/3.4 MB 4.4 MB/s eta 0:00:01\n",
      "   ------------------------------ --------- 2.6/3.4 MB 4.2 MB/s eta 0:00:01\n",
      "   ---------------------------------------- 3.4/3.4 MB 4.0 MB/s eta 0:00:00\n",
      "Downloading pypdf-5.7.0-py3-none-any.whl (305 kB)\n",
      "Downloading wrapt-1.17.2-cp312-cp312-win_amd64.whl (38 kB)\n",
      "Building wheels for collected packages: libmagic, langdetect\n",
      "  Building wheel for libmagic (pyproject.toml): started\n",
      "  Building wheel for libmagic (pyproject.toml): finished with status 'done'\n",
      "  Created wheel for libmagic: filename=libmagic-1.0-py3-none-any.whl size=4324 sha256=9dbc6c7a79a051c7ebec526882067b5cd0814d6e783e029e6b1a45a33f9d5d32\n",
      "  Stored in directory: c:\\users\\hp\\appdata\\local\\pip\\cache\\wheels\\ba\\32\\b5\\da21074580720b7a55fbf1a7597e3b1a325d12940ea6bd661b\n",
      "  Building wheel for langdetect (pyproject.toml): started\n",
      "  Building wheel for langdetect (pyproject.toml): finished with status 'done'\n",
      "  Created wheel for langdetect: filename=langdetect-1.0.9-py3-none-any.whl size=993363 sha256=0336d1e3d18a6fb88561edf78ce29c280d47999e1e224f57e50ce590afc4f1c0\n",
      "  Stored in directory: c:\\users\\hp\\appdata\\local\\pip\\cache\\wheels\\c1\\67\\88\\e844b5b022812e15a52e4eaa38a1e709e99f06f6639d7e3ba7\n",
      "Successfully built libmagic langdetect\n",
      "Installing collected packages: python-magic-bin, libmagic, wrapt, rapidfuzz, python-magic, python-iso639, pypdf, olefile, langdetect, joblib, html5lib, emoji, click, chardet, backoff, aiofiles, python-oxmsg, nltk, cryptography, unstructured-client, unstructured\n",
      "\n",
      "   --- ------------------------------------  2/21 [wrapt]\n",
      "   --- ------------------------------------  2/21 [wrapt]\n",
      "   ----- ----------------------------------  3/21 [rapidfuzz]\n",
      "   ----- ----------------------------------  3/21 [rapidfuzz]\n",
      "   ----- ----------------------------------  3/21 [rapidfuzz]\n",
      "   ----- ----------------------------------  3/21 [rapidfuzz]\n",
      "   ----- ----------------------------------  3/21 [rapidfuzz]\n",
      "   ----- ----------------------------------  3/21 [rapidfuzz]\n",
      "   --------- ------------------------------  5/21 [python-iso639]\n",
      "   ----------- ----------------------------  6/21 [pypdf]\n",
      "   ----------- ----------------------------  6/21 [pypdf]\n",
      "   ----------- ----------------------------  6/21 [pypdf]\n",
      "   ----------- ----------------------------  6/21 [pypdf]\n",
      "   ----------- ----------------------------  6/21 [pypdf]\n",
      "   ----------- ----------------------------  6/21 [pypdf]\n",
      "   ----------- ----------------------------  6/21 [pypdf]\n",
      "   ----------- ----------------------------  6/21 [pypdf]\n",
      "   ----------- ----------------------------  6/21 [pypdf]\n",
      "   ----------- ----------------------------  6/21 [pypdf]\n",
      "   ------------- --------------------------  7/21 [olefile]\n",
      "   ------------- --------------------------  7/21 [olefile]\n",
      "   --------------- ------------------------  8/21 [langdetect]\n",
      "   ----------------- ----------------------  9/21 [joblib]\n",
      "   ----------------- ----------------------  9/21 [joblib]\n",
      "   ----------------- ----------------------  9/21 [joblib]\n",
      "   ----------------- ----------------------  9/21 [joblib]\n",
      "   ----------------- ----------------------  9/21 [joblib]\n",
      "   ----------------- ----------------------  9/21 [joblib]\n",
      "   ----------------- ----------------------  9/21 [joblib]\n",
      "   ----------------- ----------------------  9/21 [joblib]\n",
      "   ----------------- ----------------------  9/21 [joblib]\n",
      "   ----------------- ----------------------  9/21 [joblib]\n",
      "   ----------------- ----------------------  9/21 [joblib]\n",
      "   ----------------- ----------------------  9/21 [joblib]\n",
      "   ------------------- -------------------- 10/21 [html5lib]\n",
      "   ------------------- -------------------- 10/21 [html5lib]\n",
      "   ------------------- -------------------- 10/21 [html5lib]\n",
      "   ------------------- -------------------- 10/21 [html5lib]\n",
      "   ------------------- -------------------- 10/21 [html5lib]\n",
      "   -------------------- ------------------- 11/21 [emoji]\n",
      "   -------------------- ------------------- 11/21 [emoji]\n",
      "   ---------------------- ----------------- 12/21 [click]\n",
      "   ---------------------- ----------------- 12/21 [click]\n",
      "   ---------------------- ----------------- 12/21 [click]\n",
      "   ------------------------ --------------- 13/21 [chardet]\n",
      "   ------------------------ --------------- 13/21 [chardet]\n",
      "   ------------------------ --------------- 13/21 [chardet]\n",
      "   ------------------------ --------------- 13/21 [chardet]\n",
      "   ------------------------ --------------- 13/21 [chardet]\n",
      "   ------------------------ --------------- 13/21 [chardet]\n",
      "   ------------------------ --------------- 13/21 [chardet]\n",
      "   ------------------------ --------------- 13/21 [chardet]\n",
      "   ------------------------ --------------- 13/21 [chardet]\n",
      "   -------------------------- ------------- 14/21 [backoff]\n",
      "   -------------------------- ------------- 14/21 [backoff]\n",
      "   ---------------------------- ----------- 15/21 [aiofiles]\n",
      "   ------------------------------ --------- 16/21 [python-oxmsg]\n",
      "   ------------------------------ --------- 16/21 [python-oxmsg]\n",
      "   ------------------------------ --------- 16/21 [python-oxmsg]\n",
      "   -------------------------------- ------- 17/21 [nltk]\n",
      "   -------------------------------- ------- 17/21 [nltk]\n",
      "   -------------------------------- ------- 17/21 [nltk]\n",
      "   -------------------------------- ------- 17/21 [nltk]\n",
      "   -------------------------------- ------- 17/21 [nltk]\n",
      "   -------------------------------- ------- 17/21 [nltk]\n",
      "   -------------------------------- ------- 17/21 [nltk]\n",
      "   -------------------------------- ------- 17/21 [nltk]\n",
      "   -------------------------------- ------- 17/21 [nltk]\n",
      "   -------------------------------- ------- 17/21 [nltk]\n",
      "   -------------------------------- ------- 17/21 [nltk]\n",
      "   -------------------------------- ------- 17/21 [nltk]\n",
      "   -------------------------------- ------- 17/21 [nltk]\n",
      "   -------------------------------- ------- 17/21 [nltk]\n",
      "   -------------------------------- ------- 17/21 [nltk]\n",
      "   -------------------------------- ------- 17/21 [nltk]\n",
      "   -------------------------------- ------- 17/21 [nltk]\n",
      "   -------------------------------- ------- 17/21 [nltk]\n",
      "   -------------------------------- ------- 17/21 [nltk]\n",
      "   -------------------------------- ------- 17/21 [nltk]\n",
      "   -------------------------------- ------- 17/21 [nltk]\n",
      "   -------------------------------- ------- 17/21 [nltk]\n",
      "   -------------------------------- ------- 17/21 [nltk]\n",
      "   -------------------------------- ------- 17/21 [nltk]\n",
      "   -------------------------------- ------- 17/21 [nltk]\n",
      "   -------------------------------- ------- 17/21 [nltk]\n",
      "   -------------------------------- ------- 17/21 [nltk]\n",
      "   -------------------------------- ------- 17/21 [nltk]\n",
      "   -------------------------------- ------- 17/21 [nltk]\n",
      "   -------------------------------- ------- 17/21 [nltk]\n",
      "   -------------------------------- ------- 17/21 [nltk]\n",
      "   -------------------------------- ------- 17/21 [nltk]\n",
      "   -------------------------------- ------- 17/21 [nltk]\n",
      "   -------------------------------- ------- 17/21 [nltk]\n",
      "   -------------------------------- ------- 17/21 [nltk]\n",
      "   -------------------------------- ------- 17/21 [nltk]\n",
      "   -------------------------------- ------- 17/21 [nltk]\n",
      "   -------------------------------- ------- 17/21 [nltk]\n",
      "   -------------------------------- ------- 17/21 [nltk]\n",
      "   -------------------------------- ------- 17/21 [nltk]\n",
      "   -------------------------------- ------- 17/21 [nltk]\n",
      "   -------------------------------- ------- 17/21 [nltk]\n",
      "   -------------------------------- ------- 17/21 [nltk]\n",
      "   -------------------------------- ------- 17/21 [nltk]\n",
      "   -------------------------------- ------- 17/21 [nltk]\n",
      "   -------------------------------- ------- 17/21 [nltk]\n",
      "   -------------------------------- ------- 17/21 [nltk]\n",
      "   -------------------------------- ------- 17/21 [nltk]\n",
      "   -------------------------------- ------- 17/21 [nltk]\n",
      "   -------------------------------- ------- 17/21 [nltk]\n",
      "   -------------------------------- ------- 17/21 [nltk]\n",
      "   -------------------------------- ------- 17/21 [nltk]\n",
      "   -------------------------------- ------- 17/21 [nltk]\n",
      "   -------------------------------- ------- 17/21 [nltk]\n",
      "   -------------------------------- ------- 17/21 [nltk]\n",
      "   -------------------------------- ------- 17/21 [nltk]\n",
      "   -------------------------------- ------- 17/21 [nltk]\n",
      "   ---------------------------------- ----- 18/21 [cryptography]\n",
      "   ---------------------------------- ----- 18/21 [cryptography]\n",
      "   ---------------------------------- ----- 18/21 [cryptography]\n",
      "   ---------------------------------- ----- 18/21 [cryptography]\n",
      "   ---------------------------------- ----- 18/21 [cryptography]\n",
      "   ---------------------------------- ----- 18/21 [cryptography]\n",
      "   ---------------------------------- ----- 18/21 [cryptography]\n",
      "   ---------------------------------- ----- 18/21 [cryptography]\n",
      "   ---------------------------------- ----- 18/21 [cryptography]\n",
      "   ---------------------------------- ----- 18/21 [cryptography]\n",
      "   ---------------------------------- ----- 18/21 [cryptography]\n",
      "   ------------------------------------ --- 19/21 [unstructured-client]\n",
      "   ------------------------------------ --- 19/21 [unstructured-client]\n",
      "   ------------------------------------ --- 19/21 [unstructured-client]\n",
      "   ------------------------------------ --- 19/21 [unstructured-client]\n",
      "   ------------------------------------ --- 19/21 [unstructured-client]\n",
      "   ------------------------------------ --- 19/21 [unstructured-client]\n",
      "   ------------------------------------ --- 19/21 [unstructured-client]\n",
      "   ------------------------------------ --- 19/21 [unstructured-client]\n",
      "   ------------------------------------ --- 19/21 [unstructured-client]\n",
      "   ------------------------------------ --- 19/21 [unstructured-client]\n",
      "   ------------------------------------ --- 19/21 [unstructured-client]\n",
      "   ------------------------------------ --- 19/21 [unstructured-client]\n",
      "   ------------------------------------ --- 19/21 [unstructured-client]\n",
      "   ------------------------------------ --- 19/21 [unstructured-client]\n",
      "   ------------------------------------ --- 19/21 [unstructured-client]\n",
      "   ------------------------------------ --- 19/21 [unstructured-client]\n",
      "   ------------------------------------ --- 19/21 [unstructured-client]\n",
      "   ------------------------------------ --- 19/21 [unstructured-client]\n",
      "   ------------------------------------ --- 19/21 [unstructured-client]\n",
      "   ------------------------------------ --- 19/21 [unstructured-client]\n",
      "   ------------------------------------ --- 19/21 [unstructured-client]\n",
      "   ------------------------------------ --- 19/21 [unstructured-client]\n",
      "   ------------------------------------ --- 19/21 [unstructured-client]\n",
      "   ------------------------------------ --- 19/21 [unstructured-client]\n",
      "   ------------------------------------ --- 19/21 [unstructured-client]\n",
      "   ------------------------------------ --- 19/21 [unstructured-client]\n",
      "   ------------------------------------ --- 19/21 [unstructured-client]\n",
      "   ------------------------------------ --- 19/21 [unstructured-client]\n",
      "   -------------------------------------- - 20/21 [unstructured]\n",
      "   -------------------------------------- - 20/21 [unstructured]\n",
      "   -------------------------------------- - 20/21 [unstructured]\n",
      "   -------------------------------------- - 20/21 [unstructured]\n",
      "   -------------------------------------- - 20/21 [unstructured]\n",
      "   -------------------------------------- - 20/21 [unstructured]\n",
      "   -------------------------------------- - 20/21 [unstructured]\n",
      "   -------------------------------------- - 20/21 [unstructured]\n",
      "   -------------------------------------- - 20/21 [unstructured]\n",
      "   -------------------------------------- - 20/21 [unstructured]\n",
      "   -------------------------------------- - 20/21 [unstructured]\n",
      "   -------------------------------------- - 20/21 [unstructured]\n",
      "   -------------------------------------- - 20/21 [unstructured]\n",
      "   -------------------------------------- - 20/21 [unstructured]\n",
      "   -------------------------------------- - 20/21 [unstructured]\n",
      "   -------------------------------------- - 20/21 [unstructured]\n",
      "   -------------------------------------- - 20/21 [unstructured]\n",
      "   -------------------------------------- - 20/21 [unstructured]\n",
      "   -------------------------------------- - 20/21 [unstructured]\n",
      "   -------------------------------------- - 20/21 [unstructured]\n",
      "   -------------------------------------- - 20/21 [unstructured]\n",
      "   -------------------------------------- - 20/21 [unstructured]\n",
      "   -------------------------------------- - 20/21 [unstructured]\n",
      "   -------------------------------------- - 20/21 [unstructured]\n",
      "   -------------------------------------- - 20/21 [unstructured]\n",
      "   -------------------------------------- - 20/21 [unstructured]\n",
      "   -------------------------------------- - 20/21 [unstructured]\n",
      "   -------------------------------------- - 20/21 [unstructured]\n",
      "   -------------------------------------- - 20/21 [unstructured]\n",
      "   -------------------------------------- - 20/21 [unstructured]\n",
      "   -------------------------------------- - 20/21 [unstructured]\n",
      "   -------------------------------------- - 20/21 [unstructured]\n",
      "   ---------------------------------------- 21/21 [unstructured]\n",
      "\n",
      "Successfully installed aiofiles-24.1.0 backoff-2.2.1 chardet-5.2.0 click-8.2.1 cryptography-45.0.5 emoji-2.14.1 html5lib-1.1 joblib-1.5.1 langdetect-1.0.9 libmagic-1.0 nltk-3.9.1 olefile-0.47 pypdf-5.7.0 python-iso639-2025.2.18 python-magic-0.4.27 python-magic-bin-0.4.14 python-oxmsg-0.0.2 rapidfuzz-3.13.0 unstructured-0.18.2 unstructured-client-0.38.1 wrapt-1.17.2\n"
     ]
    }
   ],
   "source": [
    "!pip install unstructured libmagic python-magic python-magic-bin"
   ]
  },
  {
   "cell_type": "code",
   "execution_count": 6,
   "id": "cbffac17-1fbf-45f1-b83e-8ad70d814ebf",
   "metadata": {},
   "outputs": [],
   "source": [
    "from langchain.document_loaders import UnstructuredURLLoader\n"
   ]
  },
  {
   "cell_type": "code",
   "execution_count": 8,
   "id": "2cab9d03-6473-46b6-bf6a-26b632282b33",
   "metadata": {},
   "outputs": [],
   "source": [
    "loader = UnstructuredURLLoader(\n",
    "    urls = [\n",
    "        \"https://www.moneycontrol.com/news/business/banks/hdfc-bank-re-appoints-sanmoy-chakrabarti-as-chief-risk-officer-11259771.html\",\n",
    "        \"https://www.moneycontrol.com/news/business/markets/market-corrects-post-rbi-ups-inflation-forecast-icrr-bet-on-these-top-10-rate-sensitive-stocks-ideas-11142611.html\"\n",
    "    ]\n",
    ")"
   ]
  },
  {
   "cell_type": "code",
   "execution_count": 9,
   "id": "4ebb2915-f106-403a-8dd7-f5079839e4bf",
   "metadata": {},
   "outputs": [
    {
     "data": {
      "text/plain": [
       "2"
      ]
     },
     "execution_count": 9,
     "metadata": {},
     "output_type": "execute_result"
    }
   ],
   "source": [
    "data = loader.load()\n",
    "len(data)"
   ]
  },
  {
   "cell_type": "code",
   "execution_count": 11,
   "id": "99dc312d-7115-4c84-8525-70a5371156fa",
   "metadata": {},
   "outputs": [
    {
     "data": {
      "text/plain": [
       "'English\\n\\nHindi\\n\\nGujarati\\n\\nSpecials\\n\\nHello, Login\\n\\nHello, Login\\n\\nLog-inor Sign-Up\\n\\nMy Account\\n\\nMy Pro'"
      ]
     },
     "execution_count": 11,
     "metadata": {},
     "output_type": "execute_result"
    }
   ],
   "source": [
    "data[0].page_content[0:100]"
   ]
  },
  {
   "cell_type": "code",
   "execution_count": 12,
   "id": "3c0b2165-8d2d-4889-a1c3-403b13de8fbe",
   "metadata": {},
   "outputs": [
    {
     "data": {
      "text/plain": [
       "{'source': 'https://www.moneycontrol.com/news/business/banks/hdfc-bank-re-appoints-sanmoy-chakrabarti-as-chief-risk-officer-11259771.html'}"
      ]
     },
     "execution_count": 12,
     "metadata": {},
     "output_type": "execute_result"
    }
   ],
   "source": [
    "data[0].metadata"
   ]
  },
  {
   "cell_type": "markdown",
   "id": "f5a8b627-fa81-4f04-b368-5416709329d3",
   "metadata": {},
   "source": [
    "Text Splitters\n",
    "\n",
    "LLM's have token limits. Hence we need to split the text which can be large into small chunks so that each chunk size is under the token limit. There are various text splitter classes in langchain that allows us to do this."
   ]
  },
  {
   "cell_type": "code",
   "execution_count": 14,
   "id": "61db8480-2c35-4b69-bafa-de91466010ed",
   "metadata": {},
   "outputs": [],
   "source": [
    "text = \"\"\"Interstellar is a 2014 epic science fiction film co-written, directed, and produced by Christopher Nolan. \n",
    "It stars Matthew McConaughey, Anne Hathaway, Jessica Chastain, Bill Irwin, Ellen Burstyn, Matt Damon, and Michael Caine. \n",
    "Set in a dystopian future where humanity is embroiled in a catastrophic blight and famine, the film follows a group of astronauts who travel through a wormhole near Saturn in search of a new home for humankind.\n",
    "\n",
    "Brothers Christopher and Jonathan Nolan wrote the screenplay, which had its origins in a script Jonathan developed in 2007 and was originally set to be directed by Steven Spielberg. \n",
    "Kip Thorne, a Caltech theoretical physicist and 2017 Nobel laureate in Physics,[4] was an executive producer, acted as a scientific consultant, and wrote a tie-in book, The Science of Interstellar. \n",
    "Cinematographer Hoyte van Hoytema shot it on 35 mm movie film in the Panavision anamorphic format and IMAX 70 mm. Principal photography began in late 2013 and took place in Alberta, Iceland, and Los Angeles. \n",
    "Interstellar uses extensive practical and miniature effects, and the company Double Negative created additional digital effects.\n",
    "\n",
    "Interstellar premiered in Los Angeles on October 26, 2014. In the United States, it was first released on film stock, expanding to venues using digital projectors. The film received generally positive reviews from critics and grossed over $677 million worldwide ($715 million after subsequent re-releases), making it the tenth-highest-grossing film of 2014. \n",
    "It has been praised by astronomers for its scientific accuracy and portrayal of theoretical astrophysics.[5][6][7] Interstellar was nominated for five awards at the 87th Academy Awards, winning Best Visual Effects, and received numerous other accolades.\"\"\""
   ]
  },
  {
   "cell_type": "markdown",
   "id": "7c28d42e-3155-4dce-8c7f-332714b647b0",
   "metadata": {},
   "source": [
    "Manual approach of splitting the text into chunks"
   ]
  },
  {
   "cell_type": "code",
   "execution_count": 15,
   "id": "2418eb25-6bc2-4923-813c-aeca851ed5a4",
   "metadata": {},
   "outputs": [
    {
     "data": {
      "text/plain": [
       "'Interstellar is a 2014 epic science fiction film co-written, directed, and produced by Christopher N'"
      ]
     },
     "execution_count": 15,
     "metadata": {},
     "output_type": "execute_result"
    }
   ],
   "source": [
    "text[0:100]"
   ]
  },
  {
   "cell_type": "markdown",
   "id": "458b6939-d1bb-4367-b2bd-7ef9adba3a5e",
   "metadata": {},
   "source": [
    "Next word"
   ]
  },
  {
   "cell_type": "code",
   "execution_count": 16,
   "id": "92a13b43-765b-4f7f-bcd2-dbab98380330",
   "metadata": {},
   "outputs": [
    {
     "data": {
      "text/plain": [
       "264"
      ]
     },
     "execution_count": 16,
     "metadata": {},
     "output_type": "execute_result"
    }
   ],
   "source": [
    "words = text.split(\" \")\n",
    "len(words)"
   ]
  },
  {
   "cell_type": "code",
   "execution_count": 19,
   "id": "0bc8845f-fbc7-4686-a2d4-124022a08ea2",
   "metadata": {},
   "outputs": [],
   "source": [
    "chunks =[]\n",
    "s= \"\"\n",
    "for word in words:\n",
    "    s+= word+ \" \"\n",
    "    if len(s)>200:\n",
    "        chunks.append(s)\n",
    "        s= \"\"\n",
    "chunks.append(s)"
   ]
  },
  {
   "cell_type": "code",
   "execution_count": 20,
   "id": "623917e7-e694-477d-82ad-17554cd408b5",
   "metadata": {},
   "outputs": [
    {
     "data": {
      "text/plain": [
       "['Interstellar is a 2014 epic science fiction film co-written, directed, and produced by Christopher Nolan. \\nIt stars Matthew McConaughey, Anne Hathaway, Jessica Chastain, Bill Irwin, Ellen Burstyn, Matt ',\n",
       " 'Damon, and Michael Caine. \\nSet in a dystopian future where humanity is embroiled in a catastrophic blight and famine, the film follows a group of astronauts who travel through a wormhole near Saturn in ',\n",
       " 'search of a new home for humankind.\\n\\nBrothers Christopher and Jonathan Nolan wrote the screenplay, which had its origins in a script Jonathan developed in 2007 and was originally set to be directed by ',\n",
       " 'Steven Spielberg. \\nKip Thorne, a Caltech theoretical physicist and 2017 Nobel laureate in Physics,[4] was an executive producer, acted as a scientific consultant, and wrote a tie-in book, The Science of ',\n",
       " 'Interstellar. \\nCinematographer Hoyte van Hoytema shot it on 35 mm movie film in the Panavision anamorphic format and IMAX 70 mm. Principal photography began in late 2013 and took place in Alberta, Iceland, ',\n",
       " 'and Los Angeles. \\nInterstellar uses extensive practical and miniature effects, and the company Double Negative created additional digital effects.\\n\\nInterstellar premiered in Los Angeles on October 26, ',\n",
       " '2014. In the United States, it was first released on film stock, expanding to venues using digital projectors. The film received generally positive reviews from critics and grossed over $677 million worldwide ',\n",
       " '($715 million after subsequent re-releases), making it the tenth-highest-grossing film of 2014. \\nIt has been praised by astronomers for its scientific accuracy and portrayal of theoretical astrophysics.[5][6][7] ',\n",
       " 'Interstellar was nominated for five awards at the 87th Academy Awards, winning Best Visual Effects, and received numerous other accolades. ']"
      ]
     },
     "execution_count": 20,
     "metadata": {},
     "output_type": "execute_result"
    }
   ],
   "source": [
    "chunks"
   ]
  },
  {
   "cell_type": "markdown",
   "id": "a4f93def-3b45-4b17-9f2c-69949114a286",
   "metadata": {},
   "source": [
    "Using text splitter from langchain"
   ]
  },
  {
   "cell_type": "code",
   "execution_count": 21,
   "id": "dd672264-9c9a-4591-b01b-a611284ce00c",
   "metadata": {},
   "outputs": [
    {
     "name": "stderr",
     "output_type": "stream",
     "text": [
      "Created a chunk of size 210, which is longer than the specified 200\n",
      "Created a chunk of size 208, which is longer than the specified 200\n",
      "Created a chunk of size 358, which is longer than the specified 200\n"
     ]
    },
    {
     "data": {
      "text/plain": [
       "9"
      ]
     },
     "execution_count": 21,
     "metadata": {},
     "output_type": "execute_result"
    }
   ],
   "source": [
    "from langchain.text_splitter import CharacterTextSplitter\n",
    "\n",
    "splitter = CharacterTextSplitter(\n",
    "    separator = \"\\n\",\n",
    "    chunk_size=200,\n",
    "    chunk_overlap=0\n",
    ")\n",
    "\n",
    "chunks = splitter.split_text(text)\n",
    "len(chunks)"
   ]
  },
  {
   "cell_type": "code",
   "execution_count": 22,
   "id": "631bd54a-0024-46ba-abee-e8f84fc52549",
   "metadata": {},
   "outputs": [
    {
     "data": {
      "text/plain": [
       "['Interstellar is a 2014 epic science fiction film co-written, directed, and produced by Christopher Nolan.',\n",
       " 'It stars Matthew McConaughey, Anne Hathaway, Jessica Chastain, Bill Irwin, Ellen Burstyn, Matt Damon, and Michael Caine.',\n",
       " 'Set in a dystopian future where humanity is embroiled in a catastrophic blight and famine, the film follows a group of astronauts who travel through a wormhole near Saturn in search of a new home for humankind.',\n",
       " 'Brothers Christopher and Jonathan Nolan wrote the screenplay, which had its origins in a script Jonathan developed in 2007 and was originally set to be directed by Steven Spielberg.',\n",
       " 'Kip Thorne, a Caltech theoretical physicist and 2017 Nobel laureate in Physics,[4] was an executive producer, acted as a scientific consultant, and wrote a tie-in book, The Science of Interstellar.',\n",
       " 'Cinematographer Hoyte van Hoytema shot it on 35 mm movie film in the Panavision anamorphic format and IMAX 70 mm. Principal photography began in late 2013 and took place in Alberta, Iceland, and Los Angeles.',\n",
       " 'Interstellar uses extensive practical and miniature effects, and the company Double Negative created additional digital effects.',\n",
       " 'Interstellar premiered in Los Angeles on October 26, 2014. In the United States, it was first released on film stock, expanding to venues using digital projectors. The film received generally positive reviews from critics and grossed over $677 million worldwide ($715 million after subsequent re-releases), making it the tenth-highest-grossing film of 2014.',\n",
       " 'It has been praised by astronomers for its scientific accuracy and portrayal of theoretical astrophysics.[5][6][7] Interstellar was nominated for five awards at the 87th Academy Awards, winning Best Visual Effects, and received numerous other accolades.']"
      ]
     },
     "execution_count": 22,
     "metadata": {},
     "output_type": "execute_result"
    }
   ],
   "source": [
    "chunks"
   ]
  },
  {
   "cell_type": "code",
   "execution_count": 23,
   "id": "11b80827-9e89-4cb1-bf71-93456db55991",
   "metadata": {},
   "outputs": [
    {
     "name": "stdout",
     "output_type": "stream",
     "text": [
      "105\n",
      "120\n",
      "210\n",
      "181\n",
      "197\n",
      "207\n",
      "128\n",
      "357\n",
      "253\n"
     ]
    }
   ],
   "source": [
    "for chunk in chunks:\n",
    "    print(len(chunk))"
   ]
  },
  {
   "cell_type": "code",
   "execution_count": 24,
   "id": "25838842-ba2d-4994-a73f-f93acb5ba3a4",
   "metadata": {},
   "outputs": [
    {
     "data": {
      "text/plain": [
       "['Interstellar is a 2014 epic science fiction film co-written, directed, and produced by Christopher Nolan.',\n",
       " 'It stars Matthew McConaughey, Anne Hathaway, Jessica Chastain, Bill Irwin, Ellen Burstyn, Matt Damon, and Michael Caine.',\n",
       " 'Set in a dystopian future where humanity is embroiled in a catastrophic blight and famine, the film follows a group of astronauts who travel through a wormhole near Saturn in search of a new home for humankind.',\n",
       " 'Brothers Christopher and Jonathan Nolan wrote the screenplay, which had its origins in a script Jonathan developed in 2007 and was originally set to be directed by Steven Spielberg.',\n",
       " 'Kip Thorne, a Caltech theoretical physicist and 2017 Nobel laureate in Physics,[4] was an executive producer, acted as a scientific consultant, and wrote a tie-in book, The Science of Interstellar.',\n",
       " 'Cinematographer Hoyte van Hoytema shot it on 35 mm movie film in the Panavision anamorphic format and IMAX 70 mm. Principal photography began in late 2013 and took place in Alberta, Iceland, and Los Angeles.',\n",
       " 'Interstellar uses extensive practical and miniature effects, and the company Double Negative created additional digital effects.',\n",
       " 'Interstellar premiered in Los Angeles on October 26, 2014. In the United States, it was first released on film stock, expanding to venues using digital projectors. The film received generally positive reviews from critics and grossed over $677 million worldwide ($715 million after subsequent re-releases), making it the tenth-highest-grossing film of 2014.',\n",
       " 'It has been praised by astronomers for its scientific accuracy and portrayal of theoretical astrophysics.[5][6][7] Interstellar was nominated for five awards at the 87th Academy Awards, winning Best Visual Effects, and received numerous other accolades.']"
      ]
     },
     "execution_count": 24,
     "metadata": {},
     "output_type": "execute_result"
    }
   ],
   "source": [
    "chunks"
   ]
  },
  {
   "cell_type": "markdown",
   "id": "796d0862-6015-4af0-bd1e-c70aab048bed",
   "metadata": {},
   "source": [
    "As you can see, all though we gave 200 as a chunk size since the split was based on \\n, it ended up creating chunks that are bigger than size 200"
   ]
  },
  {
   "cell_type": "markdown",
   "id": "29975c8e-fc1a-4952-879d-283194c24824",
   "metadata": {},
   "source": [
    "RecursiveTextSplitter"
   ]
  },
  {
   "cell_type": "code",
   "execution_count": 25,
   "id": "425c4a65-ceea-42cd-90ee-d862f6e6f069",
   "metadata": {},
   "outputs": [
    {
     "data": {
      "text/plain": [
       "13"
      ]
     },
     "execution_count": 25,
     "metadata": {},
     "output_type": "execute_result"
    }
   ],
   "source": [
    "from langchain.text_splitter import RecursiveCharacterTextSplitter\n",
    "\n",
    "r_splitter = RecursiveCharacterTextSplitter(\n",
    "    separators = [\"\\n\\n\", \"\\n\", \" \"],  # List of separators based on requirement (defaults to [\"\\n\\n\", \"\\n\", \" \"])\n",
    "    chunk_size = 200,  # size of each chunk created\n",
    "    chunk_overlap  = 0,  # size of  overlap between chunks in order to maintain the context\n",
    "    length_function = len  # Function to calculate size, currently we are using \"len\" which denotes length of string however you can pass any token counter)\n",
    ")\n",
    "\n",
    "chunks = r_splitter.split_text(text)\n",
    "len(chunks)"
   ]
  },
  {
   "cell_type": "code",
   "execution_count": 26,
   "id": "86703571-f3ff-4982-83d4-638c7d01aad2",
   "metadata": {},
   "outputs": [
    {
     "name": "stdout",
     "output_type": "stream",
     "text": [
      "105\n",
      "120\n",
      "199\n",
      "10\n",
      "181\n",
      "197\n",
      "198\n",
      "8\n",
      "128\n",
      "191\n",
      "165\n",
      "198\n",
      "54\n"
     ]
    }
   ],
   "source": [
    "for chunk in chunks:\n",
    "    print(len(chunk))"
   ]
  },
  {
   "cell_type": "markdown",
   "id": "cd4629c9-44f1-4cb0-9b99-b8f5715799e8",
   "metadata": {},
   "source": [
    "Let's understand how exactly it formed these chunks"
   ]
  },
  {
   "cell_type": "markdown",
   "id": "6546e096-5c71-4778-9b72-bf55b44f8e64",
   "metadata": {},
   "source": [
    "How is it working under the hood"
   ]
  },
  {
   "cell_type": "code",
   "execution_count": 27,
   "id": "a1dd5df7-7d96-40c7-b185-7fadccfcd405",
   "metadata": {},
   "outputs": [
    {
     "data": {
      "text/plain": [
       "'Interstellar is a 2014 epic science fiction film co-written, directed, and produced by Christopher Nolan. \\nIt stars Matthew McConaughey, Anne Hathaway, Jessica Chastain, Bill Irwin, Ellen Burstyn, Matt Damon, and Michael Caine. \\nSet in a dystopian future where humanity is embroiled in a catastrophic blight and famine, the film follows a group of astronauts who travel through a wormhole near Saturn in search of a new home for humankind.'"
      ]
     },
     "execution_count": 27,
     "metadata": {},
     "output_type": "execute_result"
    }
   ],
   "source": [
    "first_split = text.split(\"\\n\\n\")[0]\n",
    "first_split"
   ]
  },
  {
   "cell_type": "code",
   "execution_count": 28,
   "id": "1ffd78f0-7515-481b-976e-fe8f031015d9",
   "metadata": {},
   "outputs": [
    {
     "data": {
      "text/plain": [
       "439"
      ]
     },
     "execution_count": 28,
     "metadata": {},
     "output_type": "execute_result"
    }
   ],
   "source": [
    "len(first_split)"
   ]
  },
  {
   "cell_type": "code",
   "execution_count": 29,
   "id": "6306a62b-3136-41fe-ab08-7082e2cd6379",
   "metadata": {},
   "outputs": [
    {
     "data": {
      "text/plain": [
       "3"
      ]
     },
     "execution_count": 29,
     "metadata": {},
     "output_type": "execute_result"
    }
   ],
   "source": [
    "second_split = first_split.split(\"\\n\")\n",
    "len(second_split)"
   ]
  },
  {
   "cell_type": "code",
   "execution_count": 30,
   "id": "cce823ee-6a68-4535-bdbb-e0b590fc57df",
   "metadata": {},
   "outputs": [
    {
     "name": "stdout",
     "output_type": "stream",
     "text": [
      "106\n",
      "121\n",
      "210\n"
     ]
    }
   ],
   "source": [
    "for split in second_split:\n",
    "    print(len(split))"
   ]
  },
  {
   "cell_type": "markdown",
   "id": "37a35b98-3544-44a1-95a8-b96997a8c1d7",
   "metadata": {},
   "source": [
    "Third split exceeds chunk size 200. Now it will further try to split that using the third separator which is ' ' (space)"
   ]
  },
  {
   "cell_type": "code",
   "execution_count": 31,
   "id": "07669f2a-4624-4676-aeee-1201a701ea78",
   "metadata": {},
   "outputs": [
    {
     "data": {
      "text/plain": [
       "'Set in a dystopian future where humanity is embroiled in a catastrophic blight and famine, the film follows a group of astronauts who travel through a wormhole near Saturn in search of a new home for humankind.'"
      ]
     },
     "execution_count": 31,
     "metadata": {},
     "output_type": "execute_result"
    }
   ],
   "source": [
    "second_split[2]"
   ]
  },
  {
   "cell_type": "markdown",
   "id": "e2c1af9a-d776-4103-9fa7-ff166dda9584",
   "metadata": {},
   "source": [
    "VECTOR DATABASE"
   ]
  },
  {
   "cell_type": "code",
   "execution_count": 32,
   "id": "c49d1aee-55fd-4330-94df-ae39fac74cfa",
   "metadata": {},
   "outputs": [
    {
     "name": "stdout",
     "output_type": "stream",
     "text": [
      "Collecting faiss-cpu\n",
      "  Downloading faiss_cpu-1.11.0-cp312-cp312-win_amd64.whl.metadata (5.0 kB)\n",
      "Requirement already satisfied: numpy<3.0,>=1.25.0 in c:\\users\\hp\\appdata\\local\\programs\\python\\python312\\lib\\site-packages (from faiss-cpu) (1.26.4)\n",
      "Requirement already satisfied: packaging in c:\\users\\hp\\appdata\\local\\programs\\python\\python312\\lib\\site-packages (from faiss-cpu) (24.0)\n",
      "Downloading faiss_cpu-1.11.0-cp312-cp312-win_amd64.whl (15.0 MB)\n",
      "   ---------------------------------------- 0.0/15.0 MB ? eta -:--:--\n",
      "   -- ------------------------------------- 1.0/15.0 MB 6.3 MB/s eta 0:00:03\n",
      "   ---- ----------------------------------- 1.8/15.0 MB 4.8 MB/s eta 0:00:03\n",
      "   ------ --------------------------------- 2.6/15.0 MB 4.4 MB/s eta 0:00:03\n",
      "   --------- ------------------------------ 3.4/15.0 MB 4.3 MB/s eta 0:00:03\n",
      "   ----------- ---------------------------- 4.2/15.0 MB 4.2 MB/s eta 0:00:03\n",
      "   ------------- -------------------------- 5.0/15.0 MB 4.2 MB/s eta 0:00:03\n",
      "   --------------- ------------------------ 5.8/15.0 MB 4.1 MB/s eta 0:00:03\n",
      "   ----------------- ---------------------- 6.6/15.0 MB 4.1 MB/s eta 0:00:03\n",
      "   ------------------- -------------------- 7.3/15.0 MB 4.1 MB/s eta 0:00:02\n",
      "   ---------------------- ----------------- 8.4/15.0 MB 4.1 MB/s eta 0:00:02\n",
      "   ------------------------ --------------- 9.2/15.0 MB 4.0 MB/s eta 0:00:02\n",
      "   -------------------------- ------------- 10.0/15.0 MB 4.0 MB/s eta 0:00:02\n",
      "   ---------------------------- ----------- 10.7/15.0 MB 4.0 MB/s eta 0:00:02\n",
      "   ------------------------------ --------- 11.5/15.0 MB 4.0 MB/s eta 0:00:01\n",
      "   -------------------------------- ------- 12.3/15.0 MB 4.0 MB/s eta 0:00:01\n",
      "   ---------------------------------- ----- 13.1/15.0 MB 4.0 MB/s eta 0:00:01\n",
      "   ------------------------------------- -- 13.9/15.0 MB 4.0 MB/s eta 0:00:01\n",
      "   ---------------------------------------  14.7/15.0 MB 4.0 MB/s eta 0:00:01\n",
      "   ---------------------------------------- 15.0/15.0 MB 3.9 MB/s eta 0:00:00\n",
      "Installing collected packages: faiss-cpu\n",
      "Successfully installed faiss-cpu-1.11.0\n",
      "Collecting sentence-transformers\n",
      "  Downloading sentence_transformers-5.0.0-py3-none-any.whl.metadata (16 kB)\n",
      "Requirement already satisfied: transformers<5.0.0,>=4.41.0 in c:\\users\\hp\\appdata\\local\\programs\\python\\python312\\lib\\site-packages (from sentence-transformers) (4.52.4)\n",
      "Requirement already satisfied: tqdm in c:\\users\\hp\\appdata\\local\\programs\\python\\python312\\lib\\site-packages (from sentence-transformers) (4.67.1)\n",
      "Requirement already satisfied: torch>=1.11.0 in c:\\users\\hp\\appdata\\local\\programs\\python\\python312\\lib\\site-packages (from sentence-transformers) (2.7.0)\n",
      "Collecting scikit-learn (from sentence-transformers)\n",
      "  Downloading scikit_learn-1.7.0-cp312-cp312-win_amd64.whl.metadata (14 kB)\n",
      "Collecting scipy (from sentence-transformers)\n",
      "  Downloading scipy-1.16.0-cp312-cp312-win_amd64.whl.metadata (60 kB)\n",
      "Requirement already satisfied: huggingface-hub>=0.20.0 in c:\\users\\hp\\appdata\\local\\programs\\python\\python312\\lib\\site-packages (from sentence-transformers) (0.32.4)\n",
      "Requirement already satisfied: Pillow in c:\\users\\hp\\appdata\\local\\programs\\python\\python312\\lib\\site-packages (from sentence-transformers) (11.2.1)\n",
      "Requirement already satisfied: typing_extensions>=4.5.0 in c:\\users\\hp\\appdata\\local\\programs\\python\\python312\\lib\\site-packages (from sentence-transformers) (4.12.2)\n",
      "Requirement already satisfied: filelock in c:\\users\\hp\\appdata\\local\\programs\\python\\python312\\lib\\site-packages (from transformers<5.0.0,>=4.41.0->sentence-transformers) (3.18.0)\n",
      "Requirement already satisfied: numpy>=1.17 in c:\\users\\hp\\appdata\\local\\programs\\python\\python312\\lib\\site-packages (from transformers<5.0.0,>=4.41.0->sentence-transformers) (1.26.4)\n",
      "Requirement already satisfied: packaging>=20.0 in c:\\users\\hp\\appdata\\local\\programs\\python\\python312\\lib\\site-packages (from transformers<5.0.0,>=4.41.0->sentence-transformers) (24.0)\n",
      "Requirement already satisfied: pyyaml>=5.1 in c:\\users\\hp\\appdata\\local\\programs\\python\\python312\\lib\\site-packages (from transformers<5.0.0,>=4.41.0->sentence-transformers) (6.0.1)\n",
      "Requirement already satisfied: regex!=2019.12.17 in c:\\users\\hp\\appdata\\local\\programs\\python\\python312\\lib\\site-packages (from transformers<5.0.0,>=4.41.0->sentence-transformers) (2024.11.6)\n",
      "Requirement already satisfied: requests in c:\\users\\hp\\appdata\\local\\programs\\python\\python312\\lib\\site-packages (from transformers<5.0.0,>=4.41.0->sentence-transformers) (2.31.0)\n",
      "Requirement already satisfied: tokenizers<0.22,>=0.21 in c:\\users\\hp\\appdata\\local\\programs\\python\\python312\\lib\\site-packages (from transformers<5.0.0,>=4.41.0->sentence-transformers) (0.21.1)\n",
      "Requirement already satisfied: safetensors>=0.4.3 in c:\\users\\hp\\appdata\\local\\programs\\python\\python312\\lib\\site-packages (from transformers<5.0.0,>=4.41.0->sentence-transformers) (0.5.3)\n",
      "Requirement already satisfied: fsspec>=2023.5.0 in c:\\users\\hp\\appdata\\local\\programs\\python\\python312\\lib\\site-packages (from huggingface-hub>=0.20.0->sentence-transformers) (2025.5.1)\n",
      "Requirement already satisfied: sympy>=1.13.3 in c:\\users\\hp\\appdata\\local\\programs\\python\\python312\\lib\\site-packages (from torch>=1.11.0->sentence-transformers) (1.14.0)\n",
      "Requirement already satisfied: networkx in c:\\users\\hp\\appdata\\local\\programs\\python\\python312\\lib\\site-packages (from torch>=1.11.0->sentence-transformers) (3.5)\n",
      "Requirement already satisfied: jinja2 in c:\\users\\hp\\appdata\\local\\programs\\python\\python312\\lib\\site-packages (from torch>=1.11.0->sentence-transformers) (3.1.3)\n",
      "Requirement already satisfied: setuptools in c:\\users\\hp\\appdata\\local\\programs\\python\\python312\\lib\\site-packages (from torch>=1.11.0->sentence-transformers) (75.6.0)\n",
      "Requirement already satisfied: mpmath<1.4,>=1.1.0 in c:\\users\\hp\\appdata\\local\\programs\\python\\python312\\lib\\site-packages (from sympy>=1.13.3->torch>=1.11.0->sentence-transformers) (1.3.0)\n",
      "Requirement already satisfied: colorama in c:\\users\\hp\\appdata\\local\\programs\\python\\python312\\lib\\site-packages (from tqdm->sentence-transformers) (0.4.6)\n",
      "Requirement already satisfied: MarkupSafe>=2.0 in c:\\users\\hp\\appdata\\local\\programs\\python\\python312\\lib\\site-packages (from jinja2->torch>=1.11.0->sentence-transformers) (2.1.5)\n",
      "Requirement already satisfied: charset-normalizer<4,>=2 in c:\\users\\hp\\appdata\\local\\programs\\python\\python312\\lib\\site-packages (from requests->transformers<5.0.0,>=4.41.0->sentence-transformers) (3.3.2)\n",
      "Requirement already satisfied: idna<4,>=2.5 in c:\\users\\hp\\appdata\\local\\programs\\python\\python312\\lib\\site-packages (from requests->transformers<5.0.0,>=4.41.0->sentence-transformers) (3.6)\n",
      "Requirement already satisfied: urllib3<3,>=1.21.1 in c:\\users\\hp\\appdata\\local\\programs\\python\\python312\\lib\\site-packages (from requests->transformers<5.0.0,>=4.41.0->sentence-transformers) (2.2.1)\n",
      "Requirement already satisfied: certifi>=2017.4.17 in c:\\users\\hp\\appdata\\local\\programs\\python\\python312\\lib\\site-packages (from requests->transformers<5.0.0,>=4.41.0->sentence-transformers) (2024.2.2)\n",
      "Requirement already satisfied: joblib>=1.2.0 in c:\\users\\hp\\appdata\\local\\programs\\python\\python312\\lib\\site-packages (from scikit-learn->sentence-transformers) (1.5.1)\n",
      "Collecting threadpoolctl>=3.1.0 (from scikit-learn->sentence-transformers)\n",
      "  Using cached threadpoolctl-3.6.0-py3-none-any.whl.metadata (13 kB)\n",
      "Downloading sentence_transformers-5.0.0-py3-none-any.whl (470 kB)\n",
      "Downloading scikit_learn-1.7.0-cp312-cp312-win_amd64.whl (10.7 MB)\n",
      "   ---------------------------------------- 0.0/10.7 MB ? eta -:--:--\n",
      "   -- ------------------------------------- 0.8/10.7 MB 5.6 MB/s eta 0:00:02\n",
      "   ------ --------------------------------- 1.8/10.7 MB 5.3 MB/s eta 0:00:02\n",
      "   -------- ------------------------------- 2.4/10.7 MB 4.8 MB/s eta 0:00:02\n",
      "   ------------ --------------------------- 3.4/10.7 MB 4.3 MB/s eta 0:00:02\n",
      "   --------------- ------------------------ 4.2/10.7 MB 4.3 MB/s eta 0:00:02\n",
      "   ------------------ --------------------- 5.0/10.7 MB 4.1 MB/s eta 0:00:02\n",
      "   --------------------- ------------------ 5.8/10.7 MB 4.1 MB/s eta 0:00:02\n",
      "   ------------------------ --------------- 6.6/10.7 MB 4.1 MB/s eta 0:00:02\n",
      "   --------------------------- ------------ 7.3/10.7 MB 4.0 MB/s eta 0:00:01\n",
      "   ------------------------------ --------- 8.1/10.7 MB 4.1 MB/s eta 0:00:01\n",
      "   --------------------------------- ------ 8.9/10.7 MB 4.0 MB/s eta 0:00:01\n",
      "   ------------------------------------ --- 9.7/10.7 MB 4.0 MB/s eta 0:00:01\n",
      "   ---------------------------------------  10.5/10.7 MB 4.0 MB/s eta 0:00:01\n",
      "   ---------------------------------------- 10.7/10.7 MB 4.0 MB/s eta 0:00:00\n",
      "Downloading scipy-1.16.0-cp312-cp312-win_amd64.whl (38.4 MB)\n",
      "   ---------------------------------------- 0.0/38.4 MB ? eta -:--:--\n",
      "    --------------------------------------- 0.8/38.4 MB 4.8 MB/s eta 0:00:08\n",
      "   - -------------------------------------- 1.6/38.4 MB 4.2 MB/s eta 0:00:09\n",
      "   -- ------------------------------------- 2.4/38.4 MB 4.1 MB/s eta 0:00:09\n",
      "   --- ------------------------------------ 3.4/38.4 MB 4.0 MB/s eta 0:00:09\n",
      "   ---- ----------------------------------- 4.2/38.4 MB 4.0 MB/s eta 0:00:09\n",
      "   ----- ---------------------------------- 5.0/38.4 MB 3.9 MB/s eta 0:00:09\n",
      "   ------ --------------------------------- 5.8/38.4 MB 4.0 MB/s eta 0:00:09\n",
      "   ------ --------------------------------- 6.3/38.4 MB 3.9 MB/s eta 0:00:09\n",
      "   ------- -------------------------------- 7.3/38.4 MB 3.9 MB/s eta 0:00:08\n",
      "   -------- ------------------------------- 8.1/38.4 MB 3.9 MB/s eta 0:00:08\n",
      "   --------- ------------------------------ 8.9/38.4 MB 3.9 MB/s eta 0:00:08\n",
      "   ---------- ----------------------------- 9.7/38.4 MB 3.9 MB/s eta 0:00:08\n",
      "   ---------- ----------------------------- 10.5/38.4 MB 3.9 MB/s eta 0:00:08\n",
      "   ----------- ---------------------------- 11.3/38.4 MB 3.9 MB/s eta 0:00:08\n",
      "   ------------ --------------------------- 12.1/38.4 MB 3.9 MB/s eta 0:00:07\n",
      "   ------------- -------------------------- 13.1/38.4 MB 3.9 MB/s eta 0:00:07\n",
      "   -------------- ------------------------- 13.9/38.4 MB 3.9 MB/s eta 0:00:07\n",
      "   --------------- ------------------------ 14.7/38.4 MB 3.9 MB/s eta 0:00:07\n",
      "   --------------- ------------------------ 15.2/38.4 MB 3.9 MB/s eta 0:00:07\n",
      "   ---------------- ----------------------- 16.3/38.4 MB 3.9 MB/s eta 0:00:06\n",
      "   ----------------- ---------------------- 17.0/38.4 MB 3.9 MB/s eta 0:00:06\n",
      "   ------------------ --------------------- 17.8/38.4 MB 3.9 MB/s eta 0:00:06\n",
      "   ------------------- -------------------- 18.6/38.4 MB 3.9 MB/s eta 0:00:06\n",
      "   -------------------- ------------------- 19.4/38.4 MB 3.9 MB/s eta 0:00:05\n",
      "   --------------------- ------------------ 20.2/38.4 MB 3.9 MB/s eta 0:00:05\n",
      "   --------------------- ------------------ 21.0/38.4 MB 3.9 MB/s eta 0:00:05\n",
      "   ---------------------- ----------------- 21.8/38.4 MB 3.9 MB/s eta 0:00:05\n",
      "   ----------------------- ---------------- 22.8/38.4 MB 3.9 MB/s eta 0:00:05\n",
      "   ------------------------ --------------- 23.6/38.4 MB 3.9 MB/s eta 0:00:04\n",
      "   ------------------------ --------------- 23.9/38.4 MB 3.9 MB/s eta 0:00:04\n",
      "   -------------------------- ------------- 25.2/38.4 MB 3.9 MB/s eta 0:00:04\n",
      "   --------------------------- ------------ 26.0/38.4 MB 3.9 MB/s eta 0:00:04\n",
      "   --------------------------- ------------ 26.7/38.4 MB 3.9 MB/s eta 0:00:04\n",
      "   ---------------------------- ----------- 27.5/38.4 MB 3.9 MB/s eta 0:00:03\n",
      "   ----------------------------- ---------- 28.3/38.4 MB 3.9 MB/s eta 0:00:03\n",
      "   ------------------------------ --------- 29.1/38.4 MB 3.9 MB/s eta 0:00:03\n",
      "   ------------------------------- -------- 29.9/38.4 MB 3.9 MB/s eta 0:00:03\n",
      "   ------------------------------- -------- 30.7/38.4 MB 3.9 MB/s eta 0:00:02\n",
      "   -------------------------------- ------- 31.5/38.4 MB 3.9 MB/s eta 0:00:02\n",
      "   --------------------------------- ------ 32.2/38.4 MB 3.9 MB/s eta 0:00:02\n",
      "   ---------------------------------- ----- 33.0/38.4 MB 3.9 MB/s eta 0:00:02\n",
      "   ----------------------------------- ---- 33.8/38.4 MB 3.9 MB/s eta 0:00:02\n",
      "   ------------------------------------ --- 34.6/38.4 MB 3.9 MB/s eta 0:00:01\n",
      "   ------------------------------------ --- 35.4/38.4 MB 3.9 MB/s eta 0:00:01\n",
      "   ------------------------------------- -- 36.2/38.4 MB 3.9 MB/s eta 0:00:01\n",
      "   -------------------------------------- - 37.0/38.4 MB 3.9 MB/s eta 0:00:01\n",
      "   ---------------------------------------  37.7/38.4 MB 3.9 MB/s eta 0:00:01\n",
      "   ---------------------------------------- 38.4/38.4 MB 3.8 MB/s eta 0:00:00\n",
      "Using cached threadpoolctl-3.6.0-py3-none-any.whl (18 kB)\n",
      "Installing collected packages: threadpoolctl, scipy, scikit-learn, sentence-transformers\n",
      "\n",
      "   ---------- ----------------------------- 1/4 [scipy]\n",
      "   ---------- ----------------------------- 1/4 [scipy]\n",
      "   ---------- ----------------------------- 1/4 [scipy]\n",
      "   ---------- ----------------------------- 1/4 [scipy]\n",
      "   ---------- ----------------------------- 1/4 [scipy]\n",
      "   ---------- ----------------------------- 1/4 [scipy]\n",
      "   ---------- ----------------------------- 1/4 [scipy]\n",
      "   ---------- ----------------------------- 1/4 [scipy]\n",
      "   ---------- ----------------------------- 1/4 [scipy]\n",
      "   ---------- ----------------------------- 1/4 [scipy]\n",
      "   ---------- ----------------------------- 1/4 [scipy]\n",
      "   ---------- ----------------------------- 1/4 [scipy]\n",
      "   ---------- ----------------------------- 1/4 [scipy]\n",
      "   ---------- ----------------------------- 1/4 [scipy]\n",
      "   ---------- ----------------------------- 1/4 [scipy]\n",
      "   ---------- ----------------------------- 1/4 [scipy]\n",
      "   ---------- ----------------------------- 1/4 [scipy]\n",
      "   ---------- ----------------------------- 1/4 [scipy]\n",
      "   ---------- ----------------------------- 1/4 [scipy]\n",
      "   ---------- ----------------------------- 1/4 [scipy]\n",
      "   ---------- ----------------------------- 1/4 [scipy]\n",
      "   ---------- ----------------------------- 1/4 [scipy]\n",
      "   ---------- ----------------------------- 1/4 [scipy]\n",
      "   ---------- ----------------------------- 1/4 [scipy]\n",
      "   ---------- ----------------------------- 1/4 [scipy]\n",
      "   ---------- ----------------------------- 1/4 [scipy]\n",
      "   ---------- ----------------------------- 1/4 [scipy]\n",
      "   ---------- ----------------------------- 1/4 [scipy]\n",
      "   ---------- ----------------------------- 1/4 [scipy]\n",
      "   ---------- ----------------------------- 1/4 [scipy]\n",
      "   ---------- ----------------------------- 1/4 [scipy]\n",
      "   ---------- ----------------------------- 1/4 [scipy]\n",
      "   ---------- ----------------------------- 1/4 [scipy]\n",
      "   ---------- ----------------------------- 1/4 [scipy]\n",
      "   ---------- ----------------------------- 1/4 [scipy]\n",
      "   ---------- ----------------------------- 1/4 [scipy]\n",
      "   ---------- ----------------------------- 1/4 [scipy]\n",
      "   ---------- ----------------------------- 1/4 [scipy]\n",
      "   ---------- ----------------------------- 1/4 [scipy]\n",
      "   ---------- ----------------------------- 1/4 [scipy]\n",
      "   ---------- ----------------------------- 1/4 [scipy]\n",
      "   ---------- ----------------------------- 1/4 [scipy]\n",
      "   ---------- ----------------------------- 1/4 [scipy]\n",
      "   ---------- ----------------------------- 1/4 [scipy]\n",
      "   ---------- ----------------------------- 1/4 [scipy]\n",
      "   ---------- ----------------------------- 1/4 [scipy]\n",
      "   ---------- ----------------------------- 1/4 [scipy]\n",
      "   ---------- ----------------------------- 1/4 [scipy]\n",
      "   ---------- ----------------------------- 1/4 [scipy]\n",
      "   ---------- ----------------------------- 1/4 [scipy]\n",
      "   ---------- ----------------------------- 1/4 [scipy]\n",
      "   ---------- ----------------------------- 1/4 [scipy]\n",
      "   ---------- ----------------------------- 1/4 [scipy]\n",
      "   ---------- ----------------------------- 1/4 [scipy]\n",
      "   ---------- ----------------------------- 1/4 [scipy]\n",
      "   ---------- ----------------------------- 1/4 [scipy]\n",
      "   ---------- ----------------------------- 1/4 [scipy]\n",
      "   ---------- ----------------------------- 1/4 [scipy]\n",
      "   ---------- ----------------------------- 1/4 [scipy]\n",
      "   ---------- ----------------------------- 1/4 [scipy]\n",
      "   ---------- ----------------------------- 1/4 [scipy]\n",
      "   ---------- ----------------------------- 1/4 [scipy]\n",
      "   ---------- ----------------------------- 1/4 [scipy]\n",
      "   ---------- ----------------------------- 1/4 [scipy]\n",
      "   ---------- ----------------------------- 1/4 [scipy]\n",
      "   ---------- ----------------------------- 1/4 [scipy]\n",
      "   ---------- ----------------------------- 1/4 [scipy]\n",
      "   ---------- ----------------------------- 1/4 [scipy]\n",
      "   ---------- ----------------------------- 1/4 [scipy]\n",
      "   ---------- ----------------------------- 1/4 [scipy]\n",
      "   ---------- ----------------------------- 1/4 [scipy]\n",
      "   ---------- ----------------------------- 1/4 [scipy]\n",
      "   ---------- ----------------------------- 1/4 [scipy]\n",
      "   ---------- ----------------------------- 1/4 [scipy]\n",
      "   ---------- ----------------------------- 1/4 [scipy]\n",
      "   ---------- ----------------------------- 1/4 [scipy]\n",
      "   ---------- ----------------------------- 1/4 [scipy]\n",
      "   ---------- ----------------------------- 1/4 [scipy]\n",
      "   ---------- ----------------------------- 1/4 [scipy]\n",
      "   ---------- ----------------------------- 1/4 [scipy]\n",
      "   ---------- ----------------------------- 1/4 [scipy]\n",
      "   ---------- ----------------------------- 1/4 [scipy]\n",
      "   ---------- ----------------------------- 1/4 [scipy]\n",
      "   ---------- ----------------------------- 1/4 [scipy]\n",
      "   ---------- ----------------------------- 1/4 [scipy]\n",
      "   ---------- ----------------------------- 1/4 [scipy]\n",
      "   ---------- ----------------------------- 1/4 [scipy]\n",
      "   ---------- ----------------------------- 1/4 [scipy]\n",
      "   ---------- ----------------------------- 1/4 [scipy]\n",
      "   ---------- ----------------------------- 1/4 [scipy]\n",
      "   ---------- ----------------------------- 1/4 [scipy]\n",
      "   ---------- ----------------------------- 1/4 [scipy]\n",
      "   ---------- ----------------------------- 1/4 [scipy]\n",
      "   ---------- ----------------------------- 1/4 [scipy]\n",
      "   ---------- ----------------------------- 1/4 [scipy]\n",
      "   ---------- ----------------------------- 1/4 [scipy]\n",
      "   ---------- ----------------------------- 1/4 [scipy]\n",
      "   ---------- ----------------------------- 1/4 [scipy]\n",
      "   ---------- ----------------------------- 1/4 [scipy]\n",
      "   ---------- ----------------------------- 1/4 [scipy]\n",
      "   ---------- ----------------------------- 1/4 [scipy]\n",
      "   ---------- ----------------------------- 1/4 [scipy]\n",
      "   ---------- ----------------------------- 1/4 [scipy]\n",
      "   ---------- ----------------------------- 1/4 [scipy]\n",
      "   ---------- ----------------------------- 1/4 [scipy]\n",
      "   ---------- ----------------------------- 1/4 [scipy]\n",
      "   ---------- ----------------------------- 1/4 [scipy]\n",
      "   ---------- ----------------------------- 1/4 [scipy]\n",
      "   ---------- ----------------------------- 1/4 [scipy]\n",
      "   ---------- ----------------------------- 1/4 [scipy]\n",
      "   ---------- ----------------------------- 1/4 [scipy]\n",
      "   ---------- ----------------------------- 1/4 [scipy]\n",
      "   ---------- ----------------------------- 1/4 [scipy]\n",
      "   ---------- ----------------------------- 1/4 [scipy]\n",
      "   ---------- ----------------------------- 1/4 [scipy]\n",
      "   ---------- ----------------------------- 1/4 [scipy]\n",
      "   ---------- ----------------------------- 1/4 [scipy]\n",
      "   ---------- ----------------------------- 1/4 [scipy]\n",
      "   ---------- ----------------------------- 1/4 [scipy]\n",
      "   ---------- ----------------------------- 1/4 [scipy]\n",
      "   ---------- ----------------------------- 1/4 [scipy]\n",
      "   ---------- ----------------------------- 1/4 [scipy]\n",
      "   ---------- ----------------------------- 1/4 [scipy]\n",
      "   ---------- ----------------------------- 1/4 [scipy]\n",
      "   ---------- ----------------------------- 1/4 [scipy]\n",
      "   ---------- ----------------------------- 1/4 [scipy]\n",
      "   ---------- ----------------------------- 1/4 [scipy]\n",
      "   ---------- ----------------------------- 1/4 [scipy]\n",
      "   ---------- ----------------------------- 1/4 [scipy]\n",
      "   ---------- ----------------------------- 1/4 [scipy]\n",
      "   ---------- ----------------------------- 1/4 [scipy]\n",
      "   ---------- ----------------------------- 1/4 [scipy]\n",
      "   ---------- ----------------------------- 1/4 [scipy]\n",
      "   ---------- ----------------------------- 1/4 [scipy]\n",
      "   ---------- ----------------------------- 1/4 [scipy]\n",
      "   ---------- ----------------------------- 1/4 [scipy]\n",
      "   ---------- ----------------------------- 1/4 [scipy]\n",
      "   ---------- ----------------------------- 1/4 [scipy]\n",
      "   ---------- ----------------------------- 1/4 [scipy]\n",
      "   ---------- ----------------------------- 1/4 [scipy]\n",
      "   ---------- ----------------------------- 1/4 [scipy]\n",
      "   ---------- ----------------------------- 1/4 [scipy]\n",
      "   ---------- ----------------------------- 1/4 [scipy]\n",
      "   ---------- ----------------------------- 1/4 [scipy]\n",
      "   ---------- ----------------------------- 1/4 [scipy]\n",
      "   ---------- ----------------------------- 1/4 [scipy]\n",
      "   ---------- ----------------------------- 1/4 [scipy]\n",
      "   ---------- ----------------------------- 1/4 [scipy]\n",
      "   ---------- ----------------------------- 1/4 [scipy]\n",
      "   ---------- ----------------------------- 1/4 [scipy]\n",
      "   ---------- ----------------------------- 1/4 [scipy]\n",
      "   ---------- ----------------------------- 1/4 [scipy]\n",
      "   ---------- ----------------------------- 1/4 [scipy]\n",
      "   ---------- ----------------------------- 1/4 [scipy]\n",
      "   ---------- ----------------------------- 1/4 [scipy]\n",
      "   ---------- ----------------------------- 1/4 [scipy]\n",
      "   ---------- ----------------------------- 1/4 [scipy]\n",
      "   ---------- ----------------------------- 1/4 [scipy]\n",
      "   ---------- ----------------------------- 1/4 [scipy]\n",
      "   ---------- ----------------------------- 1/4 [scipy]\n",
      "   ---------- ----------------------------- 1/4 [scipy]\n",
      "   ---------- ----------------------------- 1/4 [scipy]\n",
      "   ---------- ----------------------------- 1/4 [scipy]\n",
      "   ---------- ----------------------------- 1/4 [scipy]\n",
      "   ---------- ----------------------------- 1/4 [scipy]\n",
      "   ---------- ----------------------------- 1/4 [scipy]\n",
      "   ---------- ----------------------------- 1/4 [scipy]\n",
      "   ---------- ----------------------------- 1/4 [scipy]\n",
      "   ---------- ----------------------------- 1/4 [scipy]\n",
      "   ---------- ----------------------------- 1/4 [scipy]\n",
      "   ---------- ----------------------------- 1/4 [scipy]\n",
      "   ---------- ----------------------------- 1/4 [scipy]\n",
      "   ---------- ----------------------------- 1/4 [scipy]\n",
      "   ---------- ----------------------------- 1/4 [scipy]\n",
      "   ---------- ----------------------------- 1/4 [scipy]\n",
      "   ---------- ----------------------------- 1/4 [scipy]\n",
      "   ---------- ----------------------------- 1/4 [scipy]\n",
      "   ---------- ----------------------------- 1/4 [scipy]\n",
      "   ---------- ----------------------------- 1/4 [scipy]\n",
      "   ---------- ----------------------------- 1/4 [scipy]\n",
      "   ---------- ----------------------------- 1/4 [scipy]\n",
      "   ---------- ----------------------------- 1/4 [scipy]\n",
      "   ---------- ----------------------------- 1/4 [scipy]\n",
      "   ---------- ----------------------------- 1/4 [scipy]\n",
      "   ---------- ----------------------------- 1/4 [scipy]\n",
      "   ---------- ----------------------------- 1/4 [scipy]\n",
      "   ---------- ----------------------------- 1/4 [scipy]\n",
      "   ---------- ----------------------------- 1/4 [scipy]\n",
      "   ---------- ----------------------------- 1/4 [scipy]\n",
      "   ---------- ----------------------------- 1/4 [scipy]\n",
      "   ---------- ----------------------------- 1/4 [scipy]\n",
      "   ---------- ----------------------------- 1/4 [scipy]\n",
      "   ---------- ----------------------------- 1/4 [scipy]\n",
      "   ---------- ----------------------------- 1/4 [scipy]\n",
      "   ---------- ----------------------------- 1/4 [scipy]\n",
      "   ---------- ----------------------------- 1/4 [scipy]\n",
      "   ---------- ----------------------------- 1/4 [scipy]\n",
      "   -------------------- ------------------- 2/4 [scikit-learn]\n",
      "   -------------------- ------------------- 2/4 [scikit-learn]\n",
      "   -------------------- ------------------- 2/4 [scikit-learn]\n",
      "   -------------------- ------------------- 2/4 [scikit-learn]\n",
      "   -------------------- ------------------- 2/4 [scikit-learn]\n",
      "   -------------------- ------------------- 2/4 [scikit-learn]\n",
      "   -------------------- ------------------- 2/4 [scikit-learn]\n",
      "   -------------------- ------------------- 2/4 [scikit-learn]\n",
      "   -------------------- ------------------- 2/4 [scikit-learn]\n",
      "   -------------------- ------------------- 2/4 [scikit-learn]\n",
      "   -------------------- ------------------- 2/4 [scikit-learn]\n",
      "   -------------------- ------------------- 2/4 [scikit-learn]\n",
      "   -------------------- ------------------- 2/4 [scikit-learn]\n",
      "   -------------------- ------------------- 2/4 [scikit-learn]\n",
      "   -------------------- ------------------- 2/4 [scikit-learn]\n",
      "   -------------------- ------------------- 2/4 [scikit-learn]\n",
      "   -------------------- ------------------- 2/4 [scikit-learn]\n",
      "   -------------------- ------------------- 2/4 [scikit-learn]\n",
      "   -------------------- ------------------- 2/4 [scikit-learn]\n",
      "   -------------------- ------------------- 2/4 [scikit-learn]\n",
      "   -------------------- ------------------- 2/4 [scikit-learn]\n",
      "   -------------------- ------------------- 2/4 [scikit-learn]\n",
      "   -------------------- ------------------- 2/4 [scikit-learn]\n",
      "   -------------------- ------------------- 2/4 [scikit-learn]\n",
      "   -------------------- ------------------- 2/4 [scikit-learn]\n",
      "   -------------------- ------------------- 2/4 [scikit-learn]\n",
      "   -------------------- ------------------- 2/4 [scikit-learn]\n",
      "   -------------------- ------------------- 2/4 [scikit-learn]\n",
      "   -------------------- ------------------- 2/4 [scikit-learn]\n",
      "   -------------------- ------------------- 2/4 [scikit-learn]\n",
      "   -------------------- ------------------- 2/4 [scikit-learn]\n",
      "   -------------------- ------------------- 2/4 [scikit-learn]\n",
      "   -------------------- ------------------- 2/4 [scikit-learn]\n",
      "   -------------------- ------------------- 2/4 [scikit-learn]\n",
      "   -------------------- ------------------- 2/4 [scikit-learn]\n",
      "   -------------------- ------------------- 2/4 [scikit-learn]\n",
      "   -------------------- ------------------- 2/4 [scikit-learn]\n",
      "   -------------------- ------------------- 2/4 [scikit-learn]\n",
      "   -------------------- ------------------- 2/4 [scikit-learn]\n",
      "   -------------------- ------------------- 2/4 [scikit-learn]\n",
      "   -------------------- ------------------- 2/4 [scikit-learn]\n",
      "   -------------------- ------------------- 2/4 [scikit-learn]\n",
      "   -------------------- ------------------- 2/4 [scikit-learn]\n",
      "   -------------------- ------------------- 2/4 [scikit-learn]\n",
      "   -------------------- ------------------- 2/4 [scikit-learn]\n",
      "   -------------------- ------------------- 2/4 [scikit-learn]\n",
      "   -------------------- ------------------- 2/4 [scikit-learn]\n",
      "   -------------------- ------------------- 2/4 [scikit-learn]\n",
      "   -------------------- ------------------- 2/4 [scikit-learn]\n",
      "   -------------------- ------------------- 2/4 [scikit-learn]\n",
      "   -------------------- ------------------- 2/4 [scikit-learn]\n",
      "   -------------------- ------------------- 2/4 [scikit-learn]\n",
      "   -------------------- ------------------- 2/4 [scikit-learn]\n",
      "   -------------------- ------------------- 2/4 [scikit-learn]\n",
      "   -------------------- ------------------- 2/4 [scikit-learn]\n",
      "   -------------------- ------------------- 2/4 [scikit-learn]\n",
      "   -------------------- ------------------- 2/4 [scikit-learn]\n",
      "   -------------------- ------------------- 2/4 [scikit-learn]\n",
      "   -------------------- ------------------- 2/4 [scikit-learn]\n",
      "   -------------------- ------------------- 2/4 [scikit-learn]\n",
      "   -------------------- ------------------- 2/4 [scikit-learn]\n",
      "   -------------------- ------------------- 2/4 [scikit-learn]\n",
      "   -------------------- ------------------- 2/4 [scikit-learn]\n",
      "   -------------------- ------------------- 2/4 [scikit-learn]\n",
      "   -------------------- ------------------- 2/4 [scikit-learn]\n",
      "   -------------------- ------------------- 2/4 [scikit-learn]\n",
      "   -------------------- ------------------- 2/4 [scikit-learn]\n",
      "   -------------------- ------------------- 2/4 [scikit-learn]\n",
      "   -------------------- ------------------- 2/4 [scikit-learn]\n",
      "   -------------------- ------------------- 2/4 [scikit-learn]\n",
      "   -------------------- ------------------- 2/4 [scikit-learn]\n",
      "   -------------------- ------------------- 2/4 [scikit-learn]\n",
      "   -------------------- ------------------- 2/4 [scikit-learn]\n",
      "   -------------------- ------------------- 2/4 [scikit-learn]\n",
      "   -------------------- ------------------- 2/4 [scikit-learn]\n",
      "   -------------------- ------------------- 2/4 [scikit-learn]\n",
      "   -------------------- ------------------- 2/4 [scikit-learn]\n",
      "   -------------------- ------------------- 2/4 [scikit-learn]\n",
      "   -------------------- ------------------- 2/4 [scikit-learn]\n",
      "   -------------------- ------------------- 2/4 [scikit-learn]\n",
      "   -------------------- ------------------- 2/4 [scikit-learn]\n",
      "   -------------------- ------------------- 2/4 [scikit-learn]\n",
      "   -------------------- ------------------- 2/4 [scikit-learn]\n",
      "   -------------------- ------------------- 2/4 [scikit-learn]\n",
      "   -------------------- ------------------- 2/4 [scikit-learn]\n",
      "   -------------------- ------------------- 2/4 [scikit-learn]\n",
      "   -------------------- ------------------- 2/4 [scikit-learn]\n",
      "   -------------------- ------------------- 2/4 [scikit-learn]\n",
      "   -------------------- ------------------- 2/4 [scikit-learn]\n",
      "   -------------------- ------------------- 2/4 [scikit-learn]\n",
      "   -------------------- ------------------- 2/4 [scikit-learn]\n",
      "   -------------------- ------------------- 2/4 [scikit-learn]\n",
      "   -------------------- ------------------- 2/4 [scikit-learn]\n",
      "   -------------------- ------------------- 2/4 [scikit-learn]\n",
      "   -------------------- ------------------- 2/4 [scikit-learn]\n",
      "   -------------------- ------------------- 2/4 [scikit-learn]\n",
      "   -------------------- ------------------- 2/4 [scikit-learn]\n",
      "   -------------------- ------------------- 2/4 [scikit-learn]\n",
      "   -------------------- ------------------- 2/4 [scikit-learn]\n",
      "   -------------------- ------------------- 2/4 [scikit-learn]\n",
      "   -------------------- ------------------- 2/4 [scikit-learn]\n",
      "   -------------------- ------------------- 2/4 [scikit-learn]\n",
      "   -------------------- ------------------- 2/4 [scikit-learn]\n",
      "   -------------------- ------------------- 2/4 [scikit-learn]\n",
      "   -------------------- ------------------- 2/4 [scikit-learn]\n",
      "   -------------------- ------------------- 2/4 [scikit-learn]\n",
      "   -------------------- ------------------- 2/4 [scikit-learn]\n",
      "   -------------------- ------------------- 2/4 [scikit-learn]\n",
      "   -------------------- ------------------- 2/4 [scikit-learn]\n",
      "   -------------------- ------------------- 2/4 [scikit-learn]\n",
      "   ------------------------------ --------- 3/4 [sentence-transformers]\n",
      "   ------------------------------ --------- 3/4 [sentence-transformers]\n",
      "   ------------------------------ --------- 3/4 [sentence-transformers]\n",
      "   ------------------------------ --------- 3/4 [sentence-transformers]\n",
      "   ------------------------------ --------- 3/4 [sentence-transformers]\n",
      "   ------------------------------ --------- 3/4 [sentence-transformers]\n",
      "   ------------------------------ --------- 3/4 [sentence-transformers]\n",
      "   ------------------------------ --------- 3/4 [sentence-transformers]\n",
      "   ------------------------------ --------- 3/4 [sentence-transformers]\n",
      "   ------------------------------ --------- 3/4 [sentence-transformers]\n",
      "   ------------------------------ --------- 3/4 [sentence-transformers]\n",
      "   ------------------------------ --------- 3/4 [sentence-transformers]\n",
      "   ------------------------------ --------- 3/4 [sentence-transformers]\n",
      "   ------------------------------ --------- 3/4 [sentence-transformers]\n",
      "   ------------------------------ --------- 3/4 [sentence-transformers]\n",
      "   ------------------------------ --------- 3/4 [sentence-transformers]\n",
      "   ------------------------------ --------- 3/4 [sentence-transformers]\n",
      "   ------------------------------ --------- 3/4 [sentence-transformers]\n",
      "   ------------------------------ --------- 3/4 [sentence-transformers]\n",
      "   ------------------------------ --------- 3/4 [sentence-transformers]\n",
      "   ------------------------------ --------- 3/4 [sentence-transformers]\n",
      "   ------------------------------ --------- 3/4 [sentence-transformers]\n",
      "   ---------------------------------------- 4/4 [sentence-transformers]\n",
      "\n",
      "Successfully installed scikit-learn-1.7.0 scipy-1.16.0 sentence-transformers-5.0.0 threadpoolctl-3.6.0\n"
     ]
    }
   ],
   "source": [
    "#Install Packages\n",
    "!pip install faiss-cpu\n",
    "!pip install sentence-transformers"
   ]
  },
  {
   "cell_type": "code",
   "execution_count": 33,
   "id": "e11ac61d-5c1d-49f2-814c-ff7adff06469",
   "metadata": {},
   "outputs": [],
   "source": [
    "import pandas as pd\n",
    "pd.set_option('display.max_colwidth', 100)"
   ]
  },
  {
   "cell_type": "code",
   "execution_count": 34,
   "id": "e4983809-84b3-41bb-964d-905555a27de2",
   "metadata": {},
   "outputs": [
    {
     "data": {
      "text/plain": [
       "(8, 2)"
      ]
     },
     "execution_count": 34,
     "metadata": {},
     "output_type": "execute_result"
    }
   ],
   "source": [
    "df = pd.read_csv(\"sample_text.csv\")\n",
    "df.shape"
   ]
  },
  {
   "cell_type": "code",
   "execution_count": 35,
   "id": "84418d78-e105-4cc1-a410-ee67ce189ed2",
   "metadata": {},
   "outputs": [
    {
     "data": {
      "text/html": [
       "<div>\n",
       "<style scoped>\n",
       "    .dataframe tbody tr th:only-of-type {\n",
       "        vertical-align: middle;\n",
       "    }\n",
       "\n",
       "    .dataframe tbody tr th {\n",
       "        vertical-align: top;\n",
       "    }\n",
       "\n",
       "    .dataframe thead th {\n",
       "        text-align: right;\n",
       "    }\n",
       "</style>\n",
       "<table border=\"1\" class=\"dataframe\">\n",
       "  <thead>\n",
       "    <tr style=\"text-align: right;\">\n",
       "      <th></th>\n",
       "      <th>text</th>\n",
       "      <th>category</th>\n",
       "    </tr>\n",
       "  </thead>\n",
       "  <tbody>\n",
       "    <tr>\n",
       "      <th>0</th>\n",
       "      <td>Meditation and yoga can improve mental health</td>\n",
       "      <td>Health</td>\n",
       "    </tr>\n",
       "    <tr>\n",
       "      <th>1</th>\n",
       "      <td>Fruits, whole grains and vegetables helps control blood pressure</td>\n",
       "      <td>Health</td>\n",
       "    </tr>\n",
       "    <tr>\n",
       "      <th>2</th>\n",
       "      <td>These are the latest fashion trends for this week</td>\n",
       "      <td>Fashion</td>\n",
       "    </tr>\n",
       "    <tr>\n",
       "      <th>3</th>\n",
       "      <td>Vibrant color jeans for male are becoming a trend</td>\n",
       "      <td>Fashion</td>\n",
       "    </tr>\n",
       "    <tr>\n",
       "      <th>4</th>\n",
       "      <td>The concert starts at 7 PM tonight</td>\n",
       "      <td>Event</td>\n",
       "    </tr>\n",
       "    <tr>\n",
       "      <th>5</th>\n",
       "      <td>Navaratri dandiya program at Expo center in Mumbai this october</td>\n",
       "      <td>Event</td>\n",
       "    </tr>\n",
       "    <tr>\n",
       "      <th>6</th>\n",
       "      <td>Exciting vacation destinations for your next trip</td>\n",
       "      <td>Travel</td>\n",
       "    </tr>\n",
       "    <tr>\n",
       "      <th>7</th>\n",
       "      <td>Maldives and Srilanka are gaining popularity in terms of low budget vacation places</td>\n",
       "      <td>Travel</td>\n",
       "    </tr>\n",
       "  </tbody>\n",
       "</table>\n",
       "</div>"
      ],
      "text/plain": [
       "                                                                                  text  \\\n",
       "0                                        Meditation and yoga can improve mental health   \n",
       "1                     Fruits, whole grains and vegetables helps control blood pressure   \n",
       "2                                    These are the latest fashion trends for this week   \n",
       "3                                    Vibrant color jeans for male are becoming a trend   \n",
       "4                                                   The concert starts at 7 PM tonight   \n",
       "5                      Navaratri dandiya program at Expo center in Mumbai this october   \n",
       "6                                    Exciting vacation destinations for your next trip   \n",
       "7  Maldives and Srilanka are gaining popularity in terms of low budget vacation places   \n",
       "\n",
       "  category  \n",
       "0   Health  \n",
       "1   Health  \n",
       "2  Fashion  \n",
       "3  Fashion  \n",
       "4    Event  \n",
       "5    Event  \n",
       "6   Travel  \n",
       "7   Travel  "
      ]
     },
     "execution_count": 35,
     "metadata": {},
     "output_type": "execute_result"
    }
   ],
   "source": [
    "df"
   ]
  },
  {
   "cell_type": "code",
   "execution_count": 36,
   "id": "996a9acd-af80-46ee-b60c-177c6e6d38ec",
   "metadata": {},
   "outputs": [
    {
     "name": "stderr",
     "output_type": "stream",
     "text": [
      "C:\\Users\\hp\\AppData\\Local\\Programs\\Python\\Python312\\Lib\\site-packages\\tqdm\\auto.py:21: TqdmWarning: IProgress not found. Please update jupyter and ipywidgets. See https://ipywidgets.readthedocs.io/en/stable/user_install.html\n",
      "  from .autonotebook import tqdm as notebook_tqdm\n"
     ]
    }
   ],
   "source": [
    "\n",
    "from sentence_transformers import SentenceTransformer"
   ]
  },
  {
   "cell_type": "code",
   "execution_count": 37,
   "id": "c5ba90ae-7340-4262-8929-e6ff9c7e032f",
   "metadata": {},
   "outputs": [
    {
     "name": "stderr",
     "output_type": "stream",
     "text": [
      "C:\\Users\\hp\\AppData\\Local\\Programs\\Python\\Python312\\Lib\\site-packages\\huggingface_hub\\file_download.py:143: UserWarning: `huggingface_hub` cache-system uses symlinks by default to efficiently store duplicated files but your machine does not support them in C:\\Users\\hp\\.cache\\huggingface\\hub\\models--sentence-transformers--all-mpnet-base-v2. Caching files will still work but in a degraded version that might require more space on your disk. This warning can be disabled by setting the `HF_HUB_DISABLE_SYMLINKS_WARNING` environment variable. For more details, see https://huggingface.co/docs/huggingface_hub/how-to-cache#limitations.\n",
      "To support symlinks on Windows, you either need to activate Developer Mode or to run Python as an administrator. In order to activate developer mode, see this article: https://docs.microsoft.com/en-us/windows/apps/get-started/enable-your-device-for-development\n",
      "  warnings.warn(message)\n",
      "Xet Storage is enabled for this repo, but the 'hf_xet' package is not installed. Falling back to regular HTTP download. For better performance, install the package with: `pip install huggingface_hub[hf_xet]` or `pip install hf_xet`\n"
     ]
    }
   ],
   "source": [
    "encoder = SentenceTransformer(\"all-mpnet-base-v2\")\n",
    "vectors = encoder.encode(df.text)"
   ]
  },
  {
   "cell_type": "code",
   "execution_count": 38,
   "id": "a1a56c58-ec9e-4f3d-9989-7c62fe1e7ca2",
   "metadata": {},
   "outputs": [
    {
     "data": {
      "text/plain": [
       "(8, 768)"
      ]
     },
     "execution_count": 38,
     "metadata": {},
     "output_type": "execute_result"
    }
   ],
   "source": [
    "vectors.shape"
   ]
  },
  {
   "cell_type": "code",
   "execution_count": 39,
   "id": "d98714d5-d99c-4322-adca-5e27bafc63a9",
   "metadata": {},
   "outputs": [
    {
     "data": {
      "text/plain": [
       "768"
      ]
     },
     "execution_count": 39,
     "metadata": {},
     "output_type": "execute_result"
    }
   ],
   "source": [
    "dim = vectors.shape[1]\n",
    "dim"
   ]
  },
  {
   "cell_type": "code",
   "execution_count": 40,
   "id": "ed8be016-d1f9-4cea-bb64-d36f52becaf1",
   "metadata": {},
   "outputs": [],
   "source": [
    "import faiss\n",
    "\n",
    "index = faiss.IndexFlatL2(dim)"
   ]
  },
  {
   "cell_type": "code",
   "execution_count": 41,
   "id": "3791bf85-0444-41eb-ad6d-18be4420b1e5",
   "metadata": {},
   "outputs": [],
   "source": [
    "index.add(vectors)"
   ]
  },
  {
   "cell_type": "code",
   "execution_count": 42,
   "id": "7648967c-e448-4ae6-8840-f4f9b24f1a22",
   "metadata": {},
   "outputs": [
    {
     "data": {
      "text/plain": [
       "<faiss.swigfaiss_avx2.IndexFlatL2; proxy of <Swig Object of type 'faiss::IndexFlatL2 *' at 0x00000296B3A93810> >"
      ]
     },
     "execution_count": 42,
     "metadata": {},
     "output_type": "execute_result"
    }
   ],
   "source": [
    "index"
   ]
  },
  {
   "cell_type": "code",
   "execution_count": 43,
   "id": "f90b457f-dd5c-4625-8c92-22d1695d0196",
   "metadata": {},
   "outputs": [
    {
     "data": {
      "text/plain": [
       "(768,)"
      ]
     },
     "execution_count": 43,
     "metadata": {},
     "output_type": "execute_result"
    }
   ],
   "source": [
    "search_query = \"I want to buy a polo t-shirt\"\n",
    "# search_query = \"looking for places to visit during the holidays\"\n",
    "# search_query = \"An apple a day keeps the doctor away\"\n",
    "vec = encoder.encode(search_query)\n",
    "vec.shape"
   ]
  },
  {
   "cell_type": "code",
   "execution_count": 44,
   "id": "ce188ae0-9461-42f5-942f-33ec8b73921e",
   "metadata": {},
   "outputs": [
    {
     "data": {
      "text/plain": [
       "(1, 768)"
      ]
     },
     "execution_count": 44,
     "metadata": {},
     "output_type": "execute_result"
    }
   ],
   "source": [
    "import numpy as np\n",
    "svec = np.array(vec).reshape(1,-1)\n",
    "svec.shape"
   ]
  },
  {
   "cell_type": "code",
   "execution_count": 47,
   "id": "f07c68ff-f722-4632-9f00-eb9cc616bb26",
   "metadata": {},
   "outputs": [
    {
     "data": {
      "text/plain": [
       "(array([[1.384484 , 1.4039094]], dtype=float32), array([[3, 2]], dtype=int64))"
      ]
     },
     "execution_count": 47,
     "metadata": {},
     "output_type": "execute_result"
    }
   ],
   "source": [
    "distances, I = index.search(svec, k=2)\n",
    "distances,I"
   ]
  },
  {
   "cell_type": "code",
   "execution_count": 48,
   "id": "c4ac4c22-5b95-4857-8918-e744eb3f8962",
   "metadata": {},
   "outputs": [
    {
     "data": {
      "text/plain": [
       "[3, 2]"
      ]
     },
     "execution_count": 48,
     "metadata": {},
     "output_type": "execute_result"
    }
   ],
   "source": [
    "row_indices = I.tolist()[0]\n",
    "row_indices"
   ]
  },
  {
   "cell_type": "code",
   "execution_count": 49,
   "id": "b6f6d8c7-6935-4eb8-810a-4a5e25002c81",
   "metadata": {},
   "outputs": [
    {
     "data": {
      "text/html": [
       "<div>\n",
       "<style scoped>\n",
       "    .dataframe tbody tr th:only-of-type {\n",
       "        vertical-align: middle;\n",
       "    }\n",
       "\n",
       "    .dataframe tbody tr th {\n",
       "        vertical-align: top;\n",
       "    }\n",
       "\n",
       "    .dataframe thead th {\n",
       "        text-align: right;\n",
       "    }\n",
       "</style>\n",
       "<table border=\"1\" class=\"dataframe\">\n",
       "  <thead>\n",
       "    <tr style=\"text-align: right;\">\n",
       "      <th></th>\n",
       "      <th>text</th>\n",
       "      <th>category</th>\n",
       "    </tr>\n",
       "  </thead>\n",
       "  <tbody>\n",
       "    <tr>\n",
       "      <th>3</th>\n",
       "      <td>Vibrant color jeans for male are becoming a trend</td>\n",
       "      <td>Fashion</td>\n",
       "    </tr>\n",
       "    <tr>\n",
       "      <th>2</th>\n",
       "      <td>These are the latest fashion trends for this week</td>\n",
       "      <td>Fashion</td>\n",
       "    </tr>\n",
       "  </tbody>\n",
       "</table>\n",
       "</div>"
      ],
      "text/plain": [
       "                                                text category\n",
       "3  Vibrant color jeans for male are becoming a trend  Fashion\n",
       "2  These are the latest fashion trends for this week  Fashion"
      ]
     },
     "execution_count": 49,
     "metadata": {},
     "output_type": "execute_result"
    }
   ],
   "source": [
    "df.loc[row_indices]"
   ]
  },
  {
   "cell_type": "code",
   "execution_count": 50,
   "id": "5429498f-76cf-44aa-a0b6-44405bfe6b27",
   "metadata": {},
   "outputs": [
    {
     "data": {
      "text/plain": [
       "'I want to buy a polo t-shirt'"
      ]
     },
     "execution_count": 50,
     "metadata": {},
     "output_type": "execute_result"
    }
   ],
   "source": [
    "search_query"
   ]
  },
  {
   "cell_type": "code",
   "execution_count": 52,
   "id": "3cf9be20-32c6-4280-b6f7-a7bee5e852a4",
   "metadata": {},
   "outputs": [],
   "source": [
    "import os\n",
    "import pickle\n",
    "import time\n",
    "import langchain\n",
    "from langchain import OpenAI\n",
    "from langchain.chains import RetrievalQAWithSourcesChain\n",
    "from langchain.chains.qa_with_sources.loading import load_qa_with_sources_chain\n",
    "from langchain.text_splitter import RecursiveCharacterTextSplitter\n",
    "from langchain.document_loaders import UnstructuredURLLoader\n",
    "from langchain.embeddings import OpenAIEmbeddings\n",
    "from langchain.vectorstores import FAISS"
   ]
  },
  {
   "cell_type": "code",
   "execution_count": 68,
   "id": "f8fdc995-96b8-4776-8677-01e8819f51d1",
   "metadata": {},
   "outputs": [
    {
     "name": "stdout",
     "output_type": "stream",
     "text": [
      "Found existing installation: langchain 0.3.26\n",
      "Uninstalling langchain-0.3.26:\n",
      "  Successfully uninstalled langchain-0.3.26\n",
      "Found existing installation: langchain-community 0.3.27\n",
      "Uninstalling langchain-community-0.3.27:\n",
      "  Successfully uninstalled langchain-community-0.3.27\n",
      "Found existing installation: langchain-core 0.3.67\n",
      "Uninstalling langchain-core-0.3.67:\n",
      "  Successfully uninstalled langchain-core-0.3.67\n",
      "Found existing installation: huggingface-hub 0.33.2\n",
      "Uninstalling huggingface-hub-0.33.2:\n",
      "  Successfully uninstalled huggingface-hub-0.33.2\n",
      "Collecting langchain\n",
      "  Using cached langchain-0.3.26-py3-none-any.whl.metadata (7.8 kB)\n",
      "Collecting langchain-community\n",
      "  Using cached langchain_community-0.3.27-py3-none-any.whl.metadata (2.9 kB)\n",
      "Collecting langchain-core\n",
      "  Downloading langchain_core-0.3.68-py3-none-any.whl.metadata (5.8 kB)\n",
      "Requirement already satisfied: langchain-huggingface in c:\\users\\hp\\appdata\\local\\programs\\python\\python312\\lib\\site-packages (0.3.0)\n",
      "Collecting huggingface_hub\n",
      "  Using cached huggingface_hub-0.33.2-py3-none-any.whl.metadata (14 kB)\n",
      "Requirement already satisfied: langchain-text-splitters<1.0.0,>=0.3.8 in c:\\users\\hp\\appdata\\local\\programs\\python\\python312\\lib\\site-packages (from langchain) (0.3.8)\n",
      "Requirement already satisfied: langsmith>=0.1.17 in c:\\users\\hp\\appdata\\local\\programs\\python\\python312\\lib\\site-packages (from langchain) (0.4.4)\n",
      "Requirement already satisfied: pydantic<3.0.0,>=2.7.4 in c:\\users\\hp\\appdata\\local\\programs\\python\\python312\\lib\\site-packages (from langchain) (2.11.7)\n",
      "Requirement already satisfied: SQLAlchemy<3,>=1.4 in c:\\users\\hp\\appdata\\local\\programs\\python\\python312\\lib\\site-packages (from langchain) (2.0.41)\n",
      "Requirement already satisfied: requests<3,>=2 in c:\\users\\hp\\appdata\\local\\programs\\python\\python312\\lib\\site-packages (from langchain) (2.31.0)\n",
      "Requirement already satisfied: PyYAML>=5.3 in c:\\users\\hp\\appdata\\local\\programs\\python\\python312\\lib\\site-packages (from langchain) (6.0.1)\n",
      "Requirement already satisfied: tenacity!=8.4.0,<10.0.0,>=8.1.0 in c:\\users\\hp\\appdata\\local\\programs\\python\\python312\\lib\\site-packages (from langchain-core) (9.1.2)\n",
      "Requirement already satisfied: jsonpatch<2.0,>=1.33 in c:\\users\\hp\\appdata\\local\\programs\\python\\python312\\lib\\site-packages (from langchain-core) (1.33)\n",
      "Requirement already satisfied: packaging<25,>=23.2 in c:\\users\\hp\\appdata\\local\\programs\\python\\python312\\lib\\site-packages (from langchain-core) (24.0)\n",
      "Requirement already satisfied: typing-extensions>=4.7 in c:\\users\\hp\\appdata\\local\\programs\\python\\python312\\lib\\site-packages (from langchain-core) (4.12.2)\n",
      "Requirement already satisfied: jsonpointer>=1.9 in c:\\users\\hp\\appdata\\local\\programs\\python\\python312\\lib\\site-packages (from jsonpatch<2.0,>=1.33->langchain-core) (2.4)\n",
      "Requirement already satisfied: annotated-types>=0.6.0 in c:\\users\\hp\\appdata\\local\\programs\\python\\python312\\lib\\site-packages (from pydantic<3.0.0,>=2.7.4->langchain) (0.7.0)\n",
      "Requirement already satisfied: pydantic-core==2.33.2 in c:\\users\\hp\\appdata\\local\\programs\\python\\python312\\lib\\site-packages (from pydantic<3.0.0,>=2.7.4->langchain) (2.33.2)\n",
      "Requirement already satisfied: typing-inspection>=0.4.0 in c:\\users\\hp\\appdata\\local\\programs\\python\\python312\\lib\\site-packages (from pydantic<3.0.0,>=2.7.4->langchain) (0.4.1)\n",
      "Requirement already satisfied: charset-normalizer<4,>=2 in c:\\users\\hp\\appdata\\local\\programs\\python\\python312\\lib\\site-packages (from requests<3,>=2->langchain) (3.3.2)\n",
      "Requirement already satisfied: idna<4,>=2.5 in c:\\users\\hp\\appdata\\local\\programs\\python\\python312\\lib\\site-packages (from requests<3,>=2->langchain) (3.6)\n",
      "Requirement already satisfied: urllib3<3,>=1.21.1 in c:\\users\\hp\\appdata\\local\\programs\\python\\python312\\lib\\site-packages (from requests<3,>=2->langchain) (2.2.1)\n",
      "Requirement already satisfied: certifi>=2017.4.17 in c:\\users\\hp\\appdata\\local\\programs\\python\\python312\\lib\\site-packages (from requests<3,>=2->langchain) (2024.2.2)\n",
      "Requirement already satisfied: greenlet>=1 in c:\\users\\hp\\appdata\\local\\programs\\python\\python312\\lib\\site-packages (from SQLAlchemy<3,>=1.4->langchain) (3.2.3)\n",
      "Requirement already satisfied: aiohttp<4.0.0,>=3.8.3 in c:\\users\\hp\\appdata\\local\\programs\\python\\python312\\lib\\site-packages (from langchain-community) (3.12.13)\n",
      "Requirement already satisfied: dataclasses-json<0.7,>=0.5.7 in c:\\users\\hp\\appdata\\local\\programs\\python\\python312\\lib\\site-packages (from langchain-community) (0.6.7)\n",
      "Requirement already satisfied: pydantic-settings<3.0.0,>=2.4.0 in c:\\users\\hp\\appdata\\local\\programs\\python\\python312\\lib\\site-packages (from langchain-community) (2.10.1)\n",
      "Requirement already satisfied: httpx-sse<1.0.0,>=0.4.0 in c:\\users\\hp\\appdata\\local\\programs\\python\\python312\\lib\\site-packages (from langchain-community) (0.4.1)\n",
      "Requirement already satisfied: numpy>=1.26.2 in c:\\users\\hp\\appdata\\local\\programs\\python\\python312\\lib\\site-packages (from langchain-community) (1.26.4)\n",
      "Requirement already satisfied: aiohappyeyeballs>=2.5.0 in c:\\users\\hp\\appdata\\local\\programs\\python\\python312\\lib\\site-packages (from aiohttp<4.0.0,>=3.8.3->langchain-community) (2.6.1)\n",
      "Requirement already satisfied: aiosignal>=1.1.2 in c:\\users\\hp\\appdata\\local\\programs\\python\\python312\\lib\\site-packages (from aiohttp<4.0.0,>=3.8.3->langchain-community) (1.3.2)\n",
      "Requirement already satisfied: attrs>=17.3.0 in c:\\users\\hp\\appdata\\local\\programs\\python\\python312\\lib\\site-packages (from aiohttp<4.0.0,>=3.8.3->langchain-community) (23.2.0)\n",
      "Requirement already satisfied: frozenlist>=1.1.1 in c:\\users\\hp\\appdata\\local\\programs\\python\\python312\\lib\\site-packages (from aiohttp<4.0.0,>=3.8.3->langchain-community) (1.7.0)\n",
      "Requirement already satisfied: multidict<7.0,>=4.5 in c:\\users\\hp\\appdata\\local\\programs\\python\\python312\\lib\\site-packages (from aiohttp<4.0.0,>=3.8.3->langchain-community) (6.6.3)\n",
      "Requirement already satisfied: propcache>=0.2.0 in c:\\users\\hp\\appdata\\local\\programs\\python\\python312\\lib\\site-packages (from aiohttp<4.0.0,>=3.8.3->langchain-community) (0.3.2)\n",
      "Requirement already satisfied: yarl<2.0,>=1.17.0 in c:\\users\\hp\\appdata\\local\\programs\\python\\python312\\lib\\site-packages (from aiohttp<4.0.0,>=3.8.3->langchain-community) (1.20.1)\n",
      "Requirement already satisfied: marshmallow<4.0.0,>=3.18.0 in c:\\users\\hp\\appdata\\local\\programs\\python\\python312\\lib\\site-packages (from dataclasses-json<0.7,>=0.5.7->langchain-community) (3.26.1)\n",
      "Requirement already satisfied: typing-inspect<1,>=0.4.0 in c:\\users\\hp\\appdata\\local\\programs\\python\\python312\\lib\\site-packages (from dataclasses-json<0.7,>=0.5.7->langchain-community) (0.9.0)\n",
      "Requirement already satisfied: python-dotenv>=0.21.0 in c:\\users\\hp\\appdata\\local\\programs\\python\\python312\\lib\\site-packages (from pydantic-settings<3.0.0,>=2.4.0->langchain-community) (1.1.1)\n",
      "Requirement already satisfied: mypy-extensions>=0.3.0 in c:\\users\\hp\\appdata\\local\\programs\\python\\python312\\lib\\site-packages (from typing-inspect<1,>=0.4.0->dataclasses-json<0.7,>=0.5.7->langchain-community) (1.1.0)\n",
      "Requirement already satisfied: tokenizers>=0.19.1 in c:\\users\\hp\\appdata\\local\\programs\\python\\python312\\lib\\site-packages (from langchain-huggingface) (0.21.1)\n",
      "Requirement already satisfied: filelock in c:\\users\\hp\\appdata\\local\\programs\\python\\python312\\lib\\site-packages (from huggingface_hub) (3.18.0)\n",
      "Requirement already satisfied: fsspec>=2023.5.0 in c:\\users\\hp\\appdata\\local\\programs\\python\\python312\\lib\\site-packages (from huggingface_hub) (2025.5.1)\n",
      "Requirement already satisfied: tqdm>=4.42.1 in c:\\users\\hp\\appdata\\local\\programs\\python\\python312\\lib\\site-packages (from huggingface_hub) (4.67.1)\n",
      "Requirement already satisfied: httpx<1,>=0.23.0 in c:\\users\\hp\\appdata\\local\\programs\\python\\python312\\lib\\site-packages (from langsmith>=0.1.17->langchain) (0.27.0)\n",
      "Requirement already satisfied: orjson<4.0.0,>=3.9.14 in c:\\users\\hp\\appdata\\local\\programs\\python\\python312\\lib\\site-packages (from langsmith>=0.1.17->langchain) (3.10.18)\n",
      "Requirement already satisfied: requests-toolbelt<2.0.0,>=1.0.0 in c:\\users\\hp\\appdata\\local\\programs\\python\\python312\\lib\\site-packages (from langsmith>=0.1.17->langchain) (1.0.0)\n",
      "Requirement already satisfied: zstandard<0.24.0,>=0.23.0 in c:\\users\\hp\\appdata\\local\\programs\\python\\python312\\lib\\site-packages (from langsmith>=0.1.17->langchain) (0.23.0)\n",
      "Requirement already satisfied: anyio in c:\\users\\hp\\appdata\\local\\programs\\python\\python312\\lib\\site-packages (from httpx<1,>=0.23.0->langsmith>=0.1.17->langchain) (4.3.0)\n",
      "Requirement already satisfied: httpcore==1.* in c:\\users\\hp\\appdata\\local\\programs\\python\\python312\\lib\\site-packages (from httpx<1,>=0.23.0->langsmith>=0.1.17->langchain) (1.0.5)\n",
      "Requirement already satisfied: sniffio in c:\\users\\hp\\appdata\\local\\programs\\python\\python312\\lib\\site-packages (from httpx<1,>=0.23.0->langsmith>=0.1.17->langchain) (1.3.1)\n",
      "Requirement already satisfied: h11<0.15,>=0.13 in c:\\users\\hp\\appdata\\local\\programs\\python\\python312\\lib\\site-packages (from httpcore==1.*->httpx<1,>=0.23.0->langsmith>=0.1.17->langchain) (0.14.0)\n",
      "Requirement already satisfied: colorama in c:\\users\\hp\\appdata\\local\\programs\\python\\python312\\lib\\site-packages (from tqdm>=4.42.1->huggingface_hub) (0.4.6)\n",
      "Using cached langchain-0.3.26-py3-none-any.whl (1.0 MB)\n",
      "Downloading langchain_core-0.3.68-py3-none-any.whl (441 kB)\n",
      "Using cached langchain_community-0.3.27-py3-none-any.whl (2.5 MB)\n",
      "Using cached huggingface_hub-0.33.2-py3-none-any.whl (515 kB)\n",
      "Installing collected packages: huggingface_hub, langchain-core, langchain, langchain-community\n",
      "\n",
      "   ---------------------------------------- 0/4 [huggingface_hub]\n",
      "   ---------------------------------------- 0/4 [huggingface_hub]\n",
      "   ---------------------------------------- 0/4 [huggingface_hub]\n",
      "   ---------------------------------------- 0/4 [huggingface_hub]\n",
      "   ---------------------------------------- 0/4 [huggingface_hub]\n",
      "   ---------------------------------------- 0/4 [huggingface_hub]\n",
      "   ---------------------------------------- 0/4 [huggingface_hub]\n",
      "   ---------------------------------------- 0/4 [huggingface_hub]\n",
      "   ---------------------------------------- 0/4 [huggingface_hub]\n",
      "   ---------------------------------------- 0/4 [huggingface_hub]\n",
      "   ---------------------------------------- 0/4 [huggingface_hub]\n",
      "   ---------------------------------------- 0/4 [huggingface_hub]\n",
      "   ---------- ----------------------------- 1/4 [langchain-core]\n",
      "   ---------- ----------------------------- 1/4 [langchain-core]\n",
      "   ---------- ----------------------------- 1/4 [langchain-core]\n",
      "   ---------- ----------------------------- 1/4 [langchain-core]\n",
      "   ---------- ----------------------------- 1/4 [langchain-core]\n",
      "   ---------- ----------------------------- 1/4 [langchain-core]\n",
      "   ---------- ----------------------------- 1/4 [langchain-core]\n",
      "   ---------- ----------------------------- 1/4 [langchain-core]\n",
      "   ---------- ----------------------------- 1/4 [langchain-core]\n",
      "   ---------- ----------------------------- 1/4 [langchain-core]\n",
      "   ---------- ----------------------------- 1/4 [langchain-core]\n",
      "   ---------- ----------------------------- 1/4 [langchain-core]\n",
      "   ---------- ----------------------------- 1/4 [langchain-core]\n",
      "   ---------- ----------------------------- 1/4 [langchain-core]\n",
      "   ---------- ----------------------------- 1/4 [langchain-core]\n",
      "   ---------- ----------------------------- 1/4 [langchain-core]\n",
      "   ---------- ----------------------------- 1/4 [langchain-core]\n",
      "   -------------------- ------------------- 2/4 [langchain]\n",
      "   -------------------- ------------------- 2/4 [langchain]\n",
      "   -------------------- ------------------- 2/4 [langchain]\n",
      "   -------------------- ------------------- 2/4 [langchain]\n",
      "   -------------------- ------------------- 2/4 [langchain]\n",
      "   -------------------- ------------------- 2/4 [langchain]\n",
      "   -------------------- ------------------- 2/4 [langchain]\n",
      "   -------------------- ------------------- 2/4 [langchain]\n",
      "   -------------------- ------------------- 2/4 [langchain]\n",
      "   -------------------- ------------------- 2/4 [langchain]\n",
      "   -------------------- ------------------- 2/4 [langchain]\n",
      "   -------------------- ------------------- 2/4 [langchain]\n",
      "   -------------------- ------------------- 2/4 [langchain]\n",
      "   -------------------- ------------------- 2/4 [langchain]\n",
      "   -------------------- ------------------- 2/4 [langchain]\n",
      "   -------------------- ------------------- 2/4 [langchain]\n",
      "   -------------------- ------------------- 2/4 [langchain]\n",
      "   -------------------- ------------------- 2/4 [langchain]\n",
      "   -------------------- ------------------- 2/4 [langchain]\n",
      "   -------------------- ------------------- 2/4 [langchain]\n",
      "   -------------------- ------------------- 2/4 [langchain]\n",
      "   -------------------- ------------------- 2/4 [langchain]\n",
      "   -------------------- ------------------- 2/4 [langchain]\n",
      "   -------------------- ------------------- 2/4 [langchain]\n",
      "   -------------------- ------------------- 2/4 [langchain]\n",
      "   -------------------- ------------------- 2/4 [langchain]\n",
      "   -------------------- ------------------- 2/4 [langchain]\n",
      "   -------------------- ------------------- 2/4 [langchain]\n",
      "   -------------------- ------------------- 2/4 [langchain]\n",
      "   -------------------- ------------------- 2/4 [langchain]\n",
      "   -------------------- ------------------- 2/4 [langchain]\n",
      "   -------------------- ------------------- 2/4 [langchain]\n",
      "   -------------------- ------------------- 2/4 [langchain]\n",
      "   -------------------- ------------------- 2/4 [langchain]\n",
      "   -------------------- ------------------- 2/4 [langchain]\n",
      "   -------------------- ------------------- 2/4 [langchain]\n",
      "   -------------------- ------------------- 2/4 [langchain]\n",
      "   -------------------- ------------------- 2/4 [langchain]\n",
      "   -------------------- ------------------- 2/4 [langchain]\n",
      "   -------------------- ------------------- 2/4 [langchain]\n",
      "   -------------------- ------------------- 2/4 [langchain]\n",
      "   -------------------- ------------------- 2/4 [langchain]\n",
      "   -------------------- ------------------- 2/4 [langchain]\n",
      "   -------------------- ------------------- 2/4 [langchain]\n",
      "   -------------------- ------------------- 2/4 [langchain]\n",
      "   -------------------- ------------------- 2/4 [langchain]\n",
      "   -------------------- ------------------- 2/4 [langchain]\n",
      "   -------------------- ------------------- 2/4 [langchain]\n",
      "   -------------------- ------------------- 2/4 [langchain]\n",
      "   -------------------- ------------------- 2/4 [langchain]\n",
      "   -------------------- ------------------- 2/4 [langchain]\n",
      "   -------------------- ------------------- 2/4 [langchain]\n",
      "   -------------------- ------------------- 2/4 [langchain]\n",
      "   -------------------- ------------------- 2/4 [langchain]\n",
      "   -------------------- ------------------- 2/4 [langchain]\n",
      "   -------------------- ------------------- 2/4 [langchain]\n",
      "   -------------------- ------------------- 2/4 [langchain]\n",
      "   -------------------- ------------------- 2/4 [langchain]\n",
      "   -------------------- ------------------- 2/4 [langchain]\n",
      "   -------------------- ------------------- 2/4 [langchain]\n",
      "   -------------------- ------------------- 2/4 [langchain]\n",
      "   -------------------- ------------------- 2/4 [langchain]\n",
      "   -------------------- ------------------- 2/4 [langchain]\n",
      "   -------------------- ------------------- 2/4 [langchain]\n",
      "   -------------------- ------------------- 2/4 [langchain]\n",
      "   -------------------- ------------------- 2/4 [langchain]\n",
      "   -------------------- ------------------- 2/4 [langchain]\n",
      "   -------------------- ------------------- 2/4 [langchain]\n",
      "   -------------------- ------------------- 2/4 [langchain]\n",
      "   -------------------- ------------------- 2/4 [langchain]\n",
      "   -------------------- ------------------- 2/4 [langchain]\n",
      "   -------------------- ------------------- 2/4 [langchain]\n",
      "   -------------------- ------------------- 2/4 [langchain]\n",
      "   -------------------- ------------------- 2/4 [langchain]\n",
      "   -------------------- ------------------- 2/4 [langchain]\n",
      "   -------------------- ------------------- 2/4 [langchain]\n",
      "   -------------------- ------------------- 2/4 [langchain]\n",
      "   -------------------- ------------------- 2/4 [langchain]\n",
      "   -------------------- ------------------- 2/4 [langchain]\n",
      "   -------------------- ------------------- 2/4 [langchain]\n",
      "   -------------------- ------------------- 2/4 [langchain]\n",
      "   -------------------- ------------------- 2/4 [langchain]\n",
      "   -------------------- ------------------- 2/4 [langchain]\n",
      "   -------------------- ------------------- 2/4 [langchain]\n",
      "   -------------------- ------------------- 2/4 [langchain]\n",
      "   -------------------- ------------------- 2/4 [langchain]\n",
      "   -------------------- ------------------- 2/4 [langchain]\n",
      "   -------------------- ------------------- 2/4 [langchain]\n",
      "   -------------------- ------------------- 2/4 [langchain]\n",
      "   -------------------- ------------------- 2/4 [langchain]\n",
      "   -------------------- ------------------- 2/4 [langchain]\n",
      "   -------------------- ------------------- 2/4 [langchain]\n",
      "   -------------------- ------------------- 2/4 [langchain]\n",
      "   -------------------- ------------------- 2/4 [langchain]\n",
      "   -------------------- ------------------- 2/4 [langchain]\n",
      "   -------------------- ------------------- 2/4 [langchain]\n",
      "   -------------------- ------------------- 2/4 [langchain]\n",
      "   -------------------- ------------------- 2/4 [langchain]\n",
      "   -------------------- ------------------- 2/4 [langchain]\n",
      "   -------------------- ------------------- 2/4 [langchain]\n",
      "   -------------------- ------------------- 2/4 [langchain]\n",
      "   -------------------- ------------------- 2/4 [langchain]\n",
      "   -------------------- ------------------- 2/4 [langchain]\n",
      "   -------------------- ------------------- 2/4 [langchain]\n",
      "   -------------------- ------------------- 2/4 [langchain]\n",
      "   -------------------- ------------------- 2/4 [langchain]\n",
      "   -------------------- ------------------- 2/4 [langchain]\n",
      "   -------------------- ------------------- 2/4 [langchain]\n",
      "   -------------------- ------------------- 2/4 [langchain]\n",
      "   -------------------- ------------------- 2/4 [langchain]\n",
      "   -------------------- ------------------- 2/4 [langchain]\n",
      "   -------------------- ------------------- 2/4 [langchain]\n",
      "   -------------------- ------------------- 2/4 [langchain]\n",
      "   -------------------- ------------------- 2/4 [langchain]\n",
      "   -------------------- ------------------- 2/4 [langchain]\n",
      "   -------------------- ------------------- 2/4 [langchain]\n",
      "   -------------------- ------------------- 2/4 [langchain]\n",
      "   -------------------- ------------------- 2/4 [langchain]\n",
      "   -------------------- ------------------- 2/4 [langchain]\n",
      "   -------------------- ------------------- 2/4 [langchain]\n",
      "   -------------------- ------------------- 2/4 [langchain]\n",
      "   -------------------- ------------------- 2/4 [langchain]\n",
      "   -------------------- ------------------- 2/4 [langchain]\n",
      "   -------------------- ------------------- 2/4 [langchain]\n",
      "   ------------------------------ --------- 3/4 [langchain-community]\n",
      "   ------------------------------ --------- 3/4 [langchain-community]\n",
      "   ------------------------------ --------- 3/4 [langchain-community]\n",
      "   ------------------------------ --------- 3/4 [langchain-community]\n",
      "   ------------------------------ --------- 3/4 [langchain-community]\n",
      "   ------------------------------ --------- 3/4 [langchain-community]\n",
      "   ------------------------------ --------- 3/4 [langchain-community]\n",
      "   ------------------------------ --------- 3/4 [langchain-community]\n",
      "   ------------------------------ --------- 3/4 [langchain-community]\n",
      "   ------------------------------ --------- 3/4 [langchain-community]\n",
      "   ------------------------------ --------- 3/4 [langchain-community]\n",
      "   ------------------------------ --------- 3/4 [langchain-community]\n",
      "   ------------------------------ --------- 3/4 [langchain-community]\n",
      "   ------------------------------ --------- 3/4 [langchain-community]\n",
      "   ------------------------------ --------- 3/4 [langchain-community]\n",
      "   ------------------------------ --------- 3/4 [langchain-community]\n",
      "   ------------------------------ --------- 3/4 [langchain-community]\n",
      "   ------------------------------ --------- 3/4 [langchain-community]\n",
      "   ------------------------------ --------- 3/4 [langchain-community]\n",
      "   ------------------------------ --------- 3/4 [langchain-community]\n",
      "   ------------------------------ --------- 3/4 [langchain-community]\n",
      "   ------------------------------ --------- 3/4 [langchain-community]\n",
      "   ------------------------------ --------- 3/4 [langchain-community]\n",
      "   ------------------------------ --------- 3/4 [langchain-community]\n",
      "   ------------------------------ --------- 3/4 [langchain-community]\n",
      "   ------------------------------ --------- 3/4 [langchain-community]\n",
      "   ------------------------------ --------- 3/4 [langchain-community]\n",
      "   ------------------------------ --------- 3/4 [langchain-community]\n",
      "   ------------------------------ --------- 3/4 [langchain-community]\n",
      "   ------------------------------ --------- 3/4 [langchain-community]\n",
      "   ------------------------------ --------- 3/4 [langchain-community]\n",
      "   ------------------------------ --------- 3/4 [langchain-community]\n",
      "   ------------------------------ --------- 3/4 [langchain-community]\n",
      "   ------------------------------ --------- 3/4 [langchain-community]\n",
      "   ------------------------------ --------- 3/4 [langchain-community]\n",
      "   ------------------------------ --------- 3/4 [langchain-community]\n",
      "   ------------------------------ --------- 3/4 [langchain-community]\n",
      "   ------------------------------ --------- 3/4 [langchain-community]\n",
      "   ------------------------------ --------- 3/4 [langchain-community]\n",
      "   ------------------------------ --------- 3/4 [langchain-community]\n",
      "   ------------------------------ --------- 3/4 [langchain-community]\n",
      "   ------------------------------ --------- 3/4 [langchain-community]\n",
      "   ------------------------------ --------- 3/4 [langchain-community]\n",
      "   ------------------------------ --------- 3/4 [langchain-community]\n",
      "   ------------------------------ --------- 3/4 [langchain-community]\n",
      "   ------------------------------ --------- 3/4 [langchain-community]\n",
      "   ------------------------------ --------- 3/4 [langchain-community]\n",
      "   ------------------------------ --------- 3/4 [langchain-community]\n",
      "   ------------------------------ --------- 3/4 [langchain-community]\n",
      "   ------------------------------ --------- 3/4 [langchain-community]\n",
      "   ------------------------------ --------- 3/4 [langchain-community]\n",
      "   ------------------------------ --------- 3/4 [langchain-community]\n",
      "   ------------------------------ --------- 3/4 [langchain-community]\n",
      "   ------------------------------ --------- 3/4 [langchain-community]\n",
      "   ------------------------------ --------- 3/4 [langchain-community]\n",
      "   ------------------------------ --------- 3/4 [langchain-community]\n",
      "   ------------------------------ --------- 3/4 [langchain-community]\n",
      "   ------------------------------ --------- 3/4 [langchain-community]\n",
      "   ------------------------------ --------- 3/4 [langchain-community]\n",
      "   ------------------------------ --------- 3/4 [langchain-community]\n",
      "   ------------------------------ --------- 3/4 [langchain-community]\n",
      "   ------------------------------ --------- 3/4 [langchain-community]\n",
      "   ------------------------------ --------- 3/4 [langchain-community]\n",
      "   ------------------------------ --------- 3/4 [langchain-community]\n",
      "   ------------------------------ --------- 3/4 [langchain-community]\n",
      "   ------------------------------ --------- 3/4 [langchain-community]\n",
      "   ------------------------------ --------- 3/4 [langchain-community]\n",
      "   ------------------------------ --------- 3/4 [langchain-community]\n",
      "   ------------------------------ --------- 3/4 [langchain-community]\n",
      "   ------------------------------ --------- 3/4 [langchain-community]\n",
      "   ------------------------------ --------- 3/4 [langchain-community]\n",
      "   ------------------------------ --------- 3/4 [langchain-community]\n",
      "   ------------------------------ --------- 3/4 [langchain-community]\n",
      "   ------------------------------ --------- 3/4 [langchain-community]\n",
      "   ------------------------------ --------- 3/4 [langchain-community]\n",
      "   ------------------------------ --------- 3/4 [langchain-community]\n",
      "   ------------------------------ --------- 3/4 [langchain-community]\n",
      "   ------------------------------ --------- 3/4 [langchain-community]\n",
      "   ------------------------------ --------- 3/4 [langchain-community]\n",
      "   ------------------------------ --------- 3/4 [langchain-community]\n",
      "   ------------------------------ --------- 3/4 [langchain-community]\n",
      "   ------------------------------ --------- 3/4 [langchain-community]\n",
      "   ------------------------------ --------- 3/4 [langchain-community]\n",
      "   ------------------------------ --------- 3/4 [langchain-community]\n",
      "   ------------------------------ --------- 3/4 [langchain-community]\n",
      "   ------------------------------ --------- 3/4 [langchain-community]\n",
      "   ------------------------------ --------- 3/4 [langchain-community]\n",
      "   ------------------------------ --------- 3/4 [langchain-community]\n",
      "   ------------------------------ --------- 3/4 [langchain-community]\n",
      "   ------------------------------ --------- 3/4 [langchain-community]\n",
      "   ------------------------------ --------- 3/4 [langchain-community]\n",
      "   ------------------------------ --------- 3/4 [langchain-community]\n",
      "   ------------------------------ --------- 3/4 [langchain-community]\n",
      "   ------------------------------ --------- 3/4 [langchain-community]\n",
      "   ------------------------------ --------- 3/4 [langchain-community]\n",
      "   ------------------------------ --------- 3/4 [langchain-community]\n",
      "   ------------------------------ --------- 3/4 [langchain-community]\n",
      "   ------------------------------ --------- 3/4 [langchain-community]\n",
      "   ------------------------------ --------- 3/4 [langchain-community]\n",
      "   ------------------------------ --------- 3/4 [langchain-community]\n",
      "   ------------------------------ --------- 3/4 [langchain-community]\n",
      "   ------------------------------ --------- 3/4 [langchain-community]\n",
      "   ------------------------------ --------- 3/4 [langchain-community]\n",
      "   ------------------------------ --------- 3/4 [langchain-community]\n",
      "   ------------------------------ --------- 3/4 [langchain-community]\n",
      "   ------------------------------ --------- 3/4 [langchain-community]\n",
      "   ------------------------------ --------- 3/4 [langchain-community]\n",
      "   ------------------------------ --------- 3/4 [langchain-community]\n",
      "   ------------------------------ --------- 3/4 [langchain-community]\n",
      "   ------------------------------ --------- 3/4 [langchain-community]\n",
      "   ------------------------------ --------- 3/4 [langchain-community]\n",
      "   ------------------------------ --------- 3/4 [langchain-community]\n",
      "   ------------------------------ --------- 3/4 [langchain-community]\n",
      "   ------------------------------ --------- 3/4 [langchain-community]\n",
      "   ------------------------------ --------- 3/4 [langchain-community]\n",
      "   ------------------------------ --------- 3/4 [langchain-community]\n",
      "   ------------------------------ --------- 3/4 [langchain-community]\n",
      "   ------------------------------ --------- 3/4 [langchain-community]\n",
      "   ------------------------------ --------- 3/4 [langchain-community]\n",
      "   ------------------------------ --------- 3/4 [langchain-community]\n",
      "   ------------------------------ --------- 3/4 [langchain-community]\n",
      "   ------------------------------ --------- 3/4 [langchain-community]\n",
      "   ------------------------------ --------- 3/4 [langchain-community]\n",
      "   ------------------------------ --------- 3/4 [langchain-community]\n",
      "   ------------------------------ --------- 3/4 [langchain-community]\n",
      "   ------------------------------ --------- 3/4 [langchain-community]\n",
      "   ------------------------------ --------- 3/4 [langchain-community]\n",
      "   ------------------------------ --------- 3/4 [langchain-community]\n",
      "   ------------------------------ --------- 3/4 [langchain-community]\n",
      "   ------------------------------ --------- 3/4 [langchain-community]\n",
      "   ------------------------------ --------- 3/4 [langchain-community]\n",
      "   ------------------------------ --------- 3/4 [langchain-community]\n",
      "   ------------------------------ --------- 3/4 [langchain-community]\n",
      "   ------------------------------ --------- 3/4 [langchain-community]\n",
      "   ------------------------------ --------- 3/4 [langchain-community]\n",
      "   ------------------------------ --------- 3/4 [langchain-community]\n",
      "   ------------------------------ --------- 3/4 [langchain-community]\n",
      "   ------------------------------ --------- 3/4 [langchain-community]\n",
      "   ------------------------------ --------- 3/4 [langchain-community]\n",
      "   ------------------------------ --------- 3/4 [langchain-community]\n",
      "   ------------------------------ --------- 3/4 [langchain-community]\n",
      "   ------------------------------ --------- 3/4 [langchain-community]\n",
      "   ------------------------------ --------- 3/4 [langchain-community]\n",
      "   ------------------------------ --------- 3/4 [langchain-community]\n",
      "   ---------------------------------------- 4/4 [langchain-community]\n",
      "\n",
      "Successfully installed huggingface_hub-0.33.2 langchain-0.3.26 langchain-community-0.3.27 langchain-core-0.3.68\n"
     ]
    }
   ],
   "source": [
    "\n",
    "!pip uninstall langchain langchain-community langchain-core huggingface_hub -y\n",
    "!pip install -U langchain langchain-community langchain-core langchain-huggingface huggingface_hub\n"
   ]
  },
  {
   "cell_type": "code",
   "execution_count": 74,
   "id": "da361aed-0cd6-4d1b-9f81-54c68f97d9f6",
   "metadata": {},
   "outputs": [
    {
     "name": "stdout",
     "output_type": "stream",
     "text": [
      "Requirement already satisfied: langchain in c:\\users\\hp\\appdata\\local\\programs\\python\\python312\\lib\\site-packages (0.3.26)\n",
      "Requirement already satisfied: langchain-huggingface in c:\\users\\hp\\appdata\\local\\programs\\python\\python312\\lib\\site-packages (0.3.0)\n",
      "Requirement already satisfied: huggingface_hub in c:\\users\\hp\\appdata\\local\\programs\\python\\python312\\lib\\site-packages (0.33.2)\n",
      "Requirement already satisfied: langchain-core<1.0.0,>=0.3.66 in c:\\users\\hp\\appdata\\local\\programs\\python\\python312\\lib\\site-packages (from langchain) (0.3.68)\n",
      "Requirement already satisfied: langchain-text-splitters<1.0.0,>=0.3.8 in c:\\users\\hp\\appdata\\local\\programs\\python\\python312\\lib\\site-packages (from langchain) (0.3.8)\n",
      "Requirement already satisfied: langsmith>=0.1.17 in c:\\users\\hp\\appdata\\local\\programs\\python\\python312\\lib\\site-packages (from langchain) (0.4.4)\n",
      "Requirement already satisfied: pydantic<3.0.0,>=2.7.4 in c:\\users\\hp\\appdata\\local\\programs\\python\\python312\\lib\\site-packages (from langchain) (2.11.7)\n",
      "Requirement already satisfied: SQLAlchemy<3,>=1.4 in c:\\users\\hp\\appdata\\local\\programs\\python\\python312\\lib\\site-packages (from langchain) (2.0.41)\n",
      "Requirement already satisfied: requests<3,>=2 in c:\\users\\hp\\appdata\\local\\programs\\python\\python312\\lib\\site-packages (from langchain) (2.31.0)\n",
      "Requirement already satisfied: PyYAML>=5.3 in c:\\users\\hp\\appdata\\local\\programs\\python\\python312\\lib\\site-packages (from langchain) (6.0.1)\n",
      "Requirement already satisfied: tenacity!=8.4.0,<10.0.0,>=8.1.0 in c:\\users\\hp\\appdata\\local\\programs\\python\\python312\\lib\\site-packages (from langchain-core<1.0.0,>=0.3.66->langchain) (9.1.2)\n",
      "Requirement already satisfied: jsonpatch<2.0,>=1.33 in c:\\users\\hp\\appdata\\local\\programs\\python\\python312\\lib\\site-packages (from langchain-core<1.0.0,>=0.3.66->langchain) (1.33)\n",
      "Requirement already satisfied: packaging<25,>=23.2 in c:\\users\\hp\\appdata\\local\\programs\\python\\python312\\lib\\site-packages (from langchain-core<1.0.0,>=0.3.66->langchain) (24.0)\n",
      "Requirement already satisfied: typing-extensions>=4.7 in c:\\users\\hp\\appdata\\local\\programs\\python\\python312\\lib\\site-packages (from langchain-core<1.0.0,>=0.3.66->langchain) (4.12.2)\n",
      "Requirement already satisfied: jsonpointer>=1.9 in c:\\users\\hp\\appdata\\local\\programs\\python\\python312\\lib\\site-packages (from jsonpatch<2.0,>=1.33->langchain-core<1.0.0,>=0.3.66->langchain) (2.4)\n",
      "Requirement already satisfied: annotated-types>=0.6.0 in c:\\users\\hp\\appdata\\local\\programs\\python\\python312\\lib\\site-packages (from pydantic<3.0.0,>=2.7.4->langchain) (0.7.0)\n",
      "Requirement already satisfied: pydantic-core==2.33.2 in c:\\users\\hp\\appdata\\local\\programs\\python\\python312\\lib\\site-packages (from pydantic<3.0.0,>=2.7.4->langchain) (2.33.2)\n",
      "Requirement already satisfied: typing-inspection>=0.4.0 in c:\\users\\hp\\appdata\\local\\programs\\python\\python312\\lib\\site-packages (from pydantic<3.0.0,>=2.7.4->langchain) (0.4.1)\n",
      "Requirement already satisfied: charset-normalizer<4,>=2 in c:\\users\\hp\\appdata\\local\\programs\\python\\python312\\lib\\site-packages (from requests<3,>=2->langchain) (3.3.2)\n",
      "Requirement already satisfied: idna<4,>=2.5 in c:\\users\\hp\\appdata\\local\\programs\\python\\python312\\lib\\site-packages (from requests<3,>=2->langchain) (3.6)\n",
      "Requirement already satisfied: urllib3<3,>=1.21.1 in c:\\users\\hp\\appdata\\local\\programs\\python\\python312\\lib\\site-packages (from requests<3,>=2->langchain) (2.2.1)\n",
      "Requirement already satisfied: certifi>=2017.4.17 in c:\\users\\hp\\appdata\\local\\programs\\python\\python312\\lib\\site-packages (from requests<3,>=2->langchain) (2024.2.2)\n",
      "Requirement already satisfied: greenlet>=1 in c:\\users\\hp\\appdata\\local\\programs\\python\\python312\\lib\\site-packages (from SQLAlchemy<3,>=1.4->langchain) (3.2.3)\n",
      "Requirement already satisfied: tokenizers>=0.19.1 in c:\\users\\hp\\appdata\\local\\programs\\python\\python312\\lib\\site-packages (from langchain-huggingface) (0.21.1)\n",
      "Requirement already satisfied: filelock in c:\\users\\hp\\appdata\\local\\programs\\python\\python312\\lib\\site-packages (from huggingface_hub) (3.18.0)\n",
      "Requirement already satisfied: fsspec>=2023.5.0 in c:\\users\\hp\\appdata\\local\\programs\\python\\python312\\lib\\site-packages (from huggingface_hub) (2025.5.1)\n",
      "Requirement already satisfied: tqdm>=4.42.1 in c:\\users\\hp\\appdata\\local\\programs\\python\\python312\\lib\\site-packages (from huggingface_hub) (4.67.1)\n",
      "Requirement already satisfied: httpx<1,>=0.23.0 in c:\\users\\hp\\appdata\\local\\programs\\python\\python312\\lib\\site-packages (from langsmith>=0.1.17->langchain) (0.27.0)\n",
      "Requirement already satisfied: orjson<4.0.0,>=3.9.14 in c:\\users\\hp\\appdata\\local\\programs\\python\\python312\\lib\\site-packages (from langsmith>=0.1.17->langchain) (3.10.18)\n",
      "Requirement already satisfied: requests-toolbelt<2.0.0,>=1.0.0 in c:\\users\\hp\\appdata\\local\\programs\\python\\python312\\lib\\site-packages (from langsmith>=0.1.17->langchain) (1.0.0)\n",
      "Requirement already satisfied: zstandard<0.24.0,>=0.23.0 in c:\\users\\hp\\appdata\\local\\programs\\python\\python312\\lib\\site-packages (from langsmith>=0.1.17->langchain) (0.23.0)\n",
      "Requirement already satisfied: anyio in c:\\users\\hp\\appdata\\local\\programs\\python\\python312\\lib\\site-packages (from httpx<1,>=0.23.0->langsmith>=0.1.17->langchain) (4.3.0)\n",
      "Requirement already satisfied: httpcore==1.* in c:\\users\\hp\\appdata\\local\\programs\\python\\python312\\lib\\site-packages (from httpx<1,>=0.23.0->langsmith>=0.1.17->langchain) (1.0.5)\n",
      "Requirement already satisfied: sniffio in c:\\users\\hp\\appdata\\local\\programs\\python\\python312\\lib\\site-packages (from httpx<1,>=0.23.0->langsmith>=0.1.17->langchain) (1.3.1)\n",
      "Requirement already satisfied: h11<0.15,>=0.13 in c:\\users\\hp\\appdata\\local\\programs\\python\\python312\\lib\\site-packages (from httpcore==1.*->httpx<1,>=0.23.0->langsmith>=0.1.17->langchain) (0.14.0)\n",
      "Requirement already satisfied: colorama in c:\\users\\hp\\appdata\\local\\programs\\python\\python312\\lib\\site-packages (from tqdm>=4.42.1->huggingface_hub) (0.4.6)\n",
      "Note: you may need to restart the kernel to use updated packages.\n"
     ]
    }
   ],
   "source": [
    "pip install --upgrade langchain langchain-huggingface huggingface_hub\n"
   ]
  },
  {
   "cell_type": "code",
   "execution_count": 89,
   "id": "7d6d0a38-1ae3-41de-901c-2859807c2423",
   "metadata": {},
   "outputs": [
    {
     "name": "stdout",
     "output_type": "stream",
     "text": [
      "Note: you may need to restart the kernel to use updated packages.\n"
     ]
    }
   ],
   "source": [
    "pip install -q -U google-genai"
   ]
  },
  {
   "cell_type": "code",
   "execution_count": 90,
   "id": "0c422568-7c7b-4139-852b-a443b28538a5",
   "metadata": {},
   "outputs": [
    {
     "name": "stdout",
     "output_type": "stream",
     "text": [
      "Requirement already satisfied: python-dotenv in c:\\users\\hp\\appdata\\local\\programs\\python\\python312\\lib\\site-packages (1.1.1)\n",
      "Note: you may need to restart the kernel to use updated packages.\n"
     ]
    }
   ],
   "source": [
    "pip install python-dotenv\n"
   ]
  },
  {
   "cell_type": "code",
   "execution_count": 103,
   "id": "e818085b-e4a2-4334-be3d-9595c0dee952",
   "metadata": {},
   "outputs": [],
   "source": [
    "from dotenv import load_dotenv\n",
    "load_dotenv()\n",
    "\n",
    "import os\n",
    "api_key = os.getenv(\"GEMINI_API_KEY\")\n"
   ]
  },
  {
   "cell_type": "code",
   "execution_count": 93,
   "id": "7630215d-2de4-4a82-ab50-d5a991b83948",
   "metadata": {},
   "outputs": [
    {
     "name": "stdout",
     "output_type": "stream",
     "text": [
      "Requirement already satisfied: langchain in c:\\users\\hp\\appdata\\local\\programs\\python\\python312\\lib\\site-packages (0.3.26)\n",
      "Requirement already satisfied: langchain-google-genai in c:\\users\\hp\\appdata\\local\\programs\\python\\python312\\lib\\site-packages (2.0.10)\n",
      "Requirement already satisfied: langchain-core<1.0.0,>=0.3.66 in c:\\users\\hp\\appdata\\local\\programs\\python\\python312\\lib\\site-packages (from langchain) (0.3.68)\n",
      "Requirement already satisfied: langchain-text-splitters<1.0.0,>=0.3.8 in c:\\users\\hp\\appdata\\local\\programs\\python\\python312\\lib\\site-packages (from langchain) (0.3.8)\n",
      "Requirement already satisfied: langsmith>=0.1.17 in c:\\users\\hp\\appdata\\local\\programs\\python\\python312\\lib\\site-packages (from langchain) (0.4.4)\n",
      "Requirement already satisfied: pydantic<3.0.0,>=2.7.4 in c:\\users\\hp\\appdata\\local\\programs\\python\\python312\\lib\\site-packages (from langchain) (2.11.7)\n",
      "Requirement already satisfied: SQLAlchemy<3,>=1.4 in c:\\users\\hp\\appdata\\local\\programs\\python\\python312\\lib\\site-packages (from langchain) (2.0.41)\n",
      "Requirement already satisfied: requests<3,>=2 in c:\\users\\hp\\appdata\\local\\programs\\python\\python312\\lib\\site-packages (from langchain) (2.31.0)\n",
      "Requirement already satisfied: PyYAML>=5.3 in c:\\users\\hp\\appdata\\local\\programs\\python\\python312\\lib\\site-packages (from langchain) (6.0.1)\n",
      "Requirement already satisfied: tenacity!=8.4.0,<10.0.0,>=8.1.0 in c:\\users\\hp\\appdata\\local\\programs\\python\\python312\\lib\\site-packages (from langchain-core<1.0.0,>=0.3.66->langchain) (8.5.0)\n",
      "Requirement already satisfied: jsonpatch<2.0,>=1.33 in c:\\users\\hp\\appdata\\local\\programs\\python\\python312\\lib\\site-packages (from langchain-core<1.0.0,>=0.3.66->langchain) (1.33)\n",
      "Requirement already satisfied: packaging<25,>=23.2 in c:\\users\\hp\\appdata\\local\\programs\\python\\python312\\lib\\site-packages (from langchain-core<1.0.0,>=0.3.66->langchain) (24.0)\n",
      "Requirement already satisfied: typing-extensions>=4.7 in c:\\users\\hp\\appdata\\local\\programs\\python\\python312\\lib\\site-packages (from langchain-core<1.0.0,>=0.3.66->langchain) (4.12.2)\n",
      "Requirement already satisfied: jsonpointer>=1.9 in c:\\users\\hp\\appdata\\local\\programs\\python\\python312\\lib\\site-packages (from jsonpatch<2.0,>=1.33->langchain-core<1.0.0,>=0.3.66->langchain) (2.4)\n",
      "Requirement already satisfied: annotated-types>=0.6.0 in c:\\users\\hp\\appdata\\local\\programs\\python\\python312\\lib\\site-packages (from pydantic<3.0.0,>=2.7.4->langchain) (0.7.0)\n",
      "Requirement already satisfied: pydantic-core==2.33.2 in c:\\users\\hp\\appdata\\local\\programs\\python\\python312\\lib\\site-packages (from pydantic<3.0.0,>=2.7.4->langchain) (2.33.2)\n",
      "Requirement already satisfied: typing-inspection>=0.4.0 in c:\\users\\hp\\appdata\\local\\programs\\python\\python312\\lib\\site-packages (from pydantic<3.0.0,>=2.7.4->langchain) (0.4.1)\n",
      "Requirement already satisfied: charset-normalizer<4,>=2 in c:\\users\\hp\\appdata\\local\\programs\\python\\python312\\lib\\site-packages (from requests<3,>=2->langchain) (3.3.2)\n",
      "Requirement already satisfied: idna<4,>=2.5 in c:\\users\\hp\\appdata\\local\\programs\\python\\python312\\lib\\site-packages (from requests<3,>=2->langchain) (3.6)\n",
      "Requirement already satisfied: urllib3<3,>=1.21.1 in c:\\users\\hp\\appdata\\local\\programs\\python\\python312\\lib\\site-packages (from requests<3,>=2->langchain) (2.2.1)\n",
      "Requirement already satisfied: certifi>=2017.4.17 in c:\\users\\hp\\appdata\\local\\programs\\python\\python312\\lib\\site-packages (from requests<3,>=2->langchain) (2024.2.2)\n",
      "Requirement already satisfied: greenlet>=1 in c:\\users\\hp\\appdata\\local\\programs\\python\\python312\\lib\\site-packages (from SQLAlchemy<3,>=1.4->langchain) (3.2.3)\n",
      "Requirement already satisfied: filetype<2.0.0,>=1.2.0 in c:\\users\\hp\\appdata\\local\\programs\\python\\python312\\lib\\site-packages (from langchain-google-genai) (1.2.0)\n",
      "Requirement already satisfied: google-generativeai<0.9.0,>=0.8.0 in c:\\users\\hp\\appdata\\local\\programs\\python\\python312\\lib\\site-packages (from langchain-google-genai) (0.8.5)\n",
      "Requirement already satisfied: google-ai-generativelanguage==0.6.15 in c:\\users\\hp\\appdata\\local\\programs\\python\\python312\\lib\\site-packages (from google-generativeai<0.9.0,>=0.8.0->langchain-google-genai) (0.6.15)\n",
      "Requirement already satisfied: google-api-core in c:\\users\\hp\\appdata\\local\\programs\\python\\python312\\lib\\site-packages (from google-generativeai<0.9.0,>=0.8.0->langchain-google-genai) (2.25.1)\n",
      "Requirement already satisfied: google-api-python-client in c:\\users\\hp\\appdata\\local\\programs\\python\\python312\\lib\\site-packages (from google-generativeai<0.9.0,>=0.8.0->langchain-google-genai) (2.174.0)\n",
      "Requirement already satisfied: google-auth>=2.15.0 in c:\\users\\hp\\appdata\\local\\programs\\python\\python312\\lib\\site-packages (from google-generativeai<0.9.0,>=0.8.0->langchain-google-genai) (2.40.3)\n",
      "Requirement already satisfied: protobuf in c:\\users\\hp\\appdata\\local\\programs\\python\\python312\\lib\\site-packages (from google-generativeai<0.9.0,>=0.8.0->langchain-google-genai) (5.29.5)\n",
      "Requirement already satisfied: tqdm in c:\\users\\hp\\appdata\\local\\programs\\python\\python312\\lib\\site-packages (from google-generativeai<0.9.0,>=0.8.0->langchain-google-genai) (4.67.1)\n",
      "Requirement already satisfied: proto-plus<2.0.0dev,>=1.22.3 in c:\\users\\hp\\appdata\\local\\programs\\python\\python312\\lib\\site-packages (from google-ai-generativelanguage==0.6.15->google-generativeai<0.9.0,>=0.8.0->langchain-google-genai) (1.26.1)\n",
      "Requirement already satisfied: googleapis-common-protos<2.0.0,>=1.56.2 in c:\\users\\hp\\appdata\\local\\programs\\python\\python312\\lib\\site-packages (from google-api-core->google-generativeai<0.9.0,>=0.8.0->langchain-google-genai) (1.70.0)\n",
      "Requirement already satisfied: grpcio<2.0.0,>=1.33.2 in c:\\users\\hp\\appdata\\local\\programs\\python\\python312\\lib\\site-packages (from google-api-core[grpc]!=2.0.*,!=2.1.*,!=2.10.*,!=2.2.*,!=2.3.*,!=2.4.*,!=2.5.*,!=2.6.*,!=2.7.*,!=2.8.*,!=2.9.*,<3.0.0dev,>=1.34.1->google-ai-generativelanguage==0.6.15->google-generativeai<0.9.0,>=0.8.0->langchain-google-genai) (1.73.1)\n",
      "Requirement already satisfied: grpcio-status<2.0.0,>=1.33.2 in c:\\users\\hp\\appdata\\local\\programs\\python\\python312\\lib\\site-packages (from google-api-core[grpc]!=2.0.*,!=2.1.*,!=2.10.*,!=2.2.*,!=2.3.*,!=2.4.*,!=2.5.*,!=2.6.*,!=2.7.*,!=2.8.*,!=2.9.*,<3.0.0dev,>=1.34.1->google-ai-generativelanguage==0.6.15->google-generativeai<0.9.0,>=0.8.0->langchain-google-genai) (1.71.2)\n",
      "Requirement already satisfied: cachetools<6.0,>=2.0.0 in c:\\users\\hp\\appdata\\local\\programs\\python\\python312\\lib\\site-packages (from google-auth>=2.15.0->google-generativeai<0.9.0,>=0.8.0->langchain-google-genai) (5.5.2)\n",
      "Requirement already satisfied: pyasn1-modules>=0.2.1 in c:\\users\\hp\\appdata\\local\\programs\\python\\python312\\lib\\site-packages (from google-auth>=2.15.0->google-generativeai<0.9.0,>=0.8.0->langchain-google-genai) (0.4.2)\n",
      "Requirement already satisfied: rsa<5,>=3.1.4 in c:\\users\\hp\\appdata\\local\\programs\\python\\python312\\lib\\site-packages (from google-auth>=2.15.0->google-generativeai<0.9.0,>=0.8.0->langchain-google-genai) (4.9.1)\n",
      "Requirement already satisfied: pyasn1>=0.1.3 in c:\\users\\hp\\appdata\\local\\programs\\python\\python312\\lib\\site-packages (from rsa<5,>=3.1.4->google-auth>=2.15.0->google-generativeai<0.9.0,>=0.8.0->langchain-google-genai) (0.6.1)\n",
      "Requirement already satisfied: httpx<1,>=0.23.0 in c:\\users\\hp\\appdata\\local\\programs\\python\\python312\\lib\\site-packages (from langsmith>=0.1.17->langchain) (0.28.1)\n",
      "Requirement already satisfied: orjson<4.0.0,>=3.9.14 in c:\\users\\hp\\appdata\\local\\programs\\python\\python312\\lib\\site-packages (from langsmith>=0.1.17->langchain) (3.10.18)\n",
      "Requirement already satisfied: requests-toolbelt<2.0.0,>=1.0.0 in c:\\users\\hp\\appdata\\local\\programs\\python\\python312\\lib\\site-packages (from langsmith>=0.1.17->langchain) (1.0.0)\n",
      "Requirement already satisfied: zstandard<0.24.0,>=0.23.0 in c:\\users\\hp\\appdata\\local\\programs\\python\\python312\\lib\\site-packages (from langsmith>=0.1.17->langchain) (0.23.0)\n",
      "Requirement already satisfied: anyio in c:\\users\\hp\\appdata\\local\\programs\\python\\python312\\lib\\site-packages (from httpx<1,>=0.23.0->langsmith>=0.1.17->langchain) (4.9.0)\n",
      "Requirement already satisfied: httpcore==1.* in c:\\users\\hp\\appdata\\local\\programs\\python\\python312\\lib\\site-packages (from httpx<1,>=0.23.0->langsmith>=0.1.17->langchain) (1.0.5)\n",
      "Requirement already satisfied: h11<0.15,>=0.13 in c:\\users\\hp\\appdata\\local\\programs\\python\\python312\\lib\\site-packages (from httpcore==1.*->httpx<1,>=0.23.0->langsmith>=0.1.17->langchain) (0.14.0)\n",
      "Requirement already satisfied: sniffio>=1.1 in c:\\users\\hp\\appdata\\local\\programs\\python\\python312\\lib\\site-packages (from anyio->httpx<1,>=0.23.0->langsmith>=0.1.17->langchain) (1.3.1)\n",
      "Requirement already satisfied: httplib2<1.0.0,>=0.19.0 in c:\\users\\hp\\appdata\\local\\programs\\python\\python312\\lib\\site-packages (from google-api-python-client->google-generativeai<0.9.0,>=0.8.0->langchain-google-genai) (0.22.0)\n",
      "Requirement already satisfied: google-auth-httplib2<1.0.0,>=0.2.0 in c:\\users\\hp\\appdata\\local\\programs\\python\\python312\\lib\\site-packages (from google-api-python-client->google-generativeai<0.9.0,>=0.8.0->langchain-google-genai) (0.2.0)\n",
      "Requirement already satisfied: uritemplate<5,>=3.0.1 in c:\\users\\hp\\appdata\\local\\programs\\python\\python312\\lib\\site-packages (from google-api-python-client->google-generativeai<0.9.0,>=0.8.0->langchain-google-genai) (4.2.0)\n",
      "Requirement already satisfied: pyparsing!=3.0.0,!=3.0.1,!=3.0.2,!=3.0.3,<4,>=2.4.2 in c:\\users\\hp\\appdata\\local\\programs\\python\\python312\\lib\\site-packages (from httplib2<1.0.0,>=0.19.0->google-api-python-client->google-generativeai<0.9.0,>=0.8.0->langchain-google-genai) (3.2.3)\n",
      "Requirement already satisfied: colorama in c:\\users\\hp\\appdata\\local\\programs\\python\\python312\\lib\\site-packages (from tqdm->google-generativeai<0.9.0,>=0.8.0->langchain-google-genai) (0.4.6)\n",
      "Note: you may need to restart the kernel to use updated packages.\n"
     ]
    }
   ],
   "source": [
    "pip install langchain langchain-google-genai\n"
   ]
  },
  {
   "cell_type": "code",
   "execution_count": 104,
   "id": "7a9b24d9-be41-407e-b559-b5cdb47a96d1",
   "metadata": {},
   "outputs": [
    {
     "name": "stdout",
     "output_type": "stream",
     "text": [
      "NVIDIA is a technology company primarily known for its **graphics processing units (GPUs)**.  While initially focused on the gaming market, NVIDIA's GPUs have become essential components in a wide range of industries, including:\n",
      "\n",
      "* **Gaming:**  Powering high-performance gaming PCs and consoles.\n",
      "* **Data Centers:**  Used for artificial intelligence (AI) training and inference, high-performance computing (HPC), and cloud computing.\n",
      "* **Professional Visualization:**  Enabling advanced graphics and computing capabilities for fields like architecture, engineering, and film production.\n",
      "* **Autonomous Vehicles:**  Providing the computing power for self-driving car systems.\n",
      "\n",
      "In essence, NVIDIA designs and manufactures specialized processors that excel at parallel processing, making them ideal for tasks requiring complex calculations and data manipulation.  Beyond the hardware, they also develop software and platforms to support their products and facilitate their use in diverse applications.\n",
      "\n"
     ]
    }
   ],
   "source": [
    "from langchain_google_genai import GoogleGenerativeAI\n",
    "from langchain_core.messages import HumanMessage\n",
    "\n",
    "llm = GoogleGenerativeAI(\n",
    "    model=\"gemini-1.5-flash\",\n",
    "    temperature=0.7,\n",
    "    google_api_key=api_key\n",
    ")\n",
    "\n",
    "response = llm.invoke([HumanMessage(content=\"What is NVIDIA?\")])\n",
    "print(response)\n"
   ]
  },
  {
   "cell_type": "code",
   "execution_count": 105,
   "id": "3c370adc-15a9-48c5-b9a1-6313455e7d7c",
   "metadata": {},
   "outputs": [
    {
     "data": {
      "text/plain": [
       "2"
      ]
     },
     "execution_count": 105,
     "metadata": {},
     "output_type": "execute_result"
    }
   ],
   "source": [
    "loaders = UnstructuredURLLoader(urls=[\n",
    "    \"https://www.moneycontrol.com/news/business/markets/wall-street-rises-as-tesla-soars-on-ai-optimism-11351111.html\",\n",
    "    \"https://www.moneycontrol.com/news/business/tata-motors-launches-punch-icng-price-starts-at-rs-7-1-lakh-11098751.html\"\n",
    "])\n",
    "data = loaders.load() \n",
    "len(data)"
   ]
  },
  {
   "cell_type": "code",
   "execution_count": 106,
   "id": "b8123e69-9fa7-4958-adf6-89cdd56106d2",
   "metadata": {},
   "outputs": [],
   "source": [
    "text_splitter = RecursiveCharacterTextSplitter(\n",
    "    chunk_size=1000,\n",
    "    chunk_overlap=200\n",
    ")\n",
    "\n",
    "# As data is of type documents we can directly use split_documents over split_text in order to get the chunks.\n",
    "docs = text_splitter.split_documents(data)"
   ]
  },
  {
   "cell_type": "code",
   "execution_count": 108,
   "id": "f5c9f46f-cec5-4d37-bf7a-3a55e4ce2ff0",
   "metadata": {},
   "outputs": [
    {
     "data": {
      "text/plain": [
       "17"
      ]
     },
     "execution_count": 108,
     "metadata": {},
     "output_type": "execute_result"
    }
   ],
   "source": [
    "len(docs)"
   ]
  },
  {
   "cell_type": "code",
   "execution_count": 109,
   "id": "956ee1ca-1922-46e1-8cc9-5fdcf467fa7c",
   "metadata": {},
   "outputs": [
    {
     "data": {
      "text/plain": [
       "Document(metadata={'source': 'https://www.moneycontrol.com/news/business/markets/wall-street-rises-as-tesla-soars-on-ai-optimism-11351111.html'}, page_content='English\\n\\nHindi\\n\\nGujarati\\n\\nSpecials\\n\\nHello, Login\\n\\nHello, Login\\n\\nLog-inor Sign-Up\\n\\nMy Account\\n\\nMy Profile\\n\\nMy Portfolio\\n\\nMy Watchlist\\n\\nMy Alerts\\n\\nMy Messages\\n\\nPrice Alerts\\n\\nMy Profile\\n\\nMy PRO\\n\\nMy Portfolio\\n\\nMy Watchlist\\n\\nMy Alerts\\n\\nMy Messages\\n\\nPrice Alerts\\n\\nLogout\\n\\nLoans up to ₹50 LAKHS\\n\\nFixed Deposits\\n\\nCredit CardsLifetime Free\\n\\nCredit Score\\n\\nChat with Us\\n\\nDownload App\\n\\nFollow us on:\\n\\nNetwork 18\\n\\nGo Ad-Free\\n\\nMy Alerts\\n\\n>->MC_ENG_DESKTOP/MC_ENG_NEWS/MC_ENG_MARKETS_AS/MC_ENG_ROS_NWS_MKTS_AS_ATF_728\\n\\nMoneycontrol\\n\\nGo PRO NowPRO\\n\\nMoneycontrol PRO\\n\\nAdvertisement\\n\\nRemove Ad\\n\\nBusiness\\n\\nMarkets\\n\\nStocks\\n\\nEconomy\\n\\nCompanies\\n\\nTrends\\n\\nIPO\\n\\nOpinion\\n\\nEV Special\\n\\nSubscription Products\\n\\nprofile\\n\\nAmbareesh Baliga\\n\\nprofile\\n\\nCK Narayan\\n\\nprofile\\n\\nT Gnanasekar\\n\\nprofile\\n\\nPower Your Trade\\n\\nprofile\\n\\nCurrencies with Mecklai Financial\\n\\nprofile\\n\\nStock Reports\\n\\nHomeNewsBusinessMarketsWall Street rises as Tesla soars on AI optimism\\n\\nTrending Topics')"
      ]
     },
     "execution_count": 109,
     "metadata": {},
     "output_type": "execute_result"
    }
   ],
   "source": [
    "docs[0]"
   ]
  },
  {
   "cell_type": "code",
   "execution_count": 115,
   "id": "0ea36210-962a-41ad-bb8e-4d26eea4dc2f",
   "metadata": {},
   "outputs": [
    {
     "name": "stdout",
     "output_type": "stream",
     "text": [
      "Requirement already satisfied: sentence-transformers in c:\\users\\hp\\appdata\\local\\programs\\python\\python312\\lib\\site-packages (5.0.0)\n",
      "Requirement already satisfied: transformers<5.0.0,>=4.41.0 in c:\\users\\hp\\appdata\\local\\programs\\python\\python312\\lib\\site-packages (from sentence-transformers) (4.52.4)\n",
      "Requirement already satisfied: tqdm in c:\\users\\hp\\appdata\\local\\programs\\python\\python312\\lib\\site-packages (from sentence-transformers) (4.67.1)\n",
      "Requirement already satisfied: torch>=1.11.0 in c:\\users\\hp\\appdata\\local\\programs\\python\\python312\\lib\\site-packages (from sentence-transformers) (2.7.0)\n",
      "Requirement already satisfied: scikit-learn in c:\\users\\hp\\appdata\\local\\programs\\python\\python312\\lib\\site-packages (from sentence-transformers) (1.7.0)\n",
      "Requirement already satisfied: scipy in c:\\users\\hp\\appdata\\local\\programs\\python\\python312\\lib\\site-packages (from sentence-transformers) (1.16.0)\n",
      "Requirement already satisfied: huggingface-hub>=0.20.0 in c:\\users\\hp\\appdata\\local\\programs\\python\\python312\\lib\\site-packages (from sentence-transformers) (0.33.2)\n",
      "Requirement already satisfied: Pillow in c:\\users\\hp\\appdata\\local\\programs\\python\\python312\\lib\\site-packages (from sentence-transformers) (11.2.1)\n",
      "Requirement already satisfied: typing_extensions>=4.5.0 in c:\\users\\hp\\appdata\\local\\programs\\python\\python312\\lib\\site-packages (from sentence-transformers) (4.12.2)\n",
      "Requirement already satisfied: filelock in c:\\users\\hp\\appdata\\local\\programs\\python\\python312\\lib\\site-packages (from transformers<5.0.0,>=4.41.0->sentence-transformers) (3.18.0)\n",
      "Requirement already satisfied: numpy>=1.17 in c:\\users\\hp\\appdata\\local\\programs\\python\\python312\\lib\\site-packages (from transformers<5.0.0,>=4.41.0->sentence-transformers) (1.26.4)\n",
      "Requirement already satisfied: packaging>=20.0 in c:\\users\\hp\\appdata\\local\\programs\\python\\python312\\lib\\site-packages (from transformers<5.0.0,>=4.41.0->sentence-transformers) (24.0)\n",
      "Requirement already satisfied: pyyaml>=5.1 in c:\\users\\hp\\appdata\\local\\programs\\python\\python312\\lib\\site-packages (from transformers<5.0.0,>=4.41.0->sentence-transformers) (6.0.1)\n",
      "Requirement already satisfied: regex!=2019.12.17 in c:\\users\\hp\\appdata\\local\\programs\\python\\python312\\lib\\site-packages (from transformers<5.0.0,>=4.41.0->sentence-transformers) (2024.11.6)\n",
      "Requirement already satisfied: requests in c:\\users\\hp\\appdata\\local\\programs\\python\\python312\\lib\\site-packages (from transformers<5.0.0,>=4.41.0->sentence-transformers) (2.31.0)\n",
      "Requirement already satisfied: tokenizers<0.22,>=0.21 in c:\\users\\hp\\appdata\\local\\programs\\python\\python312\\lib\\site-packages (from transformers<5.0.0,>=4.41.0->sentence-transformers) (0.21.1)\n",
      "Requirement already satisfied: safetensors>=0.4.3 in c:\\users\\hp\\appdata\\local\\programs\\python\\python312\\lib\\site-packages (from transformers<5.0.0,>=4.41.0->sentence-transformers) (0.5.3)\n",
      "Requirement already satisfied: fsspec>=2023.5.0 in c:\\users\\hp\\appdata\\local\\programs\\python\\python312\\lib\\site-packages (from huggingface-hub>=0.20.0->sentence-transformers) (2025.5.1)\n",
      "Requirement already satisfied: sympy>=1.13.3 in c:\\users\\hp\\appdata\\local\\programs\\python\\python312\\lib\\site-packages (from torch>=1.11.0->sentence-transformers) (1.14.0)\n",
      "Requirement already satisfied: networkx in c:\\users\\hp\\appdata\\local\\programs\\python\\python312\\lib\\site-packages (from torch>=1.11.0->sentence-transformers) (3.5)\n",
      "Requirement already satisfied: jinja2 in c:\\users\\hp\\appdata\\local\\programs\\python\\python312\\lib\\site-packages (from torch>=1.11.0->sentence-transformers) (3.1.3)\n",
      "Requirement already satisfied: setuptools in c:\\users\\hp\\appdata\\local\\programs\\python\\python312\\lib\\site-packages (from torch>=1.11.0->sentence-transformers) (75.6.0)\n",
      "Requirement already satisfied: mpmath<1.4,>=1.1.0 in c:\\users\\hp\\appdata\\local\\programs\\python\\python312\\lib\\site-packages (from sympy>=1.13.3->torch>=1.11.0->sentence-transformers) (1.3.0)\n",
      "Requirement already satisfied: colorama in c:\\users\\hp\\appdata\\local\\programs\\python\\python312\\lib\\site-packages (from tqdm->sentence-transformers) (0.4.6)\n",
      "Requirement already satisfied: MarkupSafe>=2.0 in c:\\users\\hp\\appdata\\local\\programs\\python\\python312\\lib\\site-packages (from jinja2->torch>=1.11.0->sentence-transformers) (2.1.5)\n",
      "Requirement already satisfied: charset-normalizer<4,>=2 in c:\\users\\hp\\appdata\\local\\programs\\python\\python312\\lib\\site-packages (from requests->transformers<5.0.0,>=4.41.0->sentence-transformers) (3.3.2)\n",
      "Requirement already satisfied: idna<4,>=2.5 in c:\\users\\hp\\appdata\\local\\programs\\python\\python312\\lib\\site-packages (from requests->transformers<5.0.0,>=4.41.0->sentence-transformers) (3.6)\n",
      "Requirement already satisfied: urllib3<3,>=1.21.1 in c:\\users\\hp\\appdata\\local\\programs\\python\\python312\\lib\\site-packages (from requests->transformers<5.0.0,>=4.41.0->sentence-transformers) (2.2.1)\n",
      "Requirement already satisfied: certifi>=2017.4.17 in c:\\users\\hp\\appdata\\local\\programs\\python\\python312\\lib\\site-packages (from requests->transformers<5.0.0,>=4.41.0->sentence-transformers) (2024.2.2)\n",
      "Requirement already satisfied: joblib>=1.2.0 in c:\\users\\hp\\appdata\\local\\programs\\python\\python312\\lib\\site-packages (from scikit-learn->sentence-transformers) (1.5.1)\n",
      "Requirement already satisfied: threadpoolctl>=3.1.0 in c:\\users\\hp\\appdata\\local\\programs\\python\\python312\\lib\\site-packages (from scikit-learn->sentence-transformers) (3.6.0)\n",
      "Note: you may need to restart the kernel to use updated packages.\n"
     ]
    }
   ],
   "source": [
    "pip install sentence-transformers\n"
   ]
  },
  {
   "cell_type": "code",
   "execution_count": 118,
   "id": "079e7d5e-f884-4b8a-b26f-c7b115152473",
   "metadata": {},
   "outputs": [
    {
     "name": "stdout",
     "output_type": "stream",
     "text": [
      "Collecting hf_xet\n",
      "  Downloading hf_xet-1.1.5-cp37-abi3-win_amd64.whl.metadata (883 bytes)\n",
      "Downloading hf_xet-1.1.5-cp37-abi3-win_amd64.whl (2.7 MB)\n",
      "   ---------------------------------------- 0.0/2.7 MB ? eta -:--:--\n",
      "   --------------- ------------------------ 1.0/2.7 MB 6.3 MB/s eta 0:00:01\n",
      "   -------------------------- ------------- 1.8/2.7 MB 4.8 MB/s eta 0:00:01\n",
      "   ---------------------------------------- 2.7/2.7 MB 4.3 MB/s eta 0:00:00\n",
      "Installing collected packages: hf_xet\n",
      "Successfully installed hf_xet-1.1.5\n"
     ]
    }
   ],
   "source": [
    "!pip install hf_xet\n",
    "from langchain_community.embeddings import HuggingFaceEmbeddings\n",
    "\n",
    "embeddings = HuggingFaceEmbeddings(model_name=\"sentence-transformers/all-MiniLM-L6-v2\")\n"
   ]
  },
  {
   "cell_type": "code",
   "execution_count": 119,
   "id": "cd4e92e6-0a05-4a8c-9c5d-8de16a239ec3",
   "metadata": {},
   "outputs": [],
   "source": [
    "vectorindex= FAISS.from_documents(docs, embeddings)"
   ]
  },
  {
   "cell_type": "code",
   "execution_count": 137,
   "id": "006cd8d2-b8d9-4efb-afa9-8684aa3bdc82",
   "metadata": {},
   "outputs": [],
   "source": [
    "# Storing vector index create in local\n",
    "file_path=\"vector_index.pkl\"\n",
    "with open(file_path, \"wb\") as f:\n",
    "    pickle.dump(vectorindex, f)"
   ]
  },
  {
   "cell_type": "code",
   "execution_count": 138,
   "id": "57326b81-ae27-474e-bc3a-6acb2b6658ee",
   "metadata": {},
   "outputs": [],
   "source": [
    "if os.path.exists(file_path):\n",
    "    with open(file_path, \"rb\") as f:\n",
    "        vectorIndex = pickle.load(f)\n",
    "\n",
    "retriever = vectorIndex.as_retriever()"
   ]
  },
  {
   "cell_type": "code",
   "execution_count": 141,
   "id": "d8e7ada4-431c-4207-ae44-7c5b35e54311",
   "metadata": {
    "scrolled": true
   },
   "outputs": [
    {
     "name": "stdout",
     "output_type": "stream",
     "text": [
      "\u001b[32;1m\u001b[1;3m[chain/start]\u001b[0m \u001b[1m[chain:RetrievalQA] Entering Chain run with input:\n",
      "\u001b[0m{\n",
      "  \"query\": \"What is the price of Tiago iCNG?\"\n",
      "}\n",
      "\u001b[32;1m\u001b[1;3m[chain/start]\u001b[0m \u001b[1m[chain:RetrievalQA > chain:RefineDocumentsChain] Entering Chain run with input:\n",
      "\u001b[0m[inputs]\n",
      "\u001b[32;1m\u001b[1;3m[chain/start]\u001b[0m \u001b[1m[chain:RetrievalQA > chain:RefineDocumentsChain > chain:LLMChain] Entering Chain run with input:\n",
      "\u001b[0m{\n",
      "  \"context_str\": \"The company also said it has also introduced the twin-cylinder technology on its Tiago and Tigor models.\\n\\nThe Tiago iCNG is priced between Rs 6.55 lakh and Rs 8.1 lakh, while the Tigor iCNG comes at a price range of Rs 7.8 lakh to Rs 8.95 lakh.\\n\\nTata Motors Passenger Vehicles Ltd Head-Marketing, Vinay Pant said these introductions put together will make the company's CNG line up \\\"appealing, holistic, and stronger than ever\\\".\\n\\nPTI\\n\\nfirst published: Aug 4, 2023 02:17 pm\\n\\nDiscover the latest Business News, Budget 2025 News, Sensex, and Nifty updates. Obtain Personal Finance insights, tax queries, and expert opinions on Moneycontrol or download the Moneycontrol App to stay updated!\\n\\nAdvertisement\\n\\nRemove Ad\\n\\nAdvertisement\\n\\nRemove Ad\\n\\nAdvertisement\\n\\nRemove Ad\\n\\nAdvertisement\\n\\nRemove Ad\\n\\nAdvertisement\\n\\nRemove Ad\\n\\nAdvertisement\\n\\nRemove Ad\\n\\nAdvisory Alert:\\n\\nmoneycontrol\\n\\nFollow Us On:\\n\\nFacebook\\n\\ntwitter\\n\\ninstagram\\n\\nlinkedin\\n\\ntelegram\\n\\nyoutube\",\n",
      "  \"question\": \"What is the price of Tiago iCNG?\"\n",
      "}\n",
      "\u001b[32;1m\u001b[1;3m[llm/start]\u001b[0m \u001b[1m[chain:RetrievalQA > chain:RefineDocumentsChain > chain:LLMChain > llm:GoogleGenerativeAI] Entering LLM run with input:\n",
      "\u001b[0m{\n",
      "  \"prompts\": [\n",
      "    \"Context information is below. \\n------------\\nThe company also said it has also introduced the twin-cylinder technology on its Tiago and Tigor models.\\n\\nThe Tiago iCNG is priced between Rs 6.55 lakh and Rs 8.1 lakh, while the Tigor iCNG comes at a price range of Rs 7.8 lakh to Rs 8.95 lakh.\\n\\nTata Motors Passenger Vehicles Ltd Head-Marketing, Vinay Pant said these introductions put together will make the company's CNG line up \\\"appealing, holistic, and stronger than ever\\\".\\n\\nPTI\\n\\nfirst published: Aug 4, 2023 02:17 pm\\n\\nDiscover the latest Business News, Budget 2025 News, Sensex, and Nifty updates. Obtain Personal Finance insights, tax queries, and expert opinions on Moneycontrol or download the Moneycontrol App to stay updated!\\n\\nAdvertisement\\n\\nRemove Ad\\n\\nAdvertisement\\n\\nRemove Ad\\n\\nAdvertisement\\n\\nRemove Ad\\n\\nAdvertisement\\n\\nRemove Ad\\n\\nAdvertisement\\n\\nRemove Ad\\n\\nAdvertisement\\n\\nRemove Ad\\n\\nAdvisory Alert:\\n\\nmoneycontrol\\n\\nFollow Us On:\\n\\nFacebook\\n\\ntwitter\\n\\ninstagram\\n\\nlinkedin\\n\\ntelegram\\n\\nyoutube\\n------------\\nGiven the context information and not prior knowledge, answer the question: What is the price of Tiago iCNG?\"\n",
      "  ]\n",
      "}\n",
      "\u001b[36;1m\u001b[1;3m[llm/end]\u001b[0m \u001b[1m[chain:RetrievalQA > chain:RefineDocumentsChain > chain:LLMChain > llm:GoogleGenerativeAI] [673ms] Exiting LLM run with output:\n",
      "\u001b[0m{\n",
      "  \"generations\": [\n",
      "    [\n",
      "      {\n",
      "        \"text\": \"The Tiago iCNG is priced between Rs 6.55 lakh and Rs 8.1 lakh.\\n\",\n",
      "        \"generation_info\": {\n",
      "          \"usage_metadata\": {\n",
      "            \"prompt_token_count\": 269,\n",
      "            \"candidates_token_count\": 24,\n",
      "            \"total_token_count\": 293,\n",
      "            \"cached_content_token_count\": 0\n",
      "          }\n",
      "        },\n",
      "        \"type\": \"Generation\"\n",
      "      }\n",
      "    ]\n",
      "  ],\n",
      "  \"llm_output\": null,\n",
      "  \"run\": null,\n",
      "  \"type\": \"LLMResult\"\n",
      "}\n",
      "\u001b[36;1m\u001b[1;3m[chain/end]\u001b[0m \u001b[1m[chain:RetrievalQA > chain:RefineDocumentsChain > chain:LLMChain] [675ms] Exiting Chain run with output:\n",
      "\u001b[0m{\n",
      "  \"text\": \"The Tiago iCNG is priced between Rs 6.55 lakh and Rs 8.1 lakh.\\n\"\n",
      "}\n",
      "\u001b[32;1m\u001b[1;3m[chain/start]\u001b[0m \u001b[1m[chain:RetrievalQA > chain:RefineDocumentsChain > chain:LLMChain] Entering Chain run with input:\n",
      "\u001b[0m{\n",
      "  \"context_str\": \"Tata Motors launches Punch iCNG, price starts at Rs 7.1 lakh\\n\\nWatchlist\\n\\nPortfolio\\n\\nMessage\\n\\nSet Alert\\n\\nlive\\n\\nbselive\\n\\nnselive\\n\\nVolume\\n\\nTodays L/H\\n\\nMore\\n\\nTata Motors on Friday launched the CNG variant of its micro SUV Punch priced between Rs 7.1 lakh and Rs 9.68 lakh (ex-showroom, Delhi).\\n\\nThe Punch iCNG is equipped with the company's proprietary twin-cylinder technology with enhanced safety features like a micro-switch to keep the car switched off at the time of refuelling and thermal incident protection that cuts off CNG supply to the engine and releases gas into the atmosphere, Tata Motors said in a statement.\\n\\nStory continues below Advertisement\\n\\nRemove Ad\\n\\nIt is also equipped with other features such as voice assisted electric sunroof, automatic projector headlamps, LED DRLs, 16-inch diamond cut alloy wheels, 7-inch infotainment system by Harman that supports Android Auto and Apple Carplay connectivity, rain sensing wipers and height adjustable driver seat.\",\n",
      "  \"existing_answer\": \"The Tiago iCNG is priced between Rs 6.55 lakh and Rs 8.1 lakh.\\n\",\n",
      "  \"question\": \"What is the price of Tiago iCNG?\"\n",
      "}\n",
      "\u001b[32;1m\u001b[1;3m[llm/start]\u001b[0m \u001b[1m[chain:RetrievalQA > chain:RefineDocumentsChain > chain:LLMChain > llm:GoogleGenerativeAI] Entering LLM run with input:\n",
      "\u001b[0m{\n",
      "  \"prompts\": [\n",
      "    \"The original question is as follows: What is the price of Tiago iCNG?\\nWe have provided an existing answer: The Tiago iCNG is priced between Rs 6.55 lakh and Rs 8.1 lakh.\\n\\nWe have the opportunity to refine the existing answer (only if needed) with some more context below.\\n------------\\nTata Motors launches Punch iCNG, price starts at Rs 7.1 lakh\\n\\nWatchlist\\n\\nPortfolio\\n\\nMessage\\n\\nSet Alert\\n\\nlive\\n\\nbselive\\n\\nnselive\\n\\nVolume\\n\\nTodays L/H\\n\\nMore\\n\\nTata Motors on Friday launched the CNG variant of its micro SUV Punch priced between Rs 7.1 lakh and Rs 9.68 lakh (ex-showroom, Delhi).\\n\\nThe Punch iCNG is equipped with the company's proprietary twin-cylinder technology with enhanced safety features like a micro-switch to keep the car switched off at the time of refuelling and thermal incident protection that cuts off CNG supply to the engine and releases gas into the atmosphere, Tata Motors said in a statement.\\n\\nStory continues below Advertisement\\n\\nRemove Ad\\n\\nIt is also equipped with other features such as voice assisted electric sunroof, automatic projector headlamps, LED DRLs, 16-inch diamond cut alloy wheels, 7-inch infotainment system by Harman that supports Android Auto and Apple Carplay connectivity, rain sensing wipers and height adjustable driver seat.\\n------------\\nGiven the new context, refine the original answer to better answer the question. If the context isn't useful, return the original answer.\"\n",
      "  ]\n",
      "}\n",
      "\u001b[36;1m\u001b[1;3m[llm/end]\u001b[0m \u001b[1m[chain:RetrievalQA > chain:RefineDocumentsChain > chain:LLMChain > llm:GoogleGenerativeAI] [1.50s] Exiting LLM run with output:\n",
      "\u001b[0m{\n",
      "  \"generations\": [\n",
      "    [\n",
      "      {\n",
      "        \"text\": \"The provided text refers to the price of the Tata Punch iCNG, not the Tiago iCNG.  Therefore, the original answer remains the best available: The Tiago iCNG is priced between Rs 6.55 lakh and Rs 8.1 lakh.\\n\",\n",
      "        \"generation_info\": {\n",
      "          \"usage_metadata\": {\n",
      "            \"prompt_token_count\": 323,\n",
      "            \"candidates_token_count\": 57,\n",
      "            \"total_token_count\": 380,\n",
      "            \"cached_content_token_count\": 0\n",
      "          }\n",
      "        },\n",
      "        \"type\": \"Generation\"\n",
      "      }\n",
      "    ]\n",
      "  ],\n",
      "  \"llm_output\": null,\n",
      "  \"run\": null,\n",
      "  \"type\": \"LLMResult\"\n",
      "}\n",
      "\u001b[36;1m\u001b[1;3m[chain/end]\u001b[0m \u001b[1m[chain:RetrievalQA > chain:RefineDocumentsChain > chain:LLMChain] [1.50s] Exiting Chain run with output:\n",
      "\u001b[0m{\n",
      "  \"text\": \"The provided text refers to the price of the Tata Punch iCNG, not the Tiago iCNG.  Therefore, the original answer remains the best available: The Tiago iCNG is priced between Rs 6.55 lakh and Rs 8.1 lakh.\\n\"\n",
      "}\n",
      "\u001b[32;1m\u001b[1;3m[chain/start]\u001b[0m \u001b[1m[chain:RetrievalQA > chain:RefineDocumentsChain > chain:LLMChain] Entering Chain run with input:\n",
      "\u001b[0m{\n",
      "  \"context_str\": \"profile\\n\\nPower Your Trade\\n\\nprofile\\n\\nCurrencies with Mecklai Financial\\n\\nprofile\\n\\nStock Reports\\n\\nHomeNewsBusinessTata Motors launches Punch iCNG, price starts at Rs 7.1 lakh\\n\\nTrending Topics\\n\\nSensex LiveSensex NiftyNuvama Wealth Shares Ace Alpha Tech Share PriceValencia India share price\\n\\nTata Motors launches Punch iCNG, price starts at Rs 7.1 lakh\\n\\nThe Punch iCNG is equipped with the company's proprietary twin-cylinder technology with enhanced safety features like a micro-switch to keep the car switched off at the time of refuelling and thermal incident protection that cuts off CNG supply to the engine and releases gas into the atmosphere, Tata Motors said in a statement.\\n\\nPTI\\n\\nAugust 04, 2023 / 14:17 IST\\n\\nTata Motors launches Punch iCNG, price starts at Rs 7.1 lakh\\n\\nTata Motors launches Punch iCNG, price starts at Rs 7.1 lakh\\n\\nWatchlist\\n\\nPortfolio\\n\\nMessage\\n\\nSet Alert\\n\\nlive\\n\\nbselive\\n\\nnselive\\n\\nVolume\\n\\nTodays L/H\\n\\nMore\",\n",
      "  \"existing_answer\": \"The provided text refers to the price of the Tata Punch iCNG, not the Tiago iCNG.  Therefore, the original answer remains the best available: The Tiago iCNG is priced between Rs 6.55 lakh and Rs 8.1 lakh.\\n\",\n",
      "  \"question\": \"What is the price of Tiago iCNG?\"\n",
      "}\n",
      "\u001b[32;1m\u001b[1;3m[llm/start]\u001b[0m \u001b[1m[chain:RetrievalQA > chain:RefineDocumentsChain > chain:LLMChain > llm:GoogleGenerativeAI] Entering LLM run with input:\n",
      "\u001b[0m{\n",
      "  \"prompts\": [\n",
      "    \"The original question is as follows: What is the price of Tiago iCNG?\\nWe have provided an existing answer: The provided text refers to the price of the Tata Punch iCNG, not the Tiago iCNG.  Therefore, the original answer remains the best available: The Tiago iCNG is priced between Rs 6.55 lakh and Rs 8.1 lakh.\\n\\nWe have the opportunity to refine the existing answer (only if needed) with some more context below.\\n------------\\nprofile\\n\\nPower Your Trade\\n\\nprofile\\n\\nCurrencies with Mecklai Financial\\n\\nprofile\\n\\nStock Reports\\n\\nHomeNewsBusinessTata Motors launches Punch iCNG, price starts at Rs 7.1 lakh\\n\\nTrending Topics\\n\\nSensex LiveSensex NiftyNuvama Wealth Shares Ace Alpha Tech Share PriceValencia India share price\\n\\nTata Motors launches Punch iCNG, price starts at Rs 7.1 lakh\\n\\nThe Punch iCNG is equipped with the company's proprietary twin-cylinder technology with enhanced safety features like a micro-switch to keep the car switched off at the time of refuelling and thermal incident protection that cuts off CNG supply to the engine and releases gas into the atmosphere, Tata Motors said in a statement.\\n\\nPTI\\n\\nAugust 04, 2023 / 14:17 IST\\n\\nTata Motors launches Punch iCNG, price starts at Rs 7.1 lakh\\n\\nTata Motors launches Punch iCNG, price starts at Rs 7.1 lakh\\n\\nWatchlist\\n\\nPortfolio\\n\\nMessage\\n\\nSet Alert\\n\\nlive\\n\\nbselive\\n\\nnselive\\n\\nVolume\\n\\nTodays L/H\\n\\nMore\\n------------\\nGiven the new context, refine the original answer to better answer the question. If the context isn't useful, return the original answer.\"\n",
      "  ]\n",
      "}\n",
      "\u001b[36;1m\u001b[1;3m[llm/end]\u001b[0m \u001b[1m[chain:RetrievalQA > chain:RefineDocumentsChain > chain:LLMChain > llm:GoogleGenerativeAI] [986ms] Exiting LLM run with output:\n",
      "\u001b[0m{\n",
      "  \"generations\": [\n",
      "    [\n",
      "      {\n",
      "        \"text\": \"The provided text only gives the price of the Tata Punch iCNG, not the Tiago iCNG.  Therefore, the price range of Rs 6.55 lakh to Rs 8.1 lakh for the Tiago iCNG remains the best available information.  However, it's important to note that this price may vary depending on location and specific features.\\n\",\n",
      "        \"generation_info\": {\n",
      "          \"usage_metadata\": {\n",
      "            \"prompt_token_count\": 369,\n",
      "            \"candidates_token_count\": 77,\n",
      "            \"total_token_count\": 446,\n",
      "            \"cached_content_token_count\": 0\n",
      "          }\n",
      "        },\n",
      "        \"type\": \"Generation\"\n",
      "      }\n",
      "    ]\n",
      "  ],\n",
      "  \"llm_output\": null,\n",
      "  \"run\": null,\n",
      "  \"type\": \"LLMResult\"\n",
      "}\n",
      "\u001b[36;1m\u001b[1;3m[chain/end]\u001b[0m \u001b[1m[chain:RetrievalQA > chain:RefineDocumentsChain > chain:LLMChain] [986ms] Exiting Chain run with output:\n",
      "\u001b[0m{\n",
      "  \"text\": \"The provided text only gives the price of the Tata Punch iCNG, not the Tiago iCNG.  Therefore, the price range of Rs 6.55 lakh to Rs 8.1 lakh for the Tiago iCNG remains the best available information.  However, it's important to note that this price may vary depending on location and specific features.\\n\"\n",
      "}\n",
      "\u001b[32;1m\u001b[1;3m[chain/start]\u001b[0m \u001b[1m[chain:RetrievalQA > chain:RefineDocumentsChain > chain:LLMChain] Entering Chain run with input:\n",
      "\u001b[0m{\n",
      "  \"context_str\": \"English\\n\\nHindi\\n\\nGujarati\\n\\nSpecials\\n\\nHello, Login\\n\\nHello, Login\\n\\nLog-inor Sign-Up\\n\\nMy Account\\n\\nMy Profile\\n\\nMy Portfolio\\n\\nMy Watchlist\\n\\nMy Alerts\\n\\nMy Messages\\n\\nPrice Alerts\\n\\nMy Profile\\n\\nMy PRO\\n\\nMy Portfolio\\n\\nMy Watchlist\\n\\nMy Alerts\\n\\nMy Messages\\n\\nPrice Alerts\\n\\nLogout\\n\\nLoans up to ₹50 LAKHS\\n\\nFixed Deposits\\n\\nCredit CardsLifetime Free\\n\\nCredit Score\\n\\nChat with Us\\n\\nDownload App\\n\\nFollow us on:\\n\\nNetwork 18\\n\\nGo Ad-Free\\n\\nMy Alerts\\n\\n>->MC_ENG_DESKTOP/MC_ENG_NEWS/MC_ENG_BUSINESS_AS/MC_ENG_ROS_NWS_BUS_AS_ATF_728\\n\\nMoneycontrol\\n\\nGo PRO NowPRO\\n\\nMoneycontrol PRO\\n\\nAdvertisement\\n\\nRemove Ad\\n\\nBusiness\\n\\nMarkets\\n\\nStocks\\n\\nEconomy\\n\\nCompanies\\n\\nTrends\\n\\nIPO\\n\\nOpinion\\n\\nEV Special\\n\\nSubscription Products\\n\\nprofile\\n\\nAmbareesh Baliga\\n\\nprofile\\n\\nCK Narayan\\n\\nprofile\\n\\nT Gnanasekar\\n\\nprofile\\n\\nPower Your Trade\\n\\nprofile\\n\\nCurrencies with Mecklai Financial\\n\\nprofile\\n\\nStock Reports\\n\\nHomeNewsBusinessTata Motors launches Punch iCNG, price starts at Rs 7.1 lakh\\n\\nTrending Topics\",\n",
      "  \"existing_answer\": \"The provided text only gives the price of the Tata Punch iCNG, not the Tiago iCNG.  Therefore, the price range of Rs 6.55 lakh to Rs 8.1 lakh for the Tiago iCNG remains the best available information.  However, it's important to note that this price may vary depending on location and specific features.\\n\",\n",
      "  \"question\": \"What is the price of Tiago iCNG?\"\n",
      "}\n",
      "\u001b[32;1m\u001b[1;3m[llm/start]\u001b[0m \u001b[1m[chain:RetrievalQA > chain:RefineDocumentsChain > chain:LLMChain > llm:GoogleGenerativeAI] Entering LLM run with input:\n",
      "\u001b[0m{\n",
      "  \"prompts\": [\n",
      "    \"The original question is as follows: What is the price of Tiago iCNG?\\nWe have provided an existing answer: The provided text only gives the price of the Tata Punch iCNG, not the Tiago iCNG.  Therefore, the price range of Rs 6.55 lakh to Rs 8.1 lakh for the Tiago iCNG remains the best available information.  However, it's important to note that this price may vary depending on location and specific features.\\n\\nWe have the opportunity to refine the existing answer (only if needed) with some more context below.\\n------------\\nEnglish\\n\\nHindi\\n\\nGujarati\\n\\nSpecials\\n\\nHello, Login\\n\\nHello, Login\\n\\nLog-inor Sign-Up\\n\\nMy Account\\n\\nMy Profile\\n\\nMy Portfolio\\n\\nMy Watchlist\\n\\nMy Alerts\\n\\nMy Messages\\n\\nPrice Alerts\\n\\nMy Profile\\n\\nMy PRO\\n\\nMy Portfolio\\n\\nMy Watchlist\\n\\nMy Alerts\\n\\nMy Messages\\n\\nPrice Alerts\\n\\nLogout\\n\\nLoans up to ₹50 LAKHS\\n\\nFixed Deposits\\n\\nCredit CardsLifetime Free\\n\\nCredit Score\\n\\nChat with Us\\n\\nDownload App\\n\\nFollow us on:\\n\\nNetwork 18\\n\\nGo Ad-Free\\n\\nMy Alerts\\n\\n>->MC_ENG_DESKTOP/MC_ENG_NEWS/MC_ENG_BUSINESS_AS/MC_ENG_ROS_NWS_BUS_AS_ATF_728\\n\\nMoneycontrol\\n\\nGo PRO NowPRO\\n\\nMoneycontrol PRO\\n\\nAdvertisement\\n\\nRemove Ad\\n\\nBusiness\\n\\nMarkets\\n\\nStocks\\n\\nEconomy\\n\\nCompanies\\n\\nTrends\\n\\nIPO\\n\\nOpinion\\n\\nEV Special\\n\\nSubscription Products\\n\\nprofile\\n\\nAmbareesh Baliga\\n\\nprofile\\n\\nCK Narayan\\n\\nprofile\\n\\nT Gnanasekar\\n\\nprofile\\n\\nPower Your Trade\\n\\nprofile\\n\\nCurrencies with Mecklai Financial\\n\\nprofile\\n\\nStock Reports\\n\\nHomeNewsBusinessTata Motors launches Punch iCNG, price starts at Rs 7.1 lakh\\n\\nTrending Topics\\n------------\\nGiven the new context, refine the original answer to better answer the question. If the context isn't useful, return the original answer.\"\n",
      "  ]\n",
      "}\n",
      "\u001b[36;1m\u001b[1;3m[llm/end]\u001b[0m \u001b[1m[chain:RetrievalQA > chain:RefineDocumentsChain > chain:LLMChain > llm:GoogleGenerativeAI] [1.53s] Exiting LLM run with output:\n",
      "\u001b[0m{\n",
      "  \"generations\": [\n",
      "    [\n",
      "      {\n",
      "        \"text\": \"The provided text only gives the price of the Tata Punch iCNG, not the Tiago iCNG.  Therefore, I cannot provide a definitive price for the Tiago iCNG.  The previously stated price range of Rs 6.55 lakh to Rs 8.1 lakh remains the best available information, but should be considered an estimate.  Actual pricing will vary depending on location and specific features.  To find the exact current price, it is recommended to check the official Tata Motors website or contact a local Tata dealership.\\n\",\n",
      "        \"generation_info\": {\n",
      "          \"usage_metadata\": {\n",
      "            \"prompt_token_count\": 417,\n",
      "            \"candidates_token_count\": 110,\n",
      "            \"total_token_count\": 527,\n",
      "            \"cached_content_token_count\": 0\n",
      "          }\n",
      "        },\n",
      "        \"type\": \"Generation\"\n",
      "      }\n",
      "    ]\n",
      "  ],\n",
      "  \"llm_output\": null,\n",
      "  \"run\": null,\n",
      "  \"type\": \"LLMResult\"\n",
      "}\n",
      "\u001b[36;1m\u001b[1;3m[chain/end]\u001b[0m \u001b[1m[chain:RetrievalQA > chain:RefineDocumentsChain > chain:LLMChain] [1.53s] Exiting Chain run with output:\n",
      "\u001b[0m{\n",
      "  \"text\": \"The provided text only gives the price of the Tata Punch iCNG, not the Tiago iCNG.  Therefore, I cannot provide a definitive price for the Tiago iCNG.  The previously stated price range of Rs 6.55 lakh to Rs 8.1 lakh remains the best available information, but should be considered an estimate.  Actual pricing will vary depending on location and specific features.  To find the exact current price, it is recommended to check the official Tata Motors website or contact a local Tata dealership.\\n\"\n",
      "}\n",
      "\u001b[36;1m\u001b[1;3m[chain/end]\u001b[0m \u001b[1m[chain:RetrievalQA > chain:RefineDocumentsChain] [4.69s] Exiting Chain run with output:\n",
      "\u001b[0m{\n",
      "  \"output_text\": \"The provided text only gives the price of the Tata Punch iCNG, not the Tiago iCNG.  Therefore, I cannot provide a definitive price for the Tiago iCNG.  The previously stated price range of Rs 6.55 lakh to Rs 8.1 lakh remains the best available information, but should be considered an estimate.  Actual pricing will vary depending on location and specific features.  To find the exact current price, it is recommended to check the official Tata Motors website or contact a local Tata dealership.\\n\"\n",
      "}\n",
      "\u001b[36;1m\u001b[1;3m[chain/end]\u001b[0m \u001b[1m[chain:RetrievalQA] [4.71s] Exiting Chain run with output:\n",
      "\u001b[0m[outputs]\n",
      "Answer: The provided text only gives the price of the Tata Punch iCNG, not the Tiago iCNG.  Therefore, I cannot provide a definitive price for the Tiago iCNG.  The previously stated price range of Rs 6.55 lakh to Rs 8.1 lakh remains the best available information, but should be considered an estimate.  Actual pricing will vary depending on location and specific features.  To find the exact current price, it is recommended to check the official Tata Motors website or contact a local Tata dealership.\n",
      "\n",
      "Sources:\n",
      "- https://www.moneycontrol.com/news/business/tata-motors-launches-punch-icng-price-starts-at-rs-7-1-lakh-11098751.html\n",
      "- https://www.moneycontrol.com/news/business/tata-motors-launches-punch-icng-price-starts-at-rs-7-1-lakh-11098751.html\n",
      "- https://www.moneycontrol.com/news/business/tata-motors-launches-punch-icng-price-starts-at-rs-7-1-lakh-11098751.html\n",
      "- https://www.moneycontrol.com/news/business/tata-motors-launches-punch-icng-price-starts-at-rs-7-1-lakh-11098751.html\n"
     ]
    }
   ],
   "source": [
    "# 6. Retrieval QA Chain using \"stuff\" instead of \"map_reduce\"\n",
    "from langchain.chains import RetrievalQA\n",
    "qa_chain = RetrievalQA.from_chain_type(\n",
    "    llm=llm,\n",
    "    chain_type=\"refine\",\n",
    "    retriever=retriever,\n",
    "    return_source_documents=True\n",
    ")\n",
    "\n",
    "# 7. Ask a question\n",
    "query = \"What is the price of Tiago iCNG?\"\n",
    "result = qa_chain.invoke({\"query\": query})\n",
    "\n",
    "# 8. Print result\n",
    "print(\"Answer:\", result[\"result\"])\n",
    "print(\"Sources:\")\n",
    "for doc in result[\"source_documents\"]:\n",
    "    print(\"-\", doc.metadata.get(\"source\", \"Unknown\"))"
   ]
  },
  {
   "cell_type": "code",
   "execution_count": null,
   "id": "09580ff3-5723-4ac7-b2f2-08ac6eaef8a9",
   "metadata": {},
   "outputs": [],
   "source": []
  }
 ],
 "metadata": {
  "kernelspec": {
   "display_name": "Python 3 (ipykernel)",
   "language": "python",
   "name": "python3"
  },
  "language_info": {
   "codemirror_mode": {
    "name": "ipython",
    "version": 3
   },
   "file_extension": ".py",
   "mimetype": "text/x-python",
   "name": "python",
   "nbconvert_exporter": "python",
   "pygments_lexer": "ipython3",
   "version": "3.12.3"
  }
 },
 "nbformat": 4,
 "nbformat_minor": 5
}
